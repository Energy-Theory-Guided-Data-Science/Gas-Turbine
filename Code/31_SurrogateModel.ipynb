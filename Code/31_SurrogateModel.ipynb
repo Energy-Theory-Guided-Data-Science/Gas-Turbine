{
 "cells": [
  {
   "cell_type": "code",
   "execution_count": 15,
   "metadata": {},
   "outputs": [],
   "source": [
    "import Preprocessing as pp\n",
    "import datetime\n",
    "from sklearn.metrics import mean_squared_error\n",
    "from math import sqrt\n",
    "from matplotlib import pyplot as plt\n",
    "import pandas as pd\n",
    "import numpy as np\n",
    "from sklearn.preprocessing import MinMaxScaler\n",
    "\n",
    "import time\n",
    "\n",
    "from keras.models import Sequential\n",
    "from keras.layers import Dense\n",
    "from keras.layers import LSTM\n",
    "\n",
    "import time\n",
    "timestr = time.strftime(\"%Y-%m-%d_%H-%M\")"
   ]
  },
  {
   "cell_type": "code",
   "execution_count": 2,
   "metadata": {},
   "outputs": [
    {
     "name": "stdout",
     "output_type": "stream",
     "text": [
      "Folder already exists.\n",
      "Folder already exists.\n",
      "Creation of directory ../Images/Surrogate_Model/ successful.\n"
     ]
    }
   ],
   "source": [
    "temp_data_folder = \"../Data/Temp_Data/\"\n",
    "image_path = \"../Images/\"\n",
    "image_subfolder = \"Surrogate_Model/\"\n",
    "image_folder = image_path + image_subfolder\n",
    "\n",
    "pp.checkFolder(temp_data_folder)\n",
    "pp.checkFolder(image_path)\n",
    "pp.checkFolder(image_folder)"
   ]
  },
  {
   "cell_type": "code",
   "execution_count": 5,
   "metadata": {},
   "outputs": [],
   "source": [
    "kit_orange = pp.getColor('orange')\n",
    "kit_green = pp.getColor('green')\n",
    "kit_blue = pp.getColor('blue')\n",
    "kit_cyan = pp.getColor('cyan')\n",
    "kit_red = pp.getColor('red')\n",
    "kit_lightgreen = pp.getColor('lightgreen')\n",
    "kit_grey = pp.getColor('grey')"
   ]
  },
  {
   "cell_type": "code",
   "execution_count": 6,
   "metadata": {},
   "outputs": [],
   "source": [
    "exp_4 = pp.openCSVFile('experiment_4b_short.csv', temp_data_folder)"
   ]
  },
  {
   "cell_type": "code",
   "execution_count": 12,
   "metadata": {},
   "outputs": [],
   "source": [
    "exp_1 = pp.openCSVFile('experiment_1_short.csv', temp_data_folder)"
   ]
  },
  {
   "cell_type": "code",
   "execution_count": 120,
   "metadata": {},
   "outputs": [],
   "source": [
    "xt = np.array(exp_4['input_voltage'][30:])\n",
    "yt = np.array(exp_4['el_power'][30:])"
   ]
  },
  {
   "cell_type": "code",
   "execution_count": 88,
   "metadata": {},
   "outputs": [
    {
     "name": "stdout",
     "output_type": "stream",
     "text": [
      "___________________________________________________________________________\n",
      "   \n",
      "                                    LS\n",
      "___________________________________________________________________________\n",
      "   \n",
      " Problem size\n",
      "   \n",
      "      # training points.        : 10510\n",
      "   \n",
      "___________________________________________________________________________\n",
      "   \n",
      " Training\n",
      "   \n",
      "   Training ...\n",
      "   Training - done. Time (sec):  0.0020001\n"
     ]
    }
   ],
   "source": [
    "from smt import surrogate_models as sm\n",
    "\n",
    "model = sm.LS()\n",
    "model.set_training_values(xt, yt)\n",
    "model.train()"
   ]
  },
  {
   "cell_type": "code",
   "execution_count": 89,
   "metadata": {},
   "outputs": [
    {
     "name": "stdout",
     "output_type": "stream",
     "text": [
      "___________________________________________________________________________\n",
      "   \n",
      " Evaluation\n",
      "   \n",
      "      # eval points. : 9925\n",
      "   \n",
      "   Predicting ...\n",
      "   Predicting - done. Time (sec):  0.0000000\n",
      "   \n",
      "   Prediction time/pt. (sec) :  0.0000000\n",
      "   \n"
     ]
    }
   ],
   "source": [
    "xtest = np.array(exp_1['input_voltage'])\n",
    "pred_1 = model.predict_values(xtest)"
   ]
  },
  {
   "cell_type": "code",
   "execution_count": 90,
   "metadata": {},
   "outputs": [
    {
     "data": {
      "text/plain": [
       "[<matplotlib.lines.Line2D at 0x188d0c12670>]"
      ]
     },
     "execution_count": 90,
     "metadata": {},
     "output_type": "execute_result"
    },
    {
     "data": {
      "image/png": "[encoded data removed]",
      "text/plain": [
       "<Figure size 432x288 with 1 Axes>"
      ]
     },
     "metadata": {
      "needs_background": "light"
     },
     "output_type": "display_data"
    }
   ],
   "source": [
    "plt.plot(exp_1['time'], exp_1['el_power'])\n",
    "plt.plot(exp_1['time'], pred_1)"
   ]
  },
  {
   "cell_type": "code",
   "execution_count": 91,
   "metadata": {},
   "outputs": [],
   "source": [
    "diff_4 = exp_4.set_index('time').diff(30)"
   ]
  },
  {
   "cell_type": "code",
   "execution_count": 92,
   "metadata": {},
   "outputs": [],
   "source": [
    "diff_1 = exp_1.set_index('time').diff(30)"
   ]
  },
  {
   "cell_type": "code",
   "execution_count": 99,
   "metadata": {},
   "outputs": [],
   "source": [
    "dyt_dxt = np.array(diff_4['el_power'][30:])"
   ]
  },
  {
   "cell_type": "code",
   "execution_count": 100,
   "metadata": {},
   "outputs": [],
   "source": [
    "dyv_dxv = np.array(diff_1['el_power'][30:])"
   ]
  },
  {
   "cell_type": "code",
   "execution_count": 101,
   "metadata": {},
   "outputs": [],
   "source": [
    "xv = np.array(exp_1['input_voltage'][30:])\n",
    "yv = np.array(exp_1['el_power'][30:])"
   ]
  },
  {
   "cell_type": "code",
   "execution_count": 113,
   "metadata": {},
   "outputs": [
    {
     "name": "stdout",
     "output_type": "stream",
     "text": [
      "___________________________________________________________________________\n",
      "   \n",
      "                                   GENN\n",
      "___________________________________________________________________________\n",
      "   \n",
      " Problem size\n",
      "   \n",
      "      # training points.        : 10510\n",
      "   \n",
      "___________________________________________________________________________\n",
      "   \n",
      " Training\n",
      "   \n",
      "   Training ...\n",
      "epoch = 0, mini-batch = 0, avg cost =  0.272\n",
      "epoch = 0, mini-batch = 1, avg cost =  0.191\n",
      "epoch = 0, mini-batch = 2, avg cost =  0.190\n",
      "epoch = 0, mini-batch = 3, avg cost =  0.216\n",
      "epoch = 0, mini-batch = 4, avg cost =  0.223\n",
      "epoch = 0, mini-batch = 5, avg cost =  0.186\n",
      "epoch = 0, mini-batch = 6, avg cost =  0.200\n",
      "epoch = 0, mini-batch = 7, avg cost =  0.229\n",
      "epoch = 0, mini-batch = 8, avg cost =  0.212\n",
      "epoch = 0, mini-batch = 9, avg cost =  0.190\n",
      "epoch = 0, mini-batch = 10, avg cost =  0.208\n",
      "epoch = 1, mini-batch = 0, avg cost =  0.219\n",
      "epoch = 1, mini-batch = 1, avg cost =  0.232\n",
      "epoch = 1, mini-batch = 2, avg cost =  0.211\n",
      "epoch = 1, mini-batch = 3, avg cost =  0.182\n",
      "epoch = 1, mini-batch = 4, avg cost =  0.186\n",
      "epoch = 1, mini-batch = 5, avg cost =  0.203\n",
      "epoch = 1, mini-batch = 6, avg cost =  0.198\n",
      "epoch = 1, mini-batch = 7, avg cost =  0.200\n",
      "epoch = 1, mini-batch = 8, avg cost =  0.187\n",
      "epoch = 1, mini-batch = 9, avg cost =  0.218\n",
      "epoch = 1, mini-batch = 10, avg cost =  0.232\n",
      "epoch = 2, mini-batch = 0, avg cost =  0.212\n",
      "epoch = 2, mini-batch = 1, avg cost =  0.236\n",
      "epoch = 2, mini-batch = 2, avg cost =  0.169\n",
      "epoch = 2, mini-batch = 3, avg cost =  0.214\n",
      "epoch = 2, mini-batch = 4, avg cost =  0.185\n",
      "epoch = 2, mini-batch = 5, avg cost =  0.194\n",
      "epoch = 2, mini-batch = 6, avg cost =  0.212\n",
      "epoch = 2, mini-batch = 7, avg cost =  0.215\n",
      "epoch = 2, mini-batch = 8, avg cost =  0.188\n",
      "epoch = 2, mini-batch = 9, avg cost =  0.216\n",
      "epoch = 2, mini-batch = 10, avg cost =  0.209\n",
      "epoch = 3, mini-batch = 0, avg cost =  0.227\n",
      "epoch = 3, mini-batch = 1, avg cost =  0.209\n",
      "epoch = 3, mini-batch = 2, avg cost =  0.200\n",
      "epoch = 3, mini-batch = 3, avg cost =  0.205\n",
      "epoch = 3, mini-batch = 4, avg cost =  0.178\n",
      "epoch = 3, mini-batch = 5, avg cost =  0.192\n",
      "epoch = 3, mini-batch = 6, avg cost =  0.213\n",
      "epoch = 3, mini-batch = 7, avg cost =  0.207\n",
      "epoch = 3, mini-batch = 8, avg cost =  0.195\n",
      "epoch = 3, mini-batch = 9, avg cost =  0.211\n",
      "epoch = 3, mini-batch = 10, avg cost =  0.217\n",
      "epoch = 4, mini-batch = 0, avg cost =  0.207\n",
      "epoch = 4, mini-batch = 1, avg cost =  0.219\n",
      "epoch = 4, mini-batch = 2, avg cost =  0.214\n",
      "epoch = 4, mini-batch = 3, avg cost =  0.185\n",
      "epoch = 4, mini-batch = 4, avg cost =  0.196\n",
      "epoch = 4, mini-batch = 5, avg cost =  0.181\n",
      "epoch = 4, mini-batch = 6, avg cost =  0.207\n",
      "epoch = 4, mini-batch = 7, avg cost =  0.209\n",
      "epoch = 4, mini-batch = 8, avg cost =  0.204\n",
      "epoch = 4, mini-batch = 9, avg cost =  0.200\n",
      "epoch = 4, mini-batch = 10, avg cost =  0.267\n",
      "epoch = 5, mini-batch = 0, avg cost =  0.217\n",
      "epoch = 5, mini-batch = 1, avg cost =  0.193\n",
      "epoch = 5, mini-batch = 2, avg cost =  0.222\n",
      "epoch = 5, mini-batch = 3, avg cost =  0.222\n",
      "epoch = 5, mini-batch = 4, avg cost =  0.183\n",
      "epoch = 5, mini-batch = 5, avg cost =  0.228\n",
      "epoch = 5, mini-batch = 6, avg cost =  0.218\n",
      "epoch = 5, mini-batch = 7, avg cost =  0.198\n",
      "epoch = 5, mini-batch = 8, avg cost =  0.191\n",
      "epoch = 5, mini-batch = 9, avg cost =  0.174\n",
      "epoch = 5, mini-batch = 10, avg cost =  0.170\n",
      "epoch = 6, mini-batch = 0, avg cost =  0.190\n",
      "epoch = 6, mini-batch = 1, avg cost =  0.208\n",
      "epoch = 6, mini-batch = 2, avg cost =  0.178\n",
      "epoch = 6, mini-batch = 3, avg cost =  0.219\n",
      "epoch = 6, mini-batch = 4, avg cost =  0.197\n",
      "epoch = 6, mini-batch = 5, avg cost =  0.205\n",
      "epoch = 6, mini-batch = 6, avg cost =  0.227\n",
      "epoch = 6, mini-batch = 7, avg cost =  0.194\n",
      "epoch = 6, mini-batch = 8, avg cost =  0.200\n",
      "epoch = 6, mini-batch = 9, avg cost =  0.214\n",
      "epoch = 6, mini-batch = 10, avg cost =  0.222\n",
      "epoch = 7, mini-batch = 0, avg cost =  0.189\n",
      "epoch = 7, mini-batch = 1, avg cost =  0.218\n",
      "epoch = 7, mini-batch = 2, avg cost =  0.231\n",
      "epoch = 7, mini-batch = 3, avg cost =  0.191\n",
      "epoch = 7, mini-batch = 4, avg cost =  0.204\n",
      "epoch = 7, mini-batch = 5, avg cost =  0.213\n",
      "epoch = 7, mini-batch = 6, avg cost =  0.216\n",
      "epoch = 7, mini-batch = 7, avg cost =  0.191\n",
      "epoch = 7, mini-batch = 8, avg cost =  0.213\n",
      "epoch = 7, mini-batch = 9, avg cost =  0.174\n",
      "epoch = 7, mini-batch = 10, avg cost =  0.186\n",
      "epoch = 8, mini-batch = 0, avg cost =  0.198\n",
      "epoch = 8, mini-batch = 1, avg cost =  0.186\n",
      "epoch = 8, mini-batch = 2, avg cost =  0.204\n",
      "epoch = 8, mini-batch = 3, avg cost =  0.207\n",
      "epoch = 8, mini-batch = 4, avg cost =  0.210\n",
      "epoch = 8, mini-batch = 5, avg cost =  0.210\n",
      "epoch = 8, mini-batch = 6, avg cost =  0.205\n",
      "epoch = 8, mini-batch = 7, avg cost =  0.194\n",
      "epoch = 8, mini-batch = 8, avg cost =  0.211\n",
      "epoch = 8, mini-batch = 9, avg cost =  0.207\n",
      "epoch = 8, mini-batch = 10, avg cost =  0.232\n",
      "epoch = 9, mini-batch = 0, avg cost =  0.175\n",
      "epoch = 9, mini-batch = 1, avg cost =  0.196\n",
      "epoch = 9, mini-batch = 2, avg cost =  0.199\n",
      "epoch = 9, mini-batch = 3, avg cost =  0.193\n",
      "epoch = 9, mini-batch = 4, avg cost =  0.209\n",
      "epoch = 9, mini-batch = 5, avg cost =  0.239\n",
      "epoch = 9, mini-batch = 6, avg cost =  0.191\n",
      "epoch = 9, mini-batch = 7, avg cost =  0.214\n",
      "epoch = 9, mini-batch = 8, avg cost =  0.231\n",
      "epoch = 9, mini-batch = 9, avg cost =  0.184\n",
      "epoch = 9, mini-batch = 10, avg cost =  0.216\n",
      "   Training - done. Time (sec): 58.0271277\n"
     ]
    }
   ],
   "source": [
    "g = sm.genn.GENN()\n",
    "g.options[\"alpha\"] = 0.5  # learning rate that controls optimizer step size\n",
    "g.options[\"beta1\"] = 0.9  # tuning parameter to control ADAM optimization\n",
    "g.options[\"beta2\"] = 0.99  # tuning parameter to control ADAM optimization\n",
    "g.options[\n",
    "    \"lambd\"\n",
    "] = 0.1  # lambd = 0. = no regularization, lambd > 0 = regularization\n",
    "g.options[\n",
    "    \"gamma\"\n",
    "] = 1.0  # gamma = 0. = no grad-enhancement, gamma > 0 = grad-enhancement\n",
    "g.options[\"deep\"] = 2  # number of hidden layers\n",
    "g.options[\"wide\"] = 2  # number of nodes per hidden layer\n",
    "g.options[\n",
    "    \"mini_batch_size\"\n",
    "] = 1024  # used to divide data into training batches (use for large data sets)\n",
    "g.options[\"num_epochs\"] = 10  # number of passes through data\n",
    "g.options[\n",
    "    \"num_iterations\"\n",
    "] = 100  # number of optimizer iterations per mini-batch\n",
    "g.options[\"is_print\"] = True  # print output (or not)\n",
    "sm.genn.load_smt_data(\n",
    "    g, xt, yt, dyt_dxt\n",
    ")  # convenience function to read in data that is in SMT format\n",
    "\n",
    "g.train()"
   ]
  },
  {
   "cell_type": "code",
   "execution_count": 121,
   "metadata": {},
   "outputs": [
    {
     "name": "stdout",
     "output_type": "stream",
     "text": [
      "___________________________________________________________________________\n",
      "   \n",
      " Evaluation\n",
      "   \n",
      "      # eval points. : 9895\n",
      "   \n",
      "   Predicting ...\n",
      "   Predicting - done. Time (sec):  0.0009923\n",
      "   \n",
      "   Prediction time/pt. (sec) :  0.0000001\n",
      "   \n"
     ]
    }
   ],
   "source": [
    "y_pred = g.predict_values(xv)"
   ]
  },
  {
   "cell_type": "code",
   "execution_count": 122,
   "metadata": {},
   "outputs": [
    {
     "data": {
      "text/plain": [
       "[<matplotlib.lines.Line2D at 0x188d16e6bb0>]"
      ]
     },
     "execution_count": 122,
     "metadata": {},
     "output_type": "execute_result"
    },
    {
     "data": {
      "image/png": "[encoded data removed]",
      "text/plain": [
       "<Figure size 432x288 with 1 Axes>"
      ]
     },
     "metadata": {
      "needs_background": "light"
     },
     "output_type": "display_data"
    }
   ],
   "source": [
    "plt.plot(exp_1['el_power'])\n",
    "plt.plot(y_pred)"
   ]
  },
  {
   "cell_type": "code",
   "execution_count": 136,
   "metadata": {},
   "outputs": [
    {
     "data": {
      "text/plain": [
       "0        1242.0\n",
       "1        1246.0\n",
       "2        1257.0\n",
       "3        1257.0\n",
       "4        1263.0\n",
       "          ...  \n",
       "10535    1162.0\n",
       "10536    1160.0\n",
       "10537    1183.0\n",
       "10538    1198.0\n",
       "10539    1201.0\n",
       "Name: el_power, Length: 10540, dtype: float64"
      ]
     },
     "execution_count": 136,
     "metadata": {},
     "output_type": "execute_result"
    }
   ],
   "source": [
    "exp_4['el_power'].astype(float)"
   ]
  },
  {
   "cell_type": "code",
   "execution_count": 130,
   "metadata": {},
   "outputs": [
    {
     "name": "stdout",
     "output_type": "stream",
     "text": [
      "___________________________________________________________________________\n",
      "   \n",
      "                                    RBF\n",
      "___________________________________________________________________________\n",
      "   \n",
      " Problem size\n",
      "   \n",
      "      # training points.        : 4\n",
      "   \n",
      "___________________________________________________________________________\n",
      "   \n",
      " Training\n",
      "   \n",
      "   Training ...\n",
      "      Initializing linear solver ...\n",
      "         Performing LU fact. (4 x 4 mtx) ...\n",
      "         Performing LU fact. (4 x 4 mtx) - done. Time (sec):  0.0000000\n",
      "      Initializing linear solver - done. Time (sec):  0.0000000\n",
      "      Solving linear system (col. 0) ...\n",
      "         Back solving (4 x 4 mtx) ...\n",
      "         Back solving (4 x 4 mtx) - done. Time (sec):  0.0000000\n",
      "      Solving linear system (col. 0) - done. Time (sec):  0.0000000\n",
      "   Training - done. Time (sec):  0.0010014\n"
     ]
    }
   ],
   "source": [
    "xt = np.array(exp_4['input_voltage'].astype(float))\n",
    "yt = np.array([1200, 1637, 2509, 3300])\n",
    "\n",
    "rbf = sm.RBF()\n",
    "rbf.set_training_values(xt, yt)\n",
    "rbf.train()"
   ]
  },
  {
   "cell_type": "code",
   "execution_count": 132,
   "metadata": {},
   "outputs": [
    {
     "name": "stdout",
     "output_type": "stream",
     "text": [
      "___________________________________________________________________________\n",
      "   \n",
      " Evaluation\n",
      "   \n",
      "      # eval points. : 100\n",
      "   \n",
      "   Predicting ...\n",
      "   Predicting - done. Time (sec):  0.0000000\n",
      "   \n",
      "   Prediction time/pt. (sec) :  0.0000000\n",
      "   \n"
     ]
    },
    {
     "data": {
      "image/png": "[encoded data removed]",
      "text/plain": [
       "<Figure size 432x288 with 1 Axes>"
      ]
     },
     "metadata": {
      "needs_background": "light"
     },
     "output_type": "display_data"
    }
   ],
   "source": [
    "x = np.linspace(0.0, 10, num)\n",
    "y = rbf.predict_values(x)\n",
    "\n",
    "plt.plot(xt, yt, \"o\")\n",
    "plt.plot(x, y)\n",
    "plt.xlabel(\"x\")\n",
    "plt.ylabel(\"y\")\n",
    "plt.legend([\"Training data\", \"Prediction\"])\n",
    "plt.show()"
   ]
  },
  {
   "cell_type": "code",
   "execution_count": null,
   "metadata": {},
   "outputs": [],
   "source": []
  }
 ],
 "metadata": {
  "kernelspec": {
   "display_name": "Python 3",
   "language": "python",
   "name": "python3"
  },
  "language_info": {
   "codemirror_mode": {
    "name": "ipython",
    "version": 3
   },
   "file_extension": ".py",
   "mimetype": "text/x-python",
   "name": "python",
   "nbconvert_exporter": "python",
   "pygments_lexer": "ipython3",
   "version": "3.8.3"
  }
 },
 "nbformat": 4,
 "nbformat_minor": 4
}
