{
 "cells": [
  {
   "cell_type": "code",
   "execution_count": 1,
   "metadata": {},
   "outputs": [
    {
     "name": "stdout",
     "output_type": "stream",
     "text": [
      "Folder already exists.\n"
     ]
    }
   ],
   "source": [
    "import Global_Functions as gf\n",
    "import Data_Processing as dp\n",
    "import pandas as pd\n",
    "import numpy as np\n",
    "\n",
    "from matplotlib import pyplot as plt\n",
    "\n",
    "SAVE_FOLDER = \"../Images/Comparison/\"\n",
    "gf.check_folder(SAVE_FOLDER)"
   ]
  },
  {
   "cell_type": "code",
   "execution_count": 2,
   "metadata": {},
   "outputs": [],
   "source": [
    "def convert_results_to_np_array(results):\n",
    "    data = [x[1:-1] for x in results['rmse']]\n",
    "    return np.array(data, dtype = 'float')"
   ]
  },
  {
   "cell_type": "code",
   "execution_count": 3,
   "metadata": {},
   "outputs": [],
   "source": [
    "# # plain rnn\n",
    "# lstm_n = gf.open_CSV_file('../Images/Validation/Synthetic/RNN/2021-05-26_10-43/99_results.csv')\n",
    "# lstm_n_lstm_n2 = gf.open_CSV_file('../Images/Validation/Synthetic/RNN/2021-05-26_09-17/99_results.csv')\n",
    "# lstm_n_dense_n2 = gf.open_CSV_file('../Images/Validation/Synthetic/RNN/2021-05-26_10-03/99_results.csv')\n",
    "# lstm_n_lstm_n2_dense_n2 = gf.open_CSV_file('../Images/Validation/Synthetic/RNN/2021-05-26_09-17/99_results.csv')\n",
    "# title = 'RNN'"
   ]
  },
  {
   "cell_type": "code",
   "execution_count": 4,
   "metadata": {},
   "outputs": [],
   "source": [
    "# # difference in input\n",
    "# lstm_n = gf.open_CSV_file('../Images/Validation/Synthetic/Difference/add_scaled/2021-05-24_13-05/99_results.csv')\n",
    "# lstm_n_lstm_n2 = gf.open_CSV_file('../Images/Validation/Synthetic/Difference/add_scaled/2021-05-25_16-43/99_results.csv')\n",
    "# lstm_n_dense_n2 = gf.open_CSV_file('../Images/Validation/Synthetic/Difference/add_scaled/2021-05-25_14-04/99_results.csv')\n",
    "# lstm_n_lstm_n2_dense_n2 = gf.open_CSV_file('../Images/Validation/Synthetic/Difference/add_scaled/2021-05-25_09-38/99_results.csv')\n",
    "# title = 'Difference in Input'"
   ]
  },
  {
   "cell_type": "code",
   "execution_count": 5,
   "metadata": {},
   "outputs": [],
   "source": [
    "# # difference in output\n",
    "# lstm_n = gf.open_CSV_file('../Images/Validation/Synthetic/Difference/predict_scaled/2021-05-24_13-11/99_results.csv')\n",
    "# lstm_n_lstm_n2 = gf.open_CSV_file('../Images/Validation/Synthetic/Difference/predict_scaled/2021-05-25_16-43/99_results.csv')\n",
    "# lstm_n_dense_n2 = gf.open_CSV_file('../Images/Validation/Synthetic/Difference/predict_scaled/2021-05-25_14-04/99_results.csv')\n",
    "# lstm_n_lstm_n2_dense_n2 = gf.open_CSV_file('../Images/Validation/Synthetic/Difference/predict_scaled/2021-05-25_09-39/99_results.csv')\n",
    "# title = 'Difference in Output'"
   ]
  },
  {
   "cell_type": "code",
   "execution_count": 6,
   "metadata": {},
   "outputs": [],
   "source": [
    "lstm_n = convert_results_to_np_array(lstm_n)\n",
    "lstm_n_lstm_n2 = convert_results_to_np_array(lstm_n_lstm_n2)\n",
    "lstm_n_dense_n2 = convert_results_to_np_array(lstm_n_dense_n2)\n",
    "lstm_n_lstm_n2_dense_n2 = convert_results_to_np_array(lstm_n_lstm_n2_dense_n2)"
   ]
  },
  {
   "cell_type": "code",
   "execution_count": 7,
   "metadata": {},
   "outputs": [
    {
     "data": {
      "image/png": "[encoded data removed]",
      "text/plain": [
       "<Figure size 432x288 with 1 Axes>"
      ]
     },
     "metadata": {
      "needs_background": "light"
     },
     "output_type": "display_data"
    }
   ],
   "source": [
    "data = [lstm_n, lstm_n_lstm_n2, lstm_n_dense_n2, lstm_n_lstm_n2_dense_n2]\n",
    "fig, ax = plt.subplots()\n",
    "ax.set_title('Comparison of Archticture for ' + title)\n",
    "ax.set_xlabel('Architecture')\n",
    "ax.set_ylabel('RMSE')\n",
    "ax.yaxis.grid(True)\n",
    "plt.ylim([0, 1250])\n",
    "plt.boxplot(data, labels = ['LSTM(n)', 'LSTM(n),\\n LSTM(n/2)', 'LSTM(n),\\n Dense(n/2)', 'LSTM(n),\\n LSTM(n/2),\\n Dense(n/2)'])\n",
    "\n",
    "plt.show()\n",
    "\n",
    "fig.savefig(SAVE_FOLDER + 'approaches_output.png')"
   ]
  },
  {
   "cell_type": "code",
   "execution_count": null,
   "metadata": {},
   "outputs": [],
   "source": []
  }
 ],
 "metadata": {
  "kernelspec": {
   "display_name": "Python 3",
   "language": "python",
   "name": "python3"
  },
  "language_info": {
   "codemirror_mode": {
    "name": "ipython",
    "version": 3
   },
   "file_extension": ".py",
   "mimetype": "text/x-python",
   "name": "python",
   "nbconvert_exporter": "python",
   "pygments_lexer": "ipython3",
   "version": "3.8.3"
  }
 },
 "nbformat": 4,
 "nbformat_minor": 4
}
