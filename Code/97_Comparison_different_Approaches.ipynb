{
 "cells": [
  {
   "cell_type": "code",
   "execution_count": 25,
   "metadata": {},
   "outputs": [
    {
     "name": "stdout",
     "output_type": "stream",
     "text": [
      "Folder already exists.\n"
     ]
    }
   ],
   "source": [
    "import Global_Functions as gf\n",
    "import Data_Processing as dp\n",
    "import pandas as pd\n",
    "import numpy as np\n",
    "import operator\n",
    "\n",
    "from matplotlib import pyplot as plt\n",
    "\n",
    "SAVE_FOLDER = \"../Images/Comparison/\"\n",
    "gf.check_folder(SAVE_FOLDER)"
   ]
  },
  {
   "cell_type": "code",
   "execution_count": 3,
   "metadata": {},
   "outputs": [],
   "source": [
    "# # experiments with 50-20 on 40-0-10\n",
    "# results_theory = gf.open_CSV_file('../Images/Theoretical_Approach/2021-07-02_11-22/99_results.csv')\n",
    "# results_rnn = gf.open_CSV_file('../Images/Data_Baseline/2021-07-03_11-03/99_results.csv')\n",
    "# results_input = gf.open_CSV_file('../Images/Difference_add_scaled/2021-07-03_11-03/99_results.csv')\n",
    "# results_output = gf.open_CSV_file('../Images/Difference_predict_scaled/2021-07-04_08-36/99_results.csv')\n",
    "# results_loss = gf.open_CSV_file('../Images/Loss_function/Scaled/2021-07-08_10-40/99_results.csv')\n",
    "# title = \"50 for train - 20 for validation on (40, 0, 10)\""
   ]
  },
  {
   "cell_type": "code",
   "execution_count": 68,
   "metadata": {},
   "outputs": [],
   "source": [
    "# # experiments on turbine data\n",
    "# results_theory = gf.open_CSV_file('../Images/Turbines/Theoretical_Approach/2021-07-02_11-20/99_results.csv')\n",
    "# results_rnn = gf.open_CSV_file('../Images/Turbines/Data_Baseline/2021-07-03_17-29/99_results.csv')\n",
    "# results_input = gf.open_CSV_file('../Images/Turbines/Difference_add_scaled/2021-07-03_22-34/99_results.csv')\n",
    "# results_output = gf.open_CSV_file('../Images/Turbines/Difference_predict_scaled/2021-07-03_22-34/99_results.csv')\n",
    "# results_loss = gf.open_CSV_file('../Images/Turbines/Loss_function/2021-07-06_08-16/99_results.csv')\n",
    "# title = \"jump data of turbines\""
   ]
  },
  {
   "cell_type": "code",
   "execution_count": 69,
   "metadata": {},
   "outputs": [],
   "source": [
    "def convert_results_to_np_array(results = None):\n",
    "    data = [x[1:-1] for x in results['rmse']]\n",
    "#     data.sort()\n",
    "#     cut_point = int(len(data) * 0.05)\n",
    "#     data = operator.itemgetter(0,1,3,4)(data)\n",
    "    return np.array(data, dtype = 'float')"
   ]
  },
  {
   "cell_type": "code",
   "execution_count": 70,
   "metadata": {},
   "outputs": [],
   "source": [
    "def convert_theory_results_to_np_array(results = None):\n",
    "    data = [x for x in results['el_RMSE']]\n",
    "#     data.sort()\n",
    "#     cut_point = int(len(data) * 0.05)\n",
    "#     data = operator.itemgetter(0,1,3,4)(data)\n",
    "    return np.array(data, dtype = 'float')"
   ]
  },
  {
   "cell_type": "code",
   "execution_count": 71,
   "metadata": {},
   "outputs": [],
   "source": [
    "def convert_loss_results_to_np_array(results = None):\n",
    "    for i in range(len(results['tgds'])):\n",
    "        data = results['rmse'][0][1:-1].split(\", \")\n",
    "#     data.sort()\n",
    "#     cut_point = int(len(data) * 0.05)\n",
    "#     data = operator.itemgetter(0,1,3,4)(data)\n",
    "    return np.array(data, dtype = 'float')"
   ]
  },
  {
   "cell_type": "code",
   "execution_count": 72,
   "metadata": {},
   "outputs": [],
   "source": [
    "theory = convert_theory_results_to_np_array(results_theory)\n",
    "rnn = convert_results_to_np_array(results_rnn)\n",
    "add = convert_results_to_np_array(results_input)\n",
    "out = convert_results_to_np_array(results_output)\n",
    "loss = convert_loss_results_to_np_array(results_loss)"
   ]
  },
  {
   "cell_type": "code",
   "execution_count": 73,
   "metadata": {},
   "outputs": [
    {
     "data": {
      "text/plain": [
       "361.3487902678106"
      ]
     },
     "execution_count": 73,
     "metadata": {},
     "output_type": "execute_result"
    }
   ],
   "source": [
    "np.mean(theory)"
   ]
  },
  {
   "cell_type": "code",
   "execution_count": 74,
   "metadata": {},
   "outputs": [
    {
     "data": {
      "text/plain": [
       "230.5855355338955"
      ]
     },
     "execution_count": 74,
     "metadata": {},
     "output_type": "execute_result"
    }
   ],
   "source": [
    "np.mean(rnn)"
   ]
  },
  {
   "cell_type": "code",
   "execution_count": 75,
   "metadata": {},
   "outputs": [
    {
     "data": {
      "text/plain": [
       "582.4614831656991"
      ]
     },
     "execution_count": 75,
     "metadata": {},
     "output_type": "execute_result"
    }
   ],
   "source": [
    "np.mean(add)"
   ]
  },
  {
   "cell_type": "code",
   "execution_count": 76,
   "metadata": {},
   "outputs": [
    {
     "data": {
      "text/plain": [
       "256.7634229409007"
      ]
     },
     "execution_count": 76,
     "metadata": {},
     "output_type": "execute_result"
    }
   ],
   "source": [
    "np.mean(out)"
   ]
  },
  {
   "cell_type": "code",
   "execution_count": 77,
   "metadata": {
    "scrolled": true
   },
   "outputs": [
    {
     "data": {
      "text/plain": [
       "217.25741409401687"
      ]
     },
     "execution_count": 77,
     "metadata": {},
     "output_type": "execute_result"
    }
   ],
   "source": [
    "np.mean(loss)"
   ]
  },
  {
   "cell_type": "code",
   "execution_count": 78,
   "metadata": {},
   "outputs": [
    {
     "data": {
      "image/png": "[encoded data removed]",
      "text/plain": [
       "<Figure size 1080x720 with 1 Axes>"
      ]
     },
     "metadata": {
      "needs_background": "light"
     },
     "output_type": "display_data"
    }
   ],
   "source": [
    "data = [theory, rnn, add, out, loss]\n",
    "fig, ax = plt.subplots(figsize = (15,10))\n",
    "ax.set_title('Comparison of approaches for ' + title, fontsize = 25)\n",
    "ax.set_xlabel('Approaches', fontsize = 18)\n",
    "ax.set_ylabel('RMSE', fontsize = 18)\n",
    "ax.yaxis.grid(True)\n",
    "# plt.ylim([0, 300])\n",
    "plt.boxplot(data, labels = ['Theory', 'RNN', 'Input', 'Output', 'Loss'], )\n",
    "plt.xticks(size = 14)\n",
    "plt.yticks(size = 14)\n",
    "plt.show()\n",
    "\n",
    "fig.savefig(SAVE_FOLDER + title + 'jumps.png')"
   ]
  },
  {
   "cell_type": "code",
   "execution_count": null,
   "metadata": {},
   "outputs": [],
   "source": []
  }
 ],
 "metadata": {
  "kernelspec": {
   "display_name": "Python 3",
   "language": "python",
   "name": "python3"
  },
  "language_info": {
   "codemirror_mode": {
    "name": "ipython",
    "version": 3
   },
   "file_extension": ".py",
   "mimetype": "text/x-python",
   "name": "python",
   "nbconvert_exporter": "python",
   "pygments_lexer": "ipython3",
   "version": "3.8.3"
  }
 },
 "nbformat": 4,
 "nbformat_minor": 4
}
