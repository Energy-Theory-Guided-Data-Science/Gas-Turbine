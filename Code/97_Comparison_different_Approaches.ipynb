{
 "cells": [
  {
   "cell_type": "code",
   "execution_count": 1,
   "metadata": {},
   "outputs": [
    {
     "name": "stdout",
     "output_type": "stream",
     "text": [
      "Folder already exists.\n"
     ]
    }
   ],
   "source": [
    "import Global_Functions as gf\n",
    "import Data_Processing as dp\n",
    "import pandas as pd\n",
    "import numpy as np\n",
    "\n",
    "from matplotlib import pyplot as plt\n",
    "\n",
    "SAVE_FOLDER = \"../Images/Comparison/\"\n",
    "gf.check_folder(SAVE_FOLDER)"
   ]
  },
  {
   "cell_type": "code",
   "execution_count": 2,
   "metadata": {},
   "outputs": [],
   "source": [
    "# # experiment 2\n",
    "# results_rnn = gf.open_CSV_file('../Images/Validation/Synthetic/RNN/2021-05-26_10-43/99_results.csv')\n",
    "# results_input = gf.open_CSV_file('../Images/Validation/Synthetic/Difference/add_scaled/2021-05-24_13-05/99_results.csv')\n",
    "# results_output = gf.open_CSV_file('../Images/Validation/Synthetic/Difference/predict_scaled/2021-05-24_13-11/99_results.csv')\n",
    "# title = 'LSTM(Neur)'"
   ]
  },
  {
   "cell_type": "code",
   "execution_count": 3,
   "metadata": {},
   "outputs": [],
   "source": [
    "# # experiment 3\n",
    "# results_rnn = gf.open_CSV_file('../Images/Validation/Synthetic/RNN/2021-05-26_09-17/99_results.csv')\n",
    "# results_input = gf.open_CSV_file('../Images/Validation/Synthetic/Difference/add_scaled/2021-05-25_16-43/99_results.csv')\n",
    "# results_output = gf.open_CSV_file('../Images/Validation/Synthetic/Difference/predict_scaled/2021-05-25_16-43/99_results.csv')\n",
    "# title = 'LSTM(Neur), LSTM(Neur/2)'"
   ]
  },
  {
   "cell_type": "code",
   "execution_count": 4,
   "metadata": {},
   "outputs": [],
   "source": [
    "# # experiment 5\n",
    "# results_rnn = gf.open_CSV_file('../Images/Validation/Synthetic/RNN/2021-05-26_10-03/99_results.csv')\n",
    "# results_input = gf.open_CSV_file('../Images/Validation/Synthetic/Difference/add_scaled/2021-05-25_14-04/99_results.csv')\n",
    "# results_output = gf.open_CSV_file('../Images/Validation/Synthetic/Difference/predict_scaled/2021-05-25_14-04/99_results.csv')\n",
    "# title = 'LSTM(Neur), Dense(Neur/2)'"
   ]
  },
  {
   "cell_type": "code",
   "execution_count": 5,
   "metadata": {},
   "outputs": [],
   "source": [
    "# # experiment 6\n",
    "# results_rnn = gf.open_CSV_file('../Images/Validation/Synthetic/RNN/2021-05-26_09-17/99_results.csv')\n",
    "# results_input = gf.open_CSV_file('../Images/Validation/Synthetic/Difference/add_scaled/2021-05-25_09-38/99_results.csv')\n",
    "# results_output = gf.open_CSV_file('../Images/Validation/Synthetic/Difference/predict_scaled/2021-05-25_09-39/99_results.csv')\n",
    "# title = 'LSTM(Neur), LSTM(Neur/2), Dense(Neur/2)'"
   ]
  },
  {
   "cell_type": "code",
   "execution_count": 6,
   "metadata": {},
   "outputs": [],
   "source": [
    "def convert_results_to_np_array(results):\n",
    "    data = [x[1:-1] for x in results['rmse']]\n",
    "    return np.array(data, dtype = 'float')"
   ]
  },
  {
   "cell_type": "code",
   "execution_count": 7,
   "metadata": {},
   "outputs": [],
   "source": [
    "rnn = convert_results_to_np_array(results_rnn)\n",
    "add = convert_results_to_np_array(results_input)\n",
    "out = convert_results_to_np_array(results_output)"
   ]
  },
  {
   "cell_type": "code",
   "execution_count": 8,
   "metadata": {},
   "outputs": [
    {
     "data": {
      "image/png": "[encoded data removed]",
      "text/plain": [
       "<Figure size 432x288 with 1 Axes>"
      ]
     },
     "metadata": {
      "needs_background": "light"
     },
     "output_type": "display_data"
    }
   ],
   "source": [
    "data = [rnn, add, out]\n",
    "fig, ax = plt.subplots()\n",
    "ax.set_title('Approach Comparison for ' + title)\n",
    "ax.set_xlabel('Approaches')\n",
    "ax.set_ylabel('RMSE')\n",
    "ax.yaxis.grid(True)\n",
    "plt.ylim([0, 1250])\n",
    "plt.boxplot(data, labels = ['RNN', 'Input', 'Output'], )\n",
    "plt.show()\n",
    "\n",
    "fig.savefig(SAVE_FOLDER + 'experiment_5.png')"
   ]
  },
  {
   "cell_type": "code",
   "execution_count": null,
   "metadata": {},
   "outputs": [],
   "source": []
  }
 ],
 "metadata": {
  "kernelspec": {
   "display_name": "Python 3",
   "language": "python",
   "name": "python3"
  },
  "language_info": {
   "codemirror_mode": {
    "name": "ipython",
    "version": 3
   },
   "file_extension": ".py",
   "mimetype": "text/x-python",
   "name": "python",
   "nbconvert_exporter": "python",
   "pygments_lexer": "ipython3",
   "version": "3.8.3"
  }
 },
 "nbformat": 4,
 "nbformat_minor": 4
}
