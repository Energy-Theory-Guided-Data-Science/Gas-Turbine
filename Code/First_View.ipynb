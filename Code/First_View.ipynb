{
 "cells": [
  {
   "cell_type": "code",
   "execution_count": 4,
   "metadata": {},
   "outputs": [],
   "source": [
    "#import all helpful libraries\n",
    "import scipy.io, scipy.optimize \n",
    "import numpy as np\n",
    "import matplotlib.pyplot as plt\n",
    "import math\n",
    "import os\n",
    "import h5py"
   ]
  },
  {
   "cell_type": "markdown",
   "metadata": {},
   "source": [
    "# Import and Preperation of Data"
   ]
  },
  {
   "cell_type": "code",
   "execution_count": 16,
   "metadata": {},
   "outputs": [
    {
     "name": "stdout",
     "output_type": "stream",
     "text": [
      "[[   0.        ]\n",
      " [3469.87847222]\n",
      " [3670.91145833]\n",
      " ...\n",
      " [   0.        ]\n",
      " [   0.        ]\n",
      " [   0.        ]]\n"
     ]
    },
    {
     "ename": "KeyError",
     "evalue": "('n_soll',)",
     "output_type": "error",
     "traceback": [
      "\u001b[1;31m---------------------------------------------------------------------------\u001b[0m",
      "\u001b[1;31mKeyError\u001b[0m                                  Traceback (most recent call last)",
      "\u001b[1;32m<ipython-input-16-200c8026c9c2>\u001b[0m in \u001b[0;36m<module>\u001b[1;34m\u001b[0m\n\u001b[0;32m      7\u001b[0m     \u001b[0mprint\u001b[0m\u001b[1;33m(\u001b[0m\u001b[0mmat_file\u001b[0m\u001b[1;33m[\u001b[0m\u001b[1;34m'n_soll'\u001b[0m\u001b[1;33m]\u001b[0m\u001b[1;33m)\u001b[0m\u001b[1;33m\u001b[0m\u001b[1;33m\u001b[0m\u001b[0m\n\u001b[0;32m      8\u001b[0m     \u001b[0msearch\u001b[0m \u001b[1;33m=\u001b[0m \u001b[0mfile\u001b[0m\u001b[1;33m[\u001b[0m\u001b[1;33m:\u001b[0m\u001b[1;33m-\u001b[0m\u001b[1;36m4\u001b[0m\u001b[1;33m]\u001b[0m\u001b[1;33m,\u001b[0m\u001b[1;33m\u001b[0m\u001b[1;33m\u001b[0m\u001b[0m\n\u001b[1;32m----> 9\u001b[1;33m     \u001b[0mprint\u001b[0m\u001b[1;33m(\u001b[0m\u001b[0mmat_file\u001b[0m\u001b[1;33m[\u001b[0m\u001b[0msearch\u001b[0m\u001b[1;33m]\u001b[0m\u001b[1;33m)\u001b[0m\u001b[1;33m\u001b[0m\u001b[1;33m\u001b[0m\u001b[0m\n\u001b[0m\u001b[0;32m     10\u001b[0m     switcher = { #switcher is neccessary since files and matlab headers are not identical\n\u001b[0;32m     11\u001b[0m         \u001b[1;34m'n_soll'\u001b[0m\u001b[1;33m:\u001b[0m \u001b[1;34m'n_soll'\u001b[0m\u001b[1;33m,\u001b[0m\u001b[1;33m\u001b[0m\u001b[1;33m\u001b[0m\u001b[0m\n",
      "\u001b[1;31mKeyError\u001b[0m: ('n_soll',)"
     ]
    }
   ],
   "source": [
    "data = {}\n",
    "foldername = \"../Data/Raw_Data/\"\n",
    "mat_raw_files = {}'n_soll.mat', 'P_el_rms.mat', 'P_th.mat', 't_el_rms.mat', 't_nsoll.mat', 't_th.mat']\n",
    "for file in mat_raw_files:\n",
    "    path = os.path.join(foldername, file)\n",
    "    mat_file = scipy.io.loadmat(path)\n",
    "    print(mat_file['n_soll'])\n",
    "    search = file[:-4],\n",
    "    print(mat_file[search])\n",
    "    switcher = { #switcher is neccessary since files and matlab headers are not identical\n",
    "        'n_soll': 'n_soll',\n",
    "        'P_el_rms': 'P_elrms',\n",
    "        'P_th': 'P_th',\n",
    "        't_el_rms': 't_el_mean',\n",
    "        't_nsoll': 't_2A_ela',\n",
    "        't_th': 't_1B_th'\n",
    "    }\n",
    "    data[search] = mat_file[switcher.get(search)]"
   ]
  },
  {
   "cell_type": "code",
   "execution_count": null,
   "metadata": {},
   "outputs": [],
   "source": [
    "# edit and subsample data where neccessary\n",
    "data_nsoll = data['n_soll'][0::1000]\n",
    "data_p_elrms = data['P_el_rms'][0]\n",
    "data_p_th = [x/3 for x in data['P_th'][0][0::10]]\n",
    "data_t_nsoll = data['t_nsoll'][0][0::1000]\n",
    "data_t_elrms = data['t_el_rms'][0]\n",
    "data_t_th = data['t_th'][0][0::10]\n",
    "\n",
    "print(type(data_nsoll))"
   ]
  },
  {
   "cell_type": "markdown",
   "metadata": {},
   "source": [
    "### Saving files in TempData Folder"
   ]
  },
  {
   "cell_type": "code",
   "execution_count": null,
   "metadata": {},
   "outputs": [],
   "source": [
    "path = \"../Data/Temp_Data/\"\n",
    "if not os.path.exists(path):\n",
    "    os.mkdir(path)\n",
    "    print('Creation of dircetory %s successful.' % path)"
   ]
  },
  {
   "cell_type": "code",
   "execution_count": null,
   "metadata": {},
   "outputs": [],
   "source": [
    "# np.savetxt(path + \"n_soll.csv\", data_nsoll, delimiter = \";\")\n",
    "# np.savetxt(path + \"t_n_soll.csv\", data_t_nsoll, delimiter = \";\")\n",
    "# np.savetxt(path + \"p_elrms.csv\", data_p_elrms, delimiter = \";\")\n",
    "# np.savetxt(path + \"t_elrms.csv\", data_t_elrms, delimiter = \";\")\n",
    "# np.savetxt(path + \"p_th.csv\", data_p_th, delimiter = \";\")\n",
    "# np.savetxt(path + \"t_th.csv\", data_t_th, delimiter = \";\")"
   ]
  },
  {
   "cell_type": "markdown",
   "metadata": {},
   "source": [
    "# Visualization of raw Data"
   ]
  },
  {
   "cell_type": "markdown",
   "metadata": {},
   "source": [
    "The following figures show the development over time of thermal output (blue), electrical output (orange) or the 'Drehzahlsollwert\" (green). The last figure shows a correlation between those measures."
   ]
  },
  {
   "cell_type": "code",
   "execution_count": null,
   "metadata": {},
   "outputs": [],
   "source": [
    "plt.plot(data_t_th, data_p_th)\n",
    "plt.xlabel(\"time in seconds\")\n",
    "plt.ylabel(\"thermal output in W\")\n",
    "plt.show()"
   ]
  },
  {
   "cell_type": "code",
   "execution_count": null,
   "metadata": {},
   "outputs": [],
   "source": [
    "plt.plot(data_t_elrms, data_p_elrms, 'orange')\n",
    "plt.xlabel(\"time in seconds\")\n",
    "plt.ylabel(\"electrical output in VArms\")\n",
    "plt.show()"
   ]
  },
  {
   "cell_type": "code",
   "execution_count": null,
   "metadata": {},
   "outputs": [],
   "source": [
    "plt.plot(data_t_nsoll, data_nsoll, 'green')\n",
    "plt.xlabel(\"time in seconds\")\n",
    "plt.ylabel(\"Drehzahlsollwert\")\n",
    "plt.show()"
   ]
  },
  {
   "cell_type": "code",
   "execution_count": null,
   "metadata": {
    "scrolled": true
   },
   "outputs": [],
   "source": [
    "plt.plot(data_t_th, data_p_th)\n",
    "plt.plot(data_t_elrms, data_p_elrms)\n",
    "plt.plot(data_t_nsoll, data_nsoll)\n",
    "plt.xlabel(\"time in seconds\")\n",
    "plt.show()"
   ]
  },
  {
   "cell_type": "markdown",
   "metadata": {},
   "source": [
    "The experiment consists of 4 different phases, each with following durations:<br/>\n",
    "0% -> 100%: 60 minutes (3600 secs -> change after 3605)<br/>\n",
    "100% -> 30%: 36,75 minutes (2200 secs -> change after 5811)<br/>\n",
    "30% -> 100%: 42 minutes (2500 secs -> change after 8429)<br/>\n",
    "100% -> 30% 50 minutes (3000 secs -> change after 11294)\n",
    "\n",
    "30% -> 0%: 11,5 minutes (690 secs -> ends at 11981)"
   ]
  },
  {
   "cell_type": "code",
   "execution_count": null,
   "metadata": {},
   "outputs": [],
   "source": [
    "def running_mean(x, N):\n",
    "    cumsum = np.cumsum(np.insert(x, 0, 0)) \n",
    "    return (cumsum[N:] - cumsum[:-N]) / float(N)"
   ]
  },
  {
   "cell_type": "code",
   "execution_count": null,
   "metadata": {},
   "outputs": [],
   "source": [
    "def createTimeSubplots(time_data, values, color):\n",
    "    fig,axs = plt.subplots(2, 3, figsize = (20,12))\n",
    "    axs = axs.ravel()\n",
    "    axs[0].plot(time_data, values, color)\n",
    "    \n",
    "    for t in range(len(time_splits)-1):\n",
    "        data_part = values[(time_splits[t]+1)*5:time_splits[t+1]*5]\n",
    "        time_part = time_data[(time_splits[t]+1)*5:time_splits[t+1]*5]\n",
    "        rm = running_mean(data_part,300)\n",
    "        axs[t+1].plot(time_part, data_part, color)\n",
    "        axs[t+1].plot(time_part[299:], rm, color='yellow')\n",
    "    \n",
    "    plt.show()"
   ]
  },
  {
   "cell_type": "code",
   "execution_count": null,
   "metadata": {},
   "outputs": [],
   "source": [
    "time_splits = [1, 3605, 5811, 8429, 11294, 11981]\n",
    "\n",
    "createTimeSubplots(data_t_nsoll, data_nsoll, 'green')\n",
    "createTimeSubplots(data_t_elrms, data_p_elrms, 'orange')\n",
    "createTimeSubplots(data_t_th, data_p_th, 'blue')"
   ]
  },
  {
   "cell_type": "markdown",
   "metadata": {},
   "source": [
    "# Comparison of data with theoretical baseline"
   ]
  },
  {
   "cell_type": "code",
   "execution_count": null,
   "metadata": {},
   "outputs": [],
   "source": [
    "time_start = data_t_th[:18000]\n",
    "k = 5900\n",
    "plt.plot(time_start, data_p_th[:18000])\n",
    "plt.plot(time_start, -k* np.exp((-1/330)*time_start) +k)\n",
    "plt.plot(time_start, -k* np.exp((-1/680)*time_start) +k)\n",
    "plt.xlabel(\"time in seconds\")\n",
    "plt.ylabel(\"thermal output in W\")\n",
    "plt.show()"
   ]
  },
  {
   "cell_type": "code",
   "execution_count": null,
   "metadata": {},
   "outputs": [],
   "source": [
    "para_fit = scipy.optimize.curve_fit(lambda t,k, tau: -k* np.exp((-1/tau)*t) +k, time_start, data_p_th[:18000])\n",
    "k_best = para_fit[0][0]\n",
    "tau_best = para_fit[0][1]\n",
    "tau_best"
   ]
  },
  {
   "cell_type": "code",
   "execution_count": null,
   "metadata": {},
   "outputs": [],
   "source": [
    "plt.plot(time_start, data_p_th[:18000])\n",
    "plt.plot(time_start, -k_best* np.exp((-1/tau_best)*time_start) +k_best)\n",
    "plt.xlabel(\"time in seconds\")\n",
    "plt.ylabel(\"thermal output in W\")\n",
    "plt.show()"
   ]
  },
  {
   "cell_type": "code",
   "execution_count": null,
   "metadata": {},
   "outputs": [],
   "source": [
    "plt.plot(data_t_th, data_p_th)\n",
    "plt.plot(data_t_th, -k_best* np.exp((-1/tau_best)*data_t_th) +k_best)\n",
    "plt.xlabel(\"time in seconds\")\n",
    "plt.ylabel(\"thermal output in W\")\n",
    "plt.show()"
   ]
  },
  {
   "cell_type": "markdown",
   "metadata": {},
   "source": [
    "# Comparison with pure ML model"
   ]
  },
  {
   "cell_type": "code",
   "execution_count": null,
   "metadata": {},
   "outputs": [],
   "source": [
    "from sklearn.model_selection import train_test_split, GridSearchCV\n",
    "from sklearn.neural_network import MLPRegressor\n",
    "from sklearn.tree import DecisionTreeRegressor\n",
    "from sklearn.metrics import mean_squared_error\n",
    "from scipy import optimize\n",
    "from mlinsights.mlmodel import PiecewiseRegressor\n"
   ]
  },
  {
   "cell_type": "code",
   "execution_count": null,
   "metadata": {},
   "outputs": [],
   "source": [
    "x_train, x_test, y_train, y_test = train_test_split(data_t_th, data_p_th, test_size = 0.80, random_state = 42)"
   ]
  },
  {
   "cell_type": "code",
   "execution_count": null,
   "metadata": {},
   "outputs": [],
   "source": [
    "model = DecisionTreeRegressor(min_samples_leaf=300)\n",
    "model.fit(x_train.reshape(-1,1), y_train)\n",
    "\n",
    "predictions = model.predict(data_t_th.reshape(-1,1))"
   ]
  },
  {
   "cell_type": "code",
   "execution_count": null,
   "metadata": {},
   "outputs": [],
   "source": [
    "plt.plot(data_t_th, data_p_th)\n",
    "plt.plot(data_t_th, predictions)\n",
    "plt.xlabel(\"time in seconds\")\n",
    "plt.ylabel(\"thermal output in W\")\n",
    "plt.show()"
   ]
  },
  {
   "cell_type": "code",
   "execution_count": null,
   "metadata": {},
   "outputs": [],
   "source": [
    "#R^2\n",
    "model.score(data_t_th.reshape(-1,1), data_p_th)"
   ]
  },
  {
   "cell_type": "code",
   "execution_count": null,
   "metadata": {},
   "outputs": [],
   "source": [
    "mean_squared_error(data_p_th, predictions, squared = False)"
   ]
  }
 ],
 "metadata": {
  "kernelspec": {
   "display_name": "Python 3",
   "language": "python",
   "name": "python3"
  },
  "language_info": {
   "codemirror_mode": {
    "name": "ipython",
    "version": 3
   },
   "file_extension": ".py",
   "mimetype": "text/x-python",
   "name": "python",
   "nbconvert_exporter": "python",
   "pygments_lexer": "ipython3",
   "version": "3.8.3"
  }
 },
 "nbformat": 4,
 "nbformat_minor": 4
}
