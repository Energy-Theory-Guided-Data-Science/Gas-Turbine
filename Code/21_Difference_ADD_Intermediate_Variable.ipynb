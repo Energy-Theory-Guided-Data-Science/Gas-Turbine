{
 "cells": [
  {
   "cell_type": "markdown",
   "metadata": {},
   "source": [
    "# Use Difference as additional input\n",
    "\n",
    "This file is for using the difference as an input. However, we also take the input voltage into account. We therefore use input voltage and a delayed difference as input. The delay of the difference can be chosen.\n",
    "\n",
    "We select a delay of 60 - meaning 1 minute. We figured that worst case, our model learns the the output purely based on the difference. With a smaller window of 60 seconds we would only overshoot our prediction for 1 minute. As always we need a trade off between the best possible outcome and uncertainty for the future.\n",
    "\n",
    "## Preliminaries\n",
    "\n",
    "### Import Libraries"
   ]
  },
  {
   "cell_type": "code",
   "execution_count": 1,
   "metadata": {},
   "outputs": [],
   "source": [
    "# own libraries\n",
    "import Global_Functions as gf\n",
    "import Neuronal_Networks as nn\n",
    "\n",
    "# python provided libraries\n",
    "import pandas as pd\n",
    "import matplotlib.pyplot as plt\n",
    "import numpy as np\n",
    "from sklearn.preprocessing import MinMaxScaler\n",
    "import time\n",
    "timestr = time.strftime(\"%Y-%m-%d_%H-%M_\")\n",
    "\n",
    "# ML Libraries\n",
    "import tensorflow as tf\n",
    "from tensorflow import keras\n",
    "from tensorflow.keras import layers\n",
    "from keras.models import Sequential\n",
    "from keras.callbacks import EarlyStopping"
   ]
  },
  {
   "cell_type": "code",
   "execution_count": 2,
   "metadata": {},
   "outputs": [],
   "source": [
    "# set seed for reprocudible results\n",
    "np.random.seed(123)"
   ]
  },
  {
   "cell_type": "markdown",
   "metadata": {},
   "source": [
    "### Open files"
   ]
  },
  {
   "cell_type": "code",
   "execution_count": 3,
   "metadata": {},
   "outputs": [],
   "source": [
    "OPEN_FOLDER = '../Data/Preped_Data/'"
   ]
  },
  {
   "cell_type": "code",
   "execution_count": 4,
   "metadata": {},
   "outputs": [],
   "source": [
    "ex_1 = gf.open_CSV_file('experiment_1_short.csv', OPEN_FOLDER)\n",
    "ex_4 = gf.open_CSV_file('experiment_4_short.csv', OPEN_FOLDER)\n",
    "ex_9 = gf.open_CSV_file('experiment_9_short.csv', OPEN_FOLDER)\n",
    "ex_20 = gf.open_CSV_file('experiment_20_short.csv', OPEN_FOLDER)\n",
    "ex_21 = gf.open_CSV_file('experiment_21_short.csv', OPEN_FOLDER)\n",
    "ex_22 = gf.open_CSV_file('experiment_22_short.csv', OPEN_FOLDER)\n",
    "ex_23 = gf.open_CSV_file('experiment_23_short.csv', OPEN_FOLDER)\n",
    "ex_24 = gf.open_CSV_file('experiment_24_short.csv', OPEN_FOLDER)"
   ]
  },
  {
   "cell_type": "code",
   "execution_count": 5,
   "metadata": {},
   "outputs": [],
   "source": [
    "experiments = [ex_1, ex_4, ex_9, ex_20, ex_21, ex_22, ex_23, ex_24]\n",
    "names = ['1', '4', '9', '20', '21','22', '23', '24']"
   ]
  },
  {
   "cell_type": "code",
   "execution_count": 6,
   "metadata": {},
   "outputs": [],
   "source": [
    "#OPEN_SYNTHETIC = 'C:/Users/FlorianLeiser/Documents/Masterarbeit/Data/Synthetic_Data/Without_Noise/Sample_Ratio_1/quadratic_12_34_linear_1'"
   ]
  },
  {
   "cell_type": "code",
   "execution_count": 7,
   "metadata": {},
   "outputs": [],
   "source": [
    "# experiments = gf.load_synthetic(OPEN_SYNTHETIC, length = 50)\n",
    "# names = [str(x+1) for x in range(len(experiments)-1)]\n",
    "# names.append(\"hand\")"
   ]
  },
  {
   "cell_type": "markdown",
   "metadata": {},
   "source": [
    "### Specify parameters"
   ]
  },
  {
   "cell_type": "code",
   "execution_count": 8,
   "metadata": {},
   "outputs": [],
   "source": [
    "NEUR = 128\n",
    "EPOCH = 50\n",
    "LAG = 60\n",
    "DIFFERENCE = 'add'"
   ]
  },
  {
   "cell_type": "code",
   "execution_count": 9,
   "metadata": {},
   "outputs": [],
   "source": [
    "train = \"20\"\n",
    "val = \"21\"\n",
    "\n",
    "#train_exs = experiments[:15]\n",
    "ex_train = ex_20 #gf.use_multiple_experiments(train_exs)\n",
    "ex_val = ex_21 #gf.use_multiple_experiments(experiments[15:18])\n",
    "#ex_test = gf.use_multiple_experiments(experiments[18:20])"
   ]
  },
  {
   "cell_type": "code",
   "execution_count": 10,
   "metadata": {
    "scrolled": true
   },
   "outputs": [
    {
     "name": "stdout",
     "output_type": "stream",
     "text": [
      "Creation of directory ../Images/Difference/add/2021-05-14_18-24_training_20 val_21 128_neurons__50_epochs__lag_60/ successful.\n"
     ]
    }
   ],
   "source": [
    "# saving folder for images\n",
    "image_path = \"../Images/Difference/\" + str(DIFFERENCE) + \"/\" + timestr\n",
    "specs = \"training_{0} val_{1} {2}_neurons__{3}_epochs__lag_{4}/\" \n",
    "image_folder = image_path + specs.format(train, val, NEUR, EPOCH, LAG)\n",
    "\n",
    "gf.check_folder(image_folder)"
   ]
  },
  {
   "cell_type": "code",
   "execution_count": 11,
   "metadata": {},
   "outputs": [
    {
     "name": "stdout",
     "output_type": "stream",
     "text": [
      "Creation of directory ../Models/Difference/add/2021-05-14_18-24_training_20 val_21 128_neurons__50_epochs__lag_60/ successful.\n"
     ]
    }
   ],
   "source": [
    "# saving folder for images\n",
    "model_path = \"../Models/Difference/\" + str(DIFFERENCE) + \"/\" + timestr\n",
    "specs = \"training_{0} val_{1} {2}_neurons__{3}_epochs__lag_{4}/\" \n",
    "model_folder = model_path + specs.format(train, val, NEUR, EPOCH, LAG)\n",
    "\n",
    "gf.check_folder(model_folder)"
   ]
  },
  {
   "cell_type": "markdown",
   "metadata": {},
   "source": [
    "## Training the model"
   ]
  },
  {
   "cell_type": "code",
   "execution_count": null,
   "metadata": {
    "scrolled": true
   },
   "outputs": [
    {
     "name": "stdout",
     "output_type": "stream",
     "text": [
      "Folder already exists.\n"
     ]
    },
    {
     "name": "stderr",
     "output_type": "stream",
     "text": [
      "C:\\Users\\FlorianLeiser\\Documents\\Masterarbeit\\Code\\Data_Processing.py:83: SettingWithCopyWarning: \n",
      "A value is trying to be set on a copy of a slice from a DataFrame.\n",
      "Try using .loc[row_indexer,col_indexer] = value instead\n",
      "\n",
      "See the caveats in the documentation: https://pandas.pydata.org/pandas-docs/stable/user_guide/indexing.html#returning-a-view-versus-a-copy\n",
      "  X['difference'] = diffs\n",
      "C:\\Users\\FlorianLeiser\\Documents\\Masterarbeit\\Code\\Data_Processing.py:83: SettingWithCopyWarning: \n",
      "A value is trying to be set on a copy of a slice from a DataFrame.\n",
      "Try using .loc[row_indexer,col_indexer] = value instead\n",
      "\n",
      "See the caveats in the documentation: https://pandas.pydata.org/pandas-docs/stable/user_guide/indexing.html#returning-a-view-versus-a-copy\n",
      "  X['difference'] = diffs\n"
     ]
    },
    {
     "name": "stdout",
     "output_type": "stream",
     "text": [
      "6495/6495 [==============================] - 53s 7ms/step - loss: 0.0188 - val_loss: 0.1572\n",
      "6495/6495 [==============================] - 39s 6ms/step - loss: 9.6083e-04 - val_loss: 0.1067\n",
      "6495/6495 [==============================] - 39s 6ms/step - loss: 6.2552e-04 - val_loss: 0.3088\n",
      "6495/6495 [==============================] - 38s 6ms/step - loss: 3.6383e-04 - val_loss: 0.2758\n",
      "6495/6495 [==============================] - 37s 6ms/step - loss: 3.2369e-04 - val_loss: 0.0901\n",
      "6495/6495 [==============================] - 37s 6ms/step - loss: 1.7300e-04 - val_loss: 0.1991\n",
      "6495/6495 [==============================] - 37s 6ms/step - loss: 1.6038e-04 - val_loss: 0.0819\n",
      "6495/6495 [==============================] - 37s 6ms/step - loss: 1.8600e-04 - val_loss: 0.1018\n",
      "6495/6495 [==============================] - 38s 6ms/step - loss: 2.1884e-04 - val_loss: 0.0324\n",
      "6495/6495 [==============================] - 38s 6ms/step - loss: 1.6518e-04 - val_loss: 0.0634\n",
      "Epoch 10 done.\n",
      "6495/6495 [==============================] - 37s 6ms/step - loss: 1.8507e-04 - val_loss: 0.0703\n",
      "6495/6495 [==============================] - 40s 6ms/step - loss: 2.9017e-04 - val_loss: 0.0973\n",
      "6495/6495 [==============================] - 42s 6ms/step - loss: 2.7268e-04 - val_loss: 0.0540\n",
      " 265/6495 [>.............................] - ETA: 26s - loss: 0.00"
     ]
    }
   ],
   "source": [
    "model, history, scaler_train, X_train, y_train, _, X_val, y_val = nn.train_model(ex_train, ex_val,\n",
    "                                                   difference_chosen = DIFFERENCE, lag_chosen = LAG,\n",
    "                                                   save_folder = model_folder,\n",
    "                                                   nmb_epochs = EPOCH, neurons_chosen = NEUR)"
   ]
  },
  {
   "cell_type": "code",
   "execution_count": null,
   "metadata": {
    "scrolled": true
   },
   "outputs": [],
   "source": [
    "all_scaler = list()\n",
    "all_X_values = list()\n",
    "all_y_values = list()\n",
    "all_predictions = list()\n",
    "all_scaled_predictions = list()\n",
    "\n",
    "for i in range(len(experiments)):\n",
    "    scaler, X, y, preds_scaled, preds = nn.predictions(experiments[i], model,\n",
    "                                                       difference_chosen = DIFFERENCE,\n",
    "                                                      lag_chosen = LAG)\n",
    "    all_scaler.append(scaler)\n",
    "    all_X_values.append(X)\n",
    "    all_y_values.append(y)\n",
    "    all_predictions.append(preds)\n",
    "    all_scaled_predictions.append(preds_scaled)\n",
    "    \n",
    "    gf.create_prediction_plot(experiments[i]['el_power'], preds, image_folder,\n",
    "                              title = 'Using Difference as Intermediate Variable ',\n",
    "                             specs = 'on ex_{0} with model trained on {1}'.format(names[i], train))\n",
    "    results = gf.measure_difference(experiments[i]['el_power'], preds, should_print = False)\n",
    "    results.to_csv(image_folder + \"results_ex_{0}.csv\".format(names[i]), sep = \"|\", encoding = 'utf-8')\n",
    "    results_scaled = gf.measure_difference(y, preds_scaled, should_print = False)\n",
    "    results_scaled.to_csv(image_folder + \"results_scaled_ex_{0}.csv\".format(names[i]), sep = \"|\", encoding = 'utf-8')"
   ]
  }
 ],
 "metadata": {
  "kernelspec": {
   "display_name": "Python 3",
   "language": "python",
   "name": "python3"
  },
  "language_info": {
   "codemirror_mode": {
    "name": "ipython",
    "version": 3
   },
   "file_extension": ".py",
   "mimetype": "text/x-python",
   "name": "python",
   "nbconvert_exporter": "python",
   "pygments_lexer": "ipython3",
   "version": "3.8.3"
  }
 },
 "nbformat": 4,
 "nbformat_minor": 4
}
