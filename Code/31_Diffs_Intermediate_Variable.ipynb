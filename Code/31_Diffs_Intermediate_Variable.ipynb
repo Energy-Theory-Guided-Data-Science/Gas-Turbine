{
 "cells": [
  {
   "cell_type": "code",
   "execution_count": 1,
   "metadata": {},
   "outputs": [],
   "source": [
    "import numpy as np\n",
    "import tensorflow as tf\n",
    "from tensorflow import keras\n",
    "from tensorflow.keras import layers\n",
    "from keras.models import Sequential\n",
    "from keras.callbacks import EarlyStopping\n",
    "import pandas as pd\n",
    "from sklearn.preprocessing import MinMaxScaler\n",
    "import Global_Functions as gf\n",
    "import matplotlib.pyplot as plt\n",
    "\n",
    "import Neuronal_Networks as nn"
   ]
  },
  {
   "cell_type": "code",
   "execution_count": 2,
   "metadata": {},
   "outputs": [],
   "source": [
    "import time\n",
    "timestr = time.strftime(\"%Y-%m-%d_%H-%M_\")"
   ]
  },
  {
   "cell_type": "code",
   "execution_count": 3,
   "metadata": {},
   "outputs": [],
   "source": [
    "OPEN_FOLDER = '../Data/Preped_Data/'"
   ]
  },
  {
   "cell_type": "code",
   "execution_count": 4,
   "metadata": {},
   "outputs": [],
   "source": [
    "ex_1 = gf.open_CSV_file('experiment_1_short.csv', OPEN_FOLDER)\n",
    "ex_4 = gf.open_CSV_file('experiment_4_short.csv', OPEN_FOLDER)\n",
    "ex_9 = gf.open_CSV_file('experiment_9_short.csv', OPEN_FOLDER)\n",
    "ex_20 = gf.open_CSV_file('experiment_20_short.csv', OPEN_FOLDER)\n",
    "ex_21 = gf.open_CSV_file('experiment_21_short.csv', OPEN_FOLDER)\n",
    "ex_22 = gf.open_CSV_file('experiment_22_short.csv', OPEN_FOLDER)\n",
    "ex_23 = gf.open_CSV_file('experiment_23_short.csv', OPEN_FOLDER)\n",
    "ex_24 = gf.open_CSV_file('experiment_24_short.csv', OPEN_FOLDER)"
   ]
  },
  {
   "cell_type": "code",
   "execution_count": 5,
   "metadata": {},
   "outputs": [],
   "source": [
    "train = \"4\"\n",
    "val = \"21\"\n",
    "\n",
    "ex_train = ex_4\n",
    "ex_val = ex_21"
   ]
  },
  {
   "cell_type": "code",
   "execution_count": 6,
   "metadata": {},
   "outputs": [],
   "source": [
    "NEUR = 128\n",
    "EPOCH = 100\n",
    "LAG = 60"
   ]
  },
  {
   "cell_type": "code",
   "execution_count": 7,
   "metadata": {},
   "outputs": [
    {
     "name": "stdout",
     "output_type": "stream",
     "text": [
      "Folder already exists.\n",
      "Folder already exists.\n",
      "Creation of directory ../Images/Intermediate Variable/2021-03-19_09-32_training_4 val_21 128_neurons__100_epochs__lag_60/ successful.\n"
     ]
    }
   ],
   "source": [
    "image_path = \"../Images/\"\n",
    "image_subfolder = image_path + \"Intermediate Variable/\"\n",
    "specs = \"training_{0} val_{1} {2}_neurons__{3}_epochs__lag_{4}\" \n",
    "image_folder = image_subfolder + timestr + specs.format(train, val, NEUR, EPOCH, LAG) + \"/\"\n",
    "\n",
    "gf.check_folder(image_path)\n",
    "gf.check_folder(image_subfolder)\n",
    "gf.check_folder(image_folder)"
   ]
  },
  {
   "cell_type": "code",
   "execution_count": 8,
   "metadata": {},
   "outputs": [],
   "source": [
    "np.random.seed(123)"
   ]
  },
  {
   "cell_type": "code",
   "execution_count": 9,
   "metadata": {},
   "outputs": [],
   "source": [
    "def train_model(experiment_train, experiment_validation, lag_input=1, lag_output=1, batch_size = 1, nmb_epochs = 20, neurons = 64):\n",
    "    scaler_train, X_train, y_train = nn.prepare_data(experiment_train, lag_input = lag_input, all_lags = False, differences = 'add', hybrid = False)\n",
    "    scaler_val, X_val, y_val = nn.prepare_data(experiment_validation, lag_input = lag_input, all_lags = False,  differences = 'add', hybrid = False)\n",
    "    \n",
    "    model = nn.fit_lstm(X_train, y_train, X_val, y_val, 1, nb_epochs = nmb_epochs, neurons = neurons)\n",
    "\n",
    "    return model, scaler_train, X_train, y_train, scaler_val, X_val, y_val    "
   ]
  },
  {
   "cell_type": "code",
   "execution_count": 10,
   "metadata": {},
   "outputs": [
    {
     "name": "stderr",
     "output_type": "stream",
     "text": [
      "C:\\Users\\FlorianLeiser\\Documents\\Masterarbeit\\Code\\Neuronal_Networks.py:46: SettingWithCopyWarning: \n",
      "A value is trying to be set on a copy of a slice from a DataFrame.\n",
      "Try using .loc[row_indexer,col_indexer] = value instead\n",
      "\n",
      "See the caveats in the documentation: https://pandas.pydata.org/pandas-docs/stable/user_guide/indexing.html#returning-a-view-versus-a-copy\n",
      "  X['difference'] = data.diff(lag_input)['el_power']\n",
      "C:\\Users\\FlorianLeiser\\anaconda3\\lib\\site-packages\\pandas\\core\\series.py:1042: SettingWithCopyWarning: \n",
      "A value is trying to be set on a copy of a slice from a DataFrame\n",
      "\n",
      "See the caveats in the documentation: https://pandas.pydata.org/pandas-docs/stable/user_guide/indexing.html#returning-a-view-versus-a-copy\n",
      "  self._set_with(key, value)\n",
      "<ipython-input-9-e65e3c5066ed>:2: SettingWithCopyWarning: \n",
      "A value is trying to be set on a copy of a slice from a DataFrame\n",
      "\n",
      "See the caveats in the documentation: https://pandas.pydata.org/pandas-docs/stable/user_guide/indexing.html#returning-a-view-versus-a-copy\n",
      "  scaler_train, X_train, y_train = nn.prepare_data(experiment_train, lag_input = lag_input, all_lags = False, differences = 'add', hybrid = False)\n",
      "C:\\Users\\FlorianLeiser\\Documents\\Masterarbeit\\Code\\Neuronal_Networks.py:46: SettingWithCopyWarning: \n",
      "A value is trying to be set on a copy of a slice from a DataFrame.\n",
      "Try using .loc[row_indexer,col_indexer] = value instead\n",
      "\n",
      "See the caveats in the documentation: https://pandas.pydata.org/pandas-docs/stable/user_guide/indexing.html#returning-a-view-versus-a-copy\n",
      "  X['difference'] = data.diff(lag_input)['el_power']\n",
      "C:\\Users\\FlorianLeiser\\anaconda3\\lib\\site-packages\\pandas\\core\\series.py:1042: SettingWithCopyWarning: \n",
      "A value is trying to be set on a copy of a slice from a DataFrame\n",
      "\n",
      "See the caveats in the documentation: https://pandas.pydata.org/pandas-docs/stable/user_guide/indexing.html#returning-a-view-versus-a-copy\n",
      "  self._set_with(key, value)\n",
      "<ipython-input-9-e65e3c5066ed>:3: SettingWithCopyWarning: \n",
      "A value is trying to be set on a copy of a slice from a DataFrame\n",
      "\n",
      "See the caveats in the documentation: https://pandas.pydata.org/pandas-docs/stable/user_guide/indexing.html#returning-a-view-versus-a-copy\n",
      "  scaler_val, X_val, y_val = nn.prepare_data(experiment_validation, lag_input = lag_input, all_lags = False,  differences = 'add', hybrid = False)\n"
     ]
    },
    {
     "name": "stdout",
     "output_type": "stream",
     "text": [
      "9795/9795 [==============================] - 14s 1ms/step - loss: 0.0147 - val_loss: 1.5412\n",
      "9795/9795 [==============================] - 15s 2ms/step - loss: 0.0095 - val_loss: 1.1770\n",
      "9795/9795 [==============================] - 17s 2ms/step - loss: 0.0074 - val_loss: 0.6634\n",
      "9795/9795 [==============================] - 19s 2ms/step - loss: 0.0061 - val_loss: 0.5880\n",
      "9795/9795 [==============================] - 19s 2ms/step - loss: 0.0053 - val_loss: 0.4344\n",
      "9757/9795 [============================>.] - ETA: 0s - loss: 0.0079WARNING:tensorflow:Callbacks method `on_test_batch_end` is slow compared to the batch time (batch time: 0.0000s vs `on_test_batch_end` time: 0.0010s). Check your callbacks.\n",
      "9795/9795 [==============================] - 17s 2ms/step - loss: 0.0078 - val_loss: 0.3758\n",
      "9795/9795 [==============================] - 18s 2ms/step - loss: 0.0062 - val_loss: 0.4406\n",
      "9795/9795 [==============================] - 19s 2ms/step - loss: 0.0063 - val_loss: 0.5358\n",
      "9795/9795 [==============================] - 18s 2ms/step - loss: 0.0061 - val_loss: 0.7272\n",
      "9795/9795 [==============================] - 17s 2ms/step - loss: 0.0061 - val_loss: 0.5722\n",
      "9795/9795 [==============================] - 17s 2ms/step - loss: 0.0071 - val_loss: 0.5307\n",
      "9795/9795 [==============================] - 17s 2ms/step - loss: 0.0063 - val_loss: 0.7123\n",
      "9795/9795 [==============================] - 18s 2ms/step - loss: 0.0058 - val_loss: 0.5855\n",
      "9795/9795 [==============================] - 20s 2ms/step - loss: 0.0065 - val_loss: 0.5729\n",
      "9795/9795 [==============================] - 20s 2ms/step - loss: 0.0064 - val_loss: 0.7168\n",
      "9795/9795 [==============================] - 20s 2ms/step - loss: 0.0063 - val_loss: 0.5267\n",
      "9795/9795 [==============================] - 20s 2ms/step - loss: 0.0056 - val_loss: 0.5870\n",
      "9795/9795 [==============================] - 21s 2ms/step - loss: 0.0069 - val_loss: 0.4054\n",
      "9771/9795 [============================>.] - ETA: 0s - loss: 0.0051WARNING:tensorflow:Callbacks method `on_test_batch_end` is slow compared to the batch time (batch time: 0.0000s vs `on_test_batch_end` time: 0.0010s). Check your callbacks.\n",
      "9795/9795 [==============================] - 21s 2ms/step - loss: 0.0051 - val_loss: 0.4573\n",
      "9795/9795 [==============================] - 20s 2ms/step - loss: 0.0059 - val_loss: 0.8901\n",
      "9795/9795 [==============================] - 20s 2ms/step - loss: 0.0070 - val_loss: 0.7387\n",
      "9795/9795 [==============================] - 21s 2ms/step - loss: 0.0053 - val_loss: 0.5574\n",
      "9795/9795 [==============================] - 22s 2ms/step - loss: 0.0051 - val_loss: 0.5389\n",
      "9795/9795 [==============================] - 20s 2ms/step - loss: 0.0045 - val_loss: 0.7767\n",
      "9795/9795 [==============================] - 21s 2ms/step - loss: 0.0051 - val_loss: 0.6381\n",
      "9795/9795 [==============================] - 20s 2ms/step - loss: 0.0048 - val_loss: 0.4387\n",
      "9795/9795 [==============================] - 20s 2ms/step - loss: 0.0046 - val_loss: 0.4178\n",
      "9795/9795 [==============================] - 20s 2ms/step - loss: 0.0046 - val_loss: 0.4938\n",
      "9795/9795 [==============================] - 20s 2ms/step - loss: 0.0050 - val_loss: 0.8328\n",
      "9795/9795 [==============================] - 20s 2ms/step - loss: 0.0053 - val_loss: 0.4123\n",
      "9795/9795 [==============================] - 20s 2ms/step - loss: 0.0050 - val_loss: 0.3635\n",
      "9795/9795 [==============================] - 20s 2ms/step - loss: 0.0036 - val_loss: 0.6584\n",
      "9795/9795 [==============================] - 20s 2ms/step - loss: 0.0042 - val_loss: 0.5112\n",
      "9795/9795 [==============================] - 20s 2ms/step - loss: 0.0034 - val_loss: 0.3820\n",
      "9795/9795 [==============================] - 21s 2ms/step - loss: 0.0048 - val_loss: 0.5873\n",
      "9795/9795 [==============================] - 20s 2ms/step - loss: 0.0053 - val_loss: 0.6862\n",
      "9795/9795 [==============================] - 20s 2ms/step - loss: 0.0054 - val_loss: 0.8250\n",
      "9795/9795 [==============================] - 20s 2ms/step - loss: 0.0051 - val_loss: 0.5196\n",
      "9792/9795 [============================>.] - ETA: 0s - loss: 0.0055WARNING:tensorflow:Callbacks method `on_test_batch_end` is slow compared to the batch time (batch time: 0.0000s vs `on_test_batch_end` time: 0.0010s). Check your callbacks.\n",
      "9795/9795 [==============================] - 20s 2ms/step - loss: 0.0055 - val_loss: 0.5121\n",
      "9795/9795 [==============================] - 19s 2ms/step - loss: 0.0055 - val_loss: 0.5839\n",
      "9795/9795 [==============================] - 19s 2ms/step - loss: 0.0046 - val_loss: 0.4379\n",
      "9795/9795 [==============================] - 19s 2ms/step - loss: 0.0054 - val_loss: 0.3641\n",
      "9795/9795 [==============================] - 19s 2ms/step - loss: 0.0070 - val_loss: 0.5390\n",
      "9795/9795 [==============================] - 19s 2ms/step - loss: 0.0074 - val_loss: 0.3180\n",
      "9795/9795 [==============================] - 20s 2ms/step - loss: 0.0052 - val_loss: 0.2094\n",
      "9795/9795 [==============================] - 21s 2ms/step - loss: 0.0047 - val_loss: 0.3280\n",
      "9795/9795 [==============================] - 17s 2ms/step - loss: 0.0051 - val_loss: 0.2792\n",
      "9795/9795 [==============================] - 17s 2ms/step - loss: 0.0051 - val_loss: 0.4704\n",
      "9795/9795 [==============================] - 17s 2ms/step - loss: 0.0047 - val_loss: 0.5493\n",
      "9787/9795 [============================>.] - ETA: 0s - loss: 0.0062WARNING:tensorflow:Callbacks method `on_test_batch_end` is slow compared to the batch time (batch time: 0.0000s vs `on_test_batch_end` time: 0.0010s). Check your callbacks.\n",
      "9795/9795 [==============================] - 17s 2ms/step - loss: 0.0062 - val_loss: 0.4611\n",
      "9795/9795 [==============================] - 17s 2ms/step - loss: 0.0058 - val_loss: 0.3491\n",
      "9795/9795 [==============================] - 18s 2ms/step - loss: 0.0047 - val_loss: 0.5591\n",
      "9795/9795 [==============================] - 18s 2ms/step - loss: 0.0041 - val_loss: 0.3124\n",
      "9795/9795 [==============================] - 17s 2ms/step - loss: 0.0042 - val_loss: 0.4084\n",
      "9795/9795 [==============================] - 17s 2ms/step - loss: 0.0036 - val_loss: 0.4382\n",
      "9795/9795 [==============================] - 17s 2ms/step - loss: 0.0036 - val_loss: 0.7841\n",
      "9795/9795 [==============================] - 17s 2ms/step - loss: 0.0036 - val_loss: 0.5721\n",
      "9795/9795 [==============================] - 19s 2ms/step - loss: 0.0039 - val_loss: 0.6372\n",
      "9795/9795 [==============================] - 21s 2ms/step - loss: 0.0059 - val_loss: 0.6103\n",
      "9795/9795 [==============================] - 20s 2ms/step - loss: 0.0045 - val_loss: 0.3028\n",
      "9770/9795 [============================>.] - ETA: 0s - loss: 0.0043WARNING:tensorflow:Callbacks method `on_test_batch_end` is slow compared to the batch time (batch time: 0.0000s vs `on_test_batch_end` time: 0.0010s). Check your callbacks.\n",
      "9795/9795 [==============================] - 22s 2ms/step - loss: 0.0043 - val_loss: 0.5228\n",
      "9795/9795 [==============================] - ETA: 0s - loss: 0.0051WARNING:tensorflow:Callbacks method `on_test_batch_end` is slow compared to the batch time (batch time: 0.0000s vs `on_test_batch_end` time: 0.0010s). Check your callbacks.\n",
      "9795/9795 [==============================] - 21s 2ms/step - loss: 0.0051 - val_loss: 0.3894\n",
      "9795/9795 [==============================] - 21s 2ms/step - loss: 0.0052 - val_loss: 0.4779\n",
      "9795/9795 [==============================] - 20s 2ms/step - loss: 0.0055 - val_loss: 0.3099\n",
      "9795/9795 [==============================] - 20s 2ms/step - loss: 0.0053 - val_loss: 0.4044\n",
      "9795/9795 [==============================] - 20s 2ms/step - loss: 0.0036 - val_loss: 0.5363\n",
      "9795/9795 [==============================] - 20s 2ms/step - loss: 0.0045 - val_loss: 0.2167\n",
      "9795/9795 [==============================] - 20s 2ms/step - loss: 0.0042 - val_loss: 0.4488\n",
      "9795/9795 [==============================] - 20s 2ms/step - loss: 0.0050 - val_loss: 0.3035\n",
      "9795/9795 [==============================] - 20s 2ms/step - loss: 0.0050 - val_loss: 0.3300\n",
      "9795/9795 [==============================] - 20s 2ms/step - loss: 0.0049 - val_loss: 0.3137\n",
      "9795/9795 [==============================] - 20s 2ms/step - loss: 0.0050 - val_loss: 0.4438\n",
      "9792/9795 [============================>.] - ETA: 0s - loss: 0.0051WARNING:tensorflow:Callbacks method `on_test_batch_end` is slow compared to the batch time (batch time: 0.0000s vs `on_test_batch_end` time: 0.0010s). Check your callbacks.\n"
     ]
    },
    {
     "name": "stdout",
     "output_type": "stream",
     "text": [
      "9795/9795 [==============================] - 20s 2ms/step - loss: 0.0051 - val_loss: 0.3803\n",
      "9795/9795 [==============================] - 20s 2ms/step - loss: 0.0049 - val_loss: 0.2264\n",
      "9795/9795 [==============================] - 20s 2ms/step - loss: 0.0059 - val_loss: 0.3294\n",
      "9795/9795 [==============================] - 20s 2ms/step - loss: 0.0038 - val_loss: 0.4247\n",
      "9792/9795 [============================>.] - ETA: 0s - loss: 0.0053WARNING:tensorflow:Callbacks method `on_test_batch_end` is slow compared to the batch time (batch time: 0.0000s vs `on_test_batch_end` time: 0.0010s). Check your callbacks.\n",
      "9795/9795 [==============================] - 20s 2ms/step - loss: 0.0053 - val_loss: 0.6542\n",
      "9795/9795 [==============================] - 20s 2ms/step - loss: 0.0053 - val_loss: 0.4854\n",
      "9795/9795 [==============================] - 19s 2ms/step - loss: 0.0054 - val_loss: 0.4115\n",
      "9795/9795 [==============================] - 20s 2ms/step - loss: 0.0058 - val_loss: 0.6008\n",
      "9775/9795 [============================>.] - ETA: 0s - loss: 0.0049WARNING:tensorflow:Callbacks method `on_test_batch_end` is slow compared to the batch time (batch time: 0.0000s vs `on_test_batch_end` time: 0.0010s). Check your callbacks.\n",
      "9795/9795 [==============================] - 20s 2ms/step - loss: 0.0048 - val_loss: 1.0866\n",
      "9795/9795 [==============================] - 19s 2ms/step - loss: 0.0047 - val_loss: 0.6158\n",
      "9795/9795 [==============================] - 20s 2ms/step - loss: 0.0063 - val_loss: 0.3706\n",
      "9795/9795 [==============================] - 20s 2ms/step - loss: 0.0103 - val_loss: 0.4741\n",
      "9795/9795 [==============================] - 20s 2ms/step - loss: 0.0046 - val_loss: 0.5178\n",
      "9778/9795 [============================>.] - ETA: 0s - loss: 0.0053WARNING:tensorflow:Callbacks method `on_test_batch_end` is slow compared to the batch time (batch time: 0.0000s vs `on_test_batch_end` time: 0.0010s). Check your callbacks.\n",
      "9795/9795 [==============================] - 20s 2ms/step - loss: 0.0052 - val_loss: 0.3088\n",
      "9795/9795 [==============================] - 21s 2ms/step - loss: 0.0058 - val_loss: 0.4012\n",
      "9795/9795 [==============================] - 21s 2ms/step - loss: 0.0079 - val_loss: 0.2812\n",
      "9795/9795 [==============================] - 21s 2ms/step - loss: 0.0072 - val_loss: 0.5060\n",
      "9795/9795 [==============================] - 21s 2ms/step - loss: 0.0072 - val_loss: 0.2484\n",
      "9795/9795 [==============================] - 22s 2ms/step - loss: 0.0060 - val_loss: 0.1935\n",
      "9795/9795 [==============================] - 21s 2ms/step - loss: 0.0049 - val_loss: 0.7003\n",
      "9795/9795 [==============================] - 21s 2ms/step - loss: 0.0066 - val_loss: 0.5102\n",
      "9795/9795 [==============================] - 20s 2ms/step - loss: 0.0055 - val_loss: 0.4067\n",
      "9795/9795 [==============================] - 21s 2ms/step - loss: 0.0072 - val_loss: 0.4133\n",
      "9795/9795 [==============================] - 21s 2ms/step - loss: 0.0096 - val_loss: 0.3495\n",
      "9795/9795 [==============================] - 21s 2ms/step - loss: 0.0057 - val_loss: 0.3796\n",
      "9795/9795 [==============================] - 21s 2ms/step - loss: 0.0058 - val_loss: 0.3749\n",
      "9795/9795 [==============================] - 21s 2ms/step - loss: 0.0059 - val_loss: 0.5267\n",
      "9795/9795 [==============================] - 21s 2ms/step - loss: 0.0053 - val_loss: 0.3085\n"
     ]
    }
   ],
   "source": [
    "model, scaler_train, X_train, y_train, _, X_val, y_val = train_model(ex_train, ex_val, lag_input = LAG, nmb_epochs = EPOCH, neurons=NEUR)"
   ]
  },
  {
   "cell_type": "code",
   "execution_count": 11,
   "metadata": {},
   "outputs": [],
   "source": [
    "def predictions(experiment, model, batch_size = 1, specs = \"\"):    \n",
    "    scaler, X, y = nn.prepare_data(experiment, lag_input = LAG, all_lags = False, differences = 'add', hybrid = False)\n",
    "    \n",
    "    preds_scaled = model.predict(X, batch_size = batch_size)\n",
    "    preds = scaler[1].inverse_transform(preds_scaled)\n",
    "    \n",
    "    fig = plt.figure(figsize = (15,10))\n",
    "    plt.plot(experiment['el_power'], color = gf.get_color(\"grey\"), label = \"True\")\n",
    "    plt.plot(preds, color = gf.get_color(\"green\"), label = \"Predictions\")\n",
    "    plt.ylabel('Electric power in [W]')\n",
    "    plt.xlabel('Time')\n",
    "    plt.legend()\n",
    "    plt.title('Comparison predictions to true values' + specs, fontsize = 14)\n",
    "    fig.tight_layout()\n",
    "    plt.show()\n",
    "    fig.savefig(image_folder + specs + \"predictions.png\")\n",
    "    fig.savefig(image_folder + specs + \"predictions.svg\")\n",
    "    \n",
    "    return scaler, X, y, preds_scaled, preds"
   ]
  },
  {
   "cell_type": "code",
   "execution_count": 12,
   "metadata": {
    "scrolled": true
   },
   "outputs": [
    {
     "name": "stderr",
     "output_type": "stream",
     "text": [
      "C:\\Users\\FlorianLeiser\\Documents\\Masterarbeit\\Code\\Neuronal_Networks.py:46: SettingWithCopyWarning: \n",
      "A value is trying to be set on a copy of a slice from a DataFrame.\n",
      "Try using .loc[row_indexer,col_indexer] = value instead\n",
      "\n",
      "See the caveats in the documentation: https://pandas.pydata.org/pandas-docs/stable/user_guide/indexing.html#returning-a-view-versus-a-copy\n",
      "  X['difference'] = data.diff(lag_input)['el_power']\n",
      "C:\\Users\\FlorianLeiser\\anaconda3\\lib\\site-packages\\pandas\\core\\series.py:1042: SettingWithCopyWarning: \n",
      "A value is trying to be set on a copy of a slice from a DataFrame\n",
      "\n",
      "See the caveats in the documentation: https://pandas.pydata.org/pandas-docs/stable/user_guide/indexing.html#returning-a-view-versus-a-copy\n",
      "  self._set_with(key, value)\n",
      "<ipython-input-11-a833e0a1dde6>:2: SettingWithCopyWarning: \n",
      "A value is trying to be set on a copy of a slice from a DataFrame\n",
      "\n",
      "See the caveats in the documentation: https://pandas.pydata.org/pandas-docs/stable/user_guide/indexing.html#returning-a-view-versus-a-copy\n",
      "  scaler, X, y = nn.prepare_data(experiment, lag_input = LAG, all_lags = False, differences = 'add', hybrid = False)\n"
     ]
    },
    {
     "ename": "AttributeError",
     "evalue": "'tuple' object has no attribute 'predict'",
     "output_type": "error",
     "traceback": [
      "\u001b[1;31m---------------------------------------------------------------------------\u001b[0m",
      "\u001b[1;31mAttributeError\u001b[0m                            Traceback (most recent call last)",
      "\u001b[1;32m<ipython-input-12-6a08a3d510c6>\u001b[0m in \u001b[0;36m<module>\u001b[1;34m\u001b[0m\n\u001b[1;32m----> 1\u001b[1;33m \u001b[0mscaler_1\u001b[0m\u001b[1;33m,\u001b[0m \u001b[0mX_1\u001b[0m\u001b[1;33m,\u001b[0m \u001b[0my_1\u001b[0m\u001b[1;33m,\u001b[0m \u001b[0mpreds_scaled_1\u001b[0m\u001b[1;33m,\u001b[0m \u001b[0mpreds_1\u001b[0m \u001b[1;33m=\u001b[0m \u001b[0mpredictions\u001b[0m\u001b[1;33m(\u001b[0m\u001b[0mex_1\u001b[0m\u001b[1;33m,\u001b[0m \u001b[0mmodel\u001b[0m\u001b[1;33m,\u001b[0m \u001b[0mspecs\u001b[0m \u001b[1;33m=\u001b[0m \u001b[1;34m\" on ex_1 with model trained on \"\u001b[0m \u001b[1;33m+\u001b[0m \u001b[0mtrain\u001b[0m\u001b[1;33m)\u001b[0m\u001b[1;33m\u001b[0m\u001b[1;33m\u001b[0m\u001b[0m\n\u001b[0m",
      "\u001b[1;32m<ipython-input-11-a833e0a1dde6>\u001b[0m in \u001b[0;36mpredictions\u001b[1;34m(experiment, model, batch_size, specs)\u001b[0m\n\u001b[0;32m      2\u001b[0m     \u001b[0mscaler\u001b[0m\u001b[1;33m,\u001b[0m \u001b[0mX\u001b[0m\u001b[1;33m,\u001b[0m \u001b[0my\u001b[0m \u001b[1;33m=\u001b[0m \u001b[0mnn\u001b[0m\u001b[1;33m.\u001b[0m\u001b[0mprepare_data\u001b[0m\u001b[1;33m(\u001b[0m\u001b[0mexperiment\u001b[0m\u001b[1;33m,\u001b[0m \u001b[0mlag_input\u001b[0m \u001b[1;33m=\u001b[0m \u001b[0mLAG\u001b[0m\u001b[1;33m,\u001b[0m \u001b[0mall_lags\u001b[0m \u001b[1;33m=\u001b[0m \u001b[1;32mFalse\u001b[0m\u001b[1;33m,\u001b[0m \u001b[0mdifferences\u001b[0m \u001b[1;33m=\u001b[0m \u001b[1;34m'add'\u001b[0m\u001b[1;33m,\u001b[0m \u001b[0mhybrid\u001b[0m \u001b[1;33m=\u001b[0m \u001b[1;32mFalse\u001b[0m\u001b[1;33m)\u001b[0m\u001b[1;33m\u001b[0m\u001b[1;33m\u001b[0m\u001b[0m\n\u001b[0;32m      3\u001b[0m \u001b[1;33m\u001b[0m\u001b[0m\n\u001b[1;32m----> 4\u001b[1;33m     \u001b[0mpreds_scaled\u001b[0m \u001b[1;33m=\u001b[0m \u001b[0mmodel\u001b[0m\u001b[1;33m.\u001b[0m\u001b[0mpredict\u001b[0m\u001b[1;33m(\u001b[0m\u001b[0mX\u001b[0m\u001b[1;33m,\u001b[0m \u001b[0mbatch_size\u001b[0m \u001b[1;33m=\u001b[0m \u001b[0mbatch_size\u001b[0m\u001b[1;33m)\u001b[0m\u001b[1;33m\u001b[0m\u001b[1;33m\u001b[0m\u001b[0m\n\u001b[0m\u001b[0;32m      5\u001b[0m     \u001b[0mpreds\u001b[0m \u001b[1;33m=\u001b[0m \u001b[0mscaler\u001b[0m\u001b[1;33m[\u001b[0m\u001b[1;36m1\u001b[0m\u001b[1;33m]\u001b[0m\u001b[1;33m.\u001b[0m\u001b[0minverse_transform\u001b[0m\u001b[1;33m(\u001b[0m\u001b[0mpreds_scaled\u001b[0m\u001b[1;33m)\u001b[0m\u001b[1;33m\u001b[0m\u001b[1;33m\u001b[0m\u001b[0m\n\u001b[0;32m      6\u001b[0m \u001b[1;33m\u001b[0m\u001b[0m\n",
      "\u001b[1;31mAttributeError\u001b[0m: 'tuple' object has no attribute 'predict'"
     ]
    }
   ],
   "source": [
    "scaler_1, X_1, y_1, preds_scaled_1, preds_1 = predictions(ex_1, model, specs = \" on ex_1 with model trained on \" + train)"
   ]
  },
  {
   "cell_type": "code",
   "execution_count": null,
   "metadata": {},
   "outputs": [],
   "source": [
    "scaler_4, X_4, y_4, preds_scaled_4, preds_4 = predictions(ex_4, model, specs = \" on ex_4 with model trained on \" + train)"
   ]
  },
  {
   "cell_type": "code",
   "execution_count": null,
   "metadata": {
    "scrolled": true
   },
   "outputs": [],
   "source": [
    "scaler_9, X_9, y_9, preds_scaled_9, preds_9 = predictions(ex_9, model, specs = \" on ex_9 with model trained on \" + train)"
   ]
  },
  {
   "cell_type": "code",
   "execution_count": null,
   "metadata": {},
   "outputs": [],
   "source": [
    "scaler_20, X_20, y_20, preds_scaled_20, preds_20 = predictions(ex_20, model, specs = \" on ex_20 with model trained on \" + train)"
   ]
  },
  {
   "cell_type": "code",
   "execution_count": null,
   "metadata": {},
   "outputs": [],
   "source": [
    "scaler_21, X_21, y_21, preds_scaled_21, preds_21 = predictions(ex_21, model, specs = \" on ex_21 with model trained on \" + train)"
   ]
  },
  {
   "cell_type": "code",
   "execution_count": null,
   "metadata": {},
   "outputs": [],
   "source": [
    "scaler_22, X_22, y_22, preds_scaled_22, preds_22 = predictions(ex_22, model, specs = \" on ex_22 with model trained on \" + train)"
   ]
  },
  {
   "cell_type": "code",
   "execution_count": null,
   "metadata": {},
   "outputs": [],
   "source": [
    "scaler_23, X_23, y_23, preds_scaled_23, preds_23 = predictions(ex_23, model, specs = \" on ex_23 with model trained on \" + train)"
   ]
  },
  {
   "cell_type": "code",
   "execution_count": null,
   "metadata": {},
   "outputs": [],
   "source": [
    "scaler_24, X_24, y_24, preds_scaled_24, preds_24 = predictions(ex_24, model, specs = \" on ex_24 with model trained on \" + train)"
   ]
  },
  {
   "cell_type": "code",
   "execution_count": null,
   "metadata": {},
   "outputs": [],
   "source": []
  }
 ],
 "metadata": {
  "kernelspec": {
   "display_name": "Python 3",
   "language": "python",
   "name": "python3"
  },
  "language_info": {
   "codemirror_mode": {
    "name": "ipython",
    "version": 3
   },
   "file_extension": ".py",
   "mimetype": "text/x-python",
   "name": "python",
   "nbconvert_exporter": "python",
   "pygments_lexer": "ipython3",
   "version": "3.8.3"
  }
 },
 "nbformat": 4,
 "nbformat_minor": 4
}
