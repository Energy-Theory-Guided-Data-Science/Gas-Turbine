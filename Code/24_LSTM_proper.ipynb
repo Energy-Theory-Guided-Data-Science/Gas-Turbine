{
 "cells": [
  {
   "cell_type": "code",
   "execution_count": 1,
   "metadata": {},
   "outputs": [],
   "source": [
    "import Preprocessing as pp\n",
    "import Global_Functions as gf\n",
    "from sklearn.metrics import mean_squared_error\n",
    "from math import sqrt\n",
    "from matplotlib import pyplot as plt\n",
    "import pandas as pd\n",
    "import numpy as np\n",
    "import time\n",
    "from sklearn.preprocessing import MinMaxScaler\n",
    "\n",
    "from keras.models import Sequential\n",
    "from keras.layers import Dense\n",
    "from keras.layers import LSTM\n",
    "from keras.layers import Activation"
   ]
  },
  {
   "cell_type": "code",
   "execution_count": 2,
   "metadata": {},
   "outputs": [
    {
     "name": "stdout",
     "output_type": "stream",
     "text": [
      "Folder already exists.\n",
      "Folder already exists.\n",
      "Folder already exists.\n"
     ]
    }
   ],
   "source": [
    "temp_data_folder = \"../Data/Temp_Data/\"\n",
    "image_path = \"../Images/\"\n",
    "image_subfolder = \"Proposal/\"\n",
    "image_folder = image_path + image_subfolder\n",
    "\n",
    "gf.check_folder(temp_data_folder)\n",
    "gf.check_folder(image_path)\n",
    "gf.check_folder(image_folder)"
   ]
  },
  {
   "cell_type": "code",
   "execution_count": 3,
   "metadata": {},
   "outputs": [],
   "source": [
    "df_1 = gf.open_CSV_file('experiment_1_short.csv', temp_data_folder)\n",
    "df_4b = gf.open_CSV_file('experiment_4b_short.csv', temp_data_folder)\n",
    "df_9 = gf.open_CSV_file('experiment_9_short.csv', temp_data_folder)"
   ]
  },
  {
   "cell_type": "code",
   "execution_count": 4,
   "metadata": {},
   "outputs": [],
   "source": [
    "el_maxi = df_4b.loc[df_4b.idxmax()['el_power']]['el_power']\n",
    "el_mini = df_4b.loc[df_4b.idxmin()['el_power']]['el_power']"
   ]
  },
  {
   "cell_type": "code",
   "execution_count": 5,
   "metadata": {},
   "outputs": [],
   "source": [
    "seq_length = 120"
   ]
  },
  {
   "cell_type": "code",
   "execution_count": 6,
   "metadata": {},
   "outputs": [],
   "source": [
    "def scale3(train, test, val):\n",
    "    scaler = MinMaxScaler(feature_range=(0,1))\n",
    "    scaler = scaler.fit(train)\n",
    "    \n",
    "    train = train.reshape(train.shape[0], train.shape[1])\n",
    "    train_scaled = scaler.transform(train)\n",
    "    \n",
    "    test = test.reshape(test.shape[0], test.shape[1])\n",
    "    test_scaled = scaler.transform(test)\n",
    "    \n",
    "    val = val.reshape(val.shape[0], val.shape[1])\n",
    "    val_scaled = scaler.transform(val)\n",
    "    \n",
    "    return scaler, train_scaled, test_scaled, val_scaled"
   ]
  },
  {
   "cell_type": "code",
   "execution_count": 7,
   "metadata": {},
   "outputs": [],
   "source": [
    "X_train = np.array([[df_4b['input_voltage'][i+j] for j in range(seq_length)] for i in range(len(df_4b)-seq_length)])\n",
    "X_val = np.array([[df_9['input_voltage'][i+j] for j in range(seq_length)] for i in range(len(df_9)-seq_length)])\n",
    "X_test = np.array([[df_1['input_voltage'][i+j] for j in range(seq_length)] for i in range(len(df_1)-seq_length)])"
   ]
  },
  {
   "cell_type": "code",
   "execution_count": 8,
   "metadata": {},
   "outputs": [],
   "source": [
    "y_train = np.array([df_4b['el_power'][i] for i in range(seq_length, len(df_4b))]).reshape(-1,1)\n",
    "y_val = np.array([df_9['el_power'][i] for i in range(seq_length, len(df_9))]).reshape(-1,1)\n",
    "y_test = np.array([df_1['el_power'][i] for i in range(seq_length, len(df_1))]).reshape(-1,1)"
   ]
  },
  {
   "cell_type": "code",
   "execution_count": 9,
   "metadata": {},
   "outputs": [],
   "source": [
    "scaler_x, X_train, X_test, X_val = scale3(X_train, X_test, X_val)\n",
    "scaler_y, y_train, y_test, y_val = scale3(y_train, y_test, y_val)"
   ]
  },
  {
   "cell_type": "code",
   "execution_count": 10,
   "metadata": {},
   "outputs": [],
   "source": [
    "X_train = X_train.reshape((len(df_4b)-seq_length,seq_length,1))\n",
    "X_val = X_val.reshape((len(df_9)-seq_length,seq_length,1))\n",
    "X_test = X_test.reshape((len(df_1)-seq_length,seq_length,1))"
   ]
  },
  {
   "cell_type": "code",
   "execution_count": 11,
   "metadata": {},
   "outputs": [],
   "source": [
    "y_train = y_train.reshape((len(df_4b)-seq_length, 1))\n",
    "y_val = y_val.reshape((len(df_9)-seq_length, 1))\n",
    "y_test = y_test.reshape((len(df_1)-seq_length, 1))"
   ]
  },
  {
   "cell_type": "code",
   "execution_count": 12,
   "metadata": {},
   "outputs": [],
   "source": [
    "from keras.callbacks import EarlyStopping\n",
    "es=EarlyStopping(monitor=\"val_loss\",verbose=2,mode='min',patience=5)"
   ]
  },
  {
   "cell_type": "code",
   "execution_count": 13,
   "metadata": {},
   "outputs": [
    {
     "name": "stdout",
     "output_type": "stream",
     "text": [
      "Epoch 1/100\n",
      "163/163 - 14s - loss: 0.0473 - val_loss: 0.0107\n",
      "Epoch 2/100\n",
      "163/163 - 14s - loss: 0.0305 - val_loss: 0.0088\n",
      "Epoch 3/100\n",
      "163/163 - 14s - loss: 0.0231 - val_loss: 0.0039\n",
      "Epoch 4/100\n",
      "163/163 - 14s - loss: 0.0208 - val_loss: 0.0056\n",
      "Epoch 5/100\n",
      "163/163 - 14s - loss: 0.0209 - val_loss: 0.0087\n",
      "Epoch 6/100\n",
      "163/163 - 14s - loss: 0.0190 - val_loss: 0.0026\n",
      "Epoch 7/100\n",
      "163/163 - 14s - loss: 0.0181 - val_loss: 0.0013\n",
      "Epoch 8/100\n",
      "163/163 - 14s - loss: 0.0187 - val_loss: 0.0046\n",
      "Epoch 9/100\n",
      "163/163 - 14s - loss: 0.0181 - val_loss: 0.0097\n",
      "Epoch 10/100\n",
      "163/163 - 14s - loss: 0.0177 - val_loss: 0.0144\n",
      "Epoch 11/100\n",
      "163/163 - 14s - loss: 0.0178 - val_loss: 0.0036\n",
      "Epoch 12/100\n",
      "163/163 - 14s - loss: 0.0169 - val_loss: 0.0103\n",
      "Epoch 13/100\n",
      "163/163 - 14s - loss: 0.0277 - val_loss: 0.0151\n",
      "Epoch 14/100\n",
      "163/163 - 14s - loss: 0.0329 - val_loss: 0.0638\n",
      "Epoch 15/100\n",
      "163/163 - 14s - loss: 0.0526 - val_loss: 0.0782\n",
      "Epoch 16/100\n",
      "163/163 - 14s - loss: 0.0287 - val_loss: 0.0367\n",
      "Epoch 17/100\n",
      "163/163 - 14s - loss: 0.0213 - val_loss: 0.0514\n",
      "Epoch 18/100\n",
      "163/163 - 14s - loss: 0.0211 - val_loss: 0.0375\n",
      "Epoch 19/100\n",
      "163/163 - 14s - loss: 0.0249 - val_loss: 0.0449\n",
      "Epoch 20/100\n",
      "163/163 - 14s - loss: 0.0212 - val_loss: 0.0363\n",
      "Epoch 21/100\n",
      "163/163 - 14s - loss: 0.0209 - val_loss: 0.0269\n",
      "Epoch 22/100\n",
      "163/163 - 14s - loss: 0.0200 - val_loss: 0.0209\n",
      "Epoch 23/100\n",
      "163/163 - 14s - loss: 0.0206 - val_loss: 0.0304\n",
      "Epoch 24/100\n",
      "163/163 - 14s - loss: 0.0321 - val_loss: 0.0218\n",
      "Epoch 25/100\n",
      "163/163 - 14s - loss: 0.0333 - val_loss: 0.0504\n",
      "Epoch 26/100\n",
      "163/163 - 14s - loss: 0.0206 - val_loss: 0.0249\n",
      "Epoch 27/100\n",
      "163/163 - 14s - loss: 0.0198 - val_loss: 0.0137\n",
      "Epoch 28/100\n",
      "163/163 - 14s - loss: 0.0229 - val_loss: 0.0018\n",
      "Epoch 29/100\n",
      "163/163 - 14s - loss: 0.0243 - val_loss: 0.0193\n",
      "Epoch 30/100\n",
      "163/163 - 14s - loss: 0.0255 - val_loss: 0.0031\n",
      "Epoch 31/100\n",
      "163/163 - 14s - loss: 0.0302 - val_loss: 0.0099\n",
      "Epoch 32/100\n",
      "163/163 - 14s - loss: 0.0236 - val_loss: 0.0225\n",
      "Epoch 33/100\n",
      "163/163 - 14s - loss: 0.0230 - val_loss: 0.0205\n",
      "Epoch 34/100\n",
      "163/163 - 14s - loss: 0.0212 - val_loss: 0.0072\n",
      "Epoch 35/100\n",
      "163/163 - 14s - loss: 0.0181 - val_loss: 0.0181\n",
      "Epoch 36/100\n",
      "163/163 - 14s - loss: 0.0183 - val_loss: 0.0078\n",
      "Epoch 37/100\n",
      "163/163 - 14s - loss: 0.0170 - val_loss: 0.0067\n",
      "Epoch 38/100\n",
      "163/163 - 14s - loss: 0.0173 - val_loss: 0.0245\n",
      "Epoch 39/100\n",
      "163/163 - 14s - loss: 0.0214 - val_loss: 0.0160\n",
      "Epoch 40/100\n",
      "163/163 - 14s - loss: 0.0190 - val_loss: 0.0100\n",
      "Epoch 41/100\n",
      "163/163 - 14s - loss: 0.0167 - val_loss: 0.0113\n",
      "Epoch 42/100\n",
      "163/163 - 14s - loss: 0.0159 - val_loss: 0.0057\n",
      "Epoch 43/100\n",
      "163/163 - 14s - loss: 0.0157 - val_loss: 0.0080\n",
      "Epoch 44/100\n",
      "163/163 - 14s - loss: 0.0158 - val_loss: 0.0144\n",
      "Epoch 45/100\n",
      "163/163 - 14s - loss: 0.0157 - val_loss: 0.0142\n",
      "Epoch 46/100\n",
      "163/163 - 15s - loss: 0.0154 - val_loss: 0.0043\n",
      "Epoch 47/100\n",
      "163/163 - 14s - loss: 0.0152 - val_loss: 0.0133\n",
      "Epoch 48/100\n",
      "163/163 - 14s - loss: 0.0151 - val_loss: 0.0093\n",
      "Epoch 49/100\n",
      "163/163 - 14s - loss: 0.0150 - val_loss: 0.0073\n",
      "Epoch 50/100\n",
      "163/163 - 14s - loss: 0.0151 - val_loss: 0.0015\n",
      "Epoch 51/100\n",
      "163/163 - 14s - loss: 0.0150 - val_loss: 0.0070\n",
      "Epoch 52/100\n",
      "163/163 - 14s - loss: 0.0150 - val_loss: 0.0019\n",
      "Epoch 53/100\n",
      "163/163 - 14s - loss: 0.0151 - val_loss: 0.0071\n",
      "Epoch 54/100\n",
      "163/163 - 14s - loss: 0.0150 - val_loss: 0.0048\n",
      "Epoch 55/100\n",
      "163/163 - 14s - loss: 0.0149 - val_loss: 0.0036\n",
      "Epoch 56/100\n",
      "163/163 - 14s - loss: 0.0149 - val_loss: 0.0020\n",
      "Epoch 57/100\n",
      "163/163 - 14s - loss: 0.0149 - val_loss: 0.0054\n",
      "Epoch 58/100\n",
      "163/163 - 14s - loss: 0.0148 - val_loss: 0.0104\n",
      "Epoch 59/100\n",
      "163/163 - 14s - loss: 0.0149 - val_loss: 0.0026\n",
      "Epoch 60/100\n",
      "163/163 - 14s - loss: 0.0149 - val_loss: 0.0063\n",
      "Epoch 61/100\n",
      "163/163 - 14s - loss: 0.0153 - val_loss: 0.0175\n",
      "Epoch 62/100\n",
      "163/163 - 14s - loss: 0.0149 - val_loss: 0.0146\n",
      "Epoch 63/100\n",
      "163/163 - 14s - loss: 0.0147 - val_loss: 0.0104\n",
      "Epoch 64/100\n",
      "163/163 - 14s - loss: 0.0147 - val_loss: 0.0134\n",
      "Epoch 65/100\n",
      "163/163 - 14s - loss: 0.0148 - val_loss: 0.0104\n",
      "Epoch 66/100\n",
      "163/163 - 14s - loss: 0.0147 - val_loss: 0.0078\n",
      "Epoch 67/100\n",
      "163/163 - 14s - loss: 0.0148 - val_loss: 0.0094\n",
      "Epoch 68/100\n",
      "163/163 - 14s - loss: 0.0146 - val_loss: 0.0083\n",
      "Epoch 69/100\n",
      "163/163 - 14s - loss: 0.0147 - val_loss: 0.0100\n",
      "Epoch 70/100\n",
      "163/163 - 14s - loss: 0.0148 - val_loss: 0.0124\n",
      "Epoch 71/100\n",
      "163/163 - 14s - loss: 0.0148 - val_loss: 0.0136\n",
      "Epoch 72/100\n",
      "163/163 - 14s - loss: 0.0147 - val_loss: 0.0134\n",
      "Epoch 73/100\n",
      "163/163 - 14s - loss: 0.0147 - val_loss: 0.0061\n",
      "Epoch 74/100\n",
      "163/163 - 14s - loss: 0.0146 - val_loss: 0.0047\n",
      "Epoch 75/100\n",
      "163/163 - 14s - loss: 0.0145 - val_loss: 0.0069\n",
      "Epoch 76/100\n",
      "163/163 - 14s - loss: 0.0146 - val_loss: 0.0052\n",
      "Epoch 77/100\n",
      "163/163 - 14s - loss: 0.0146 - val_loss: 0.0060\n",
      "Epoch 78/100\n",
      "163/163 - 14s - loss: 0.0170 - val_loss: 0.0103\n",
      "Epoch 79/100\n",
      "163/163 - 14s - loss: 0.0180 - val_loss: 0.0056\n",
      "Epoch 80/100\n",
      "163/163 - 14s - loss: 0.0165 - val_loss: 0.0045\n",
      "Epoch 81/100\n",
      "163/163 - 14s - loss: 0.0198 - val_loss: 0.0194\n",
      "Epoch 82/100\n",
      "163/163 - 14s - loss: 0.0255 - val_loss: 0.0051\n",
      "Epoch 83/100\n",
      "163/163 - 14s - loss: 0.0197 - val_loss: 0.0025\n",
      "Epoch 84/100\n",
      "163/163 - 14s - loss: 0.0180 - val_loss: 0.0064\n",
      "Epoch 85/100\n",
      "163/163 - 14s - loss: 0.0150 - val_loss: 0.0021\n",
      "Epoch 86/100\n",
      "163/163 - 14s - loss: 0.0149 - val_loss: 0.0080\n",
      "Epoch 87/100\n",
      "163/163 - 14s - loss: 0.0148 - val_loss: 0.0027\n",
      "Epoch 88/100\n",
      "163/163 - 14s - loss: 0.0147 - val_loss: 0.0029\n",
      "Epoch 89/100\n",
      "163/163 - 14s - loss: 0.0147 - val_loss: 0.0041\n",
      "Epoch 90/100\n",
      "163/163 - 14s - loss: 0.0146 - val_loss: 0.0034\n",
      "Epoch 91/100\n",
      "163/163 - 15s - loss: 0.0146 - val_loss: 0.0037\n",
      "Epoch 92/100\n",
      "163/163 - 14s - loss: 0.0147 - val_loss: 0.0029\n",
      "Epoch 93/100\n",
      "163/163 - 14s - loss: 0.0146 - val_loss: 0.0032\n",
      "Epoch 94/100\n",
      "163/163 - 14s - loss: 0.0145 - val_loss: 0.0012\n",
      "Epoch 95/100\n",
      "163/163 - 14s - loss: 0.0145 - val_loss: 0.0016\n",
      "Epoch 96/100\n",
      "163/163 - 14s - loss: 0.0144 - val_loss: 0.0030\n",
      "Epoch 97/100\n",
      "163/163 - 14s - loss: 0.0146 - val_loss: 0.0024\n",
      "Epoch 98/100\n",
      "163/163 - 14s - loss: 0.0145 - val_loss: 0.0039\n",
      "Epoch 99/100\n",
      "163/163 - 14s - loss: 0.0144 - val_loss: 0.0057\n",
      "Epoch 100/100\n",
      "163/163 - 14s - loss: 0.0144 - val_loss: 0.0035\n"
     ]
    },
    {
     "data": {
      "text/plain": [
       "<tensorflow.python.keras.callbacks.History at 0x17f0d4c2b50>"
      ]
     },
     "execution_count": 13,
     "metadata": {},
     "output_type": "execute_result"
    }
   ],
   "source": [
    "model = Sequential()\n",
    "model.add(LSTM(100, input_shape = (seq_length, 1), return_sequences = False))\n",
    "model.add(Dense(1, activation = 'relu'))\n",
    "model.compile(loss = 'mse', optimizer = 'adam')\n",
    "model.fit(X_train, y_train, epochs = 100, batch_size = 64, verbose = 2, validation_data = (X_val, y_val))"
   ]
  },
  {
   "cell_type": "code",
   "execution_count": 14,
   "metadata": {},
   "outputs": [],
   "source": [
    "pred_train = model.predict(X_train)"
   ]
  },
  {
   "cell_type": "code",
   "execution_count": 15,
   "metadata": {},
   "outputs": [
    {
     "data": {
      "text/plain": [
       "[<matplotlib.lines.Line2D at 0x17f149d3eb0>]"
      ]
     },
     "execution_count": 15,
     "metadata": {},
     "output_type": "execute_result"
    },
    {
     "data": {
      "image/png": "[encoded data removed]",
      "text/plain": [
       "<Figure size 432x288 with 1 Axes>"
      ]
     },
     "metadata": {
      "needs_background": "light"
     },
     "output_type": "display_data"
    }
   ],
   "source": [
    "plt.plot(y_train)\n",
    "plt.plot(pred_train)"
   ]
  },
  {
   "cell_type": "code",
   "execution_count": 16,
   "metadata": {},
   "outputs": [],
   "source": [
    "pred_test = model.predict(X_test)"
   ]
  },
  {
   "cell_type": "code",
   "execution_count": 17,
   "metadata": {},
   "outputs": [
    {
     "data": {
      "text/plain": [
       "[<matplotlib.lines.Line2D at 0x17f14f494c0>]"
      ]
     },
     "execution_count": 17,
     "metadata": {},
     "output_type": "execute_result"
    },
    {
     "data": {
      "image/png": "[encoded data removed]",
      "text/plain": [
       "<Figure size 432x288 with 1 Axes>"
      ]
     },
     "metadata": {
      "needs_background": "light"
     },
     "output_type": "display_data"
    }
   ],
   "source": [
    "plt.plot(y_test)\n",
    "plt.plot(pred_test)"
   ]
  },
  {
   "cell_type": "code",
   "execution_count": null,
   "metadata": {},
   "outputs": [],
   "source": []
  }
 ],
 "metadata": {
  "kernelspec": {
   "display_name": "Python 3",
   "language": "python",
   "name": "python3"
  },
  "language_info": {
   "codemirror_mode": {
    "name": "ipython",
    "version": 3
   },
   "file_extension": ".py",
   "mimetype": "text/x-python",
   "name": "python",
   "nbconvert_exporter": "python",
   "pygments_lexer": "ipython3",
   "version": "3.8.3"
  }
 },
 "nbformat": 4,
 "nbformat_minor": 4
}
