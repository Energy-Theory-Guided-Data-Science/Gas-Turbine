{
 "cells": [
  {
   "cell_type": "markdown",
   "metadata": {},
   "source": [
    "# Use differences as additional output but scaled\n",
    "\n",
    "This file is for using the difference as addaitional output. We use the input voltage to predict the electrical power as well as the difference in power. We can predict the curretn difference but we need to take multiple inputs into account for a RNN to work properly.\n",
    "\n",
    "The difference to the approach in file (23_) is we scale the difference again to [-1, 1] before applying the model.\n",
    "\n",
    "## Preliminaries\n",
    "\n",
    "### Import Libraries"
   ]
  },
  {
   "cell_type": "code",
   "execution_count": 1,
   "metadata": {},
   "outputs": [],
   "source": [
    "# import own libraries\n",
    "import Global_Functions as gf\n",
    "import Neuronal_Networks as nn\n",
    "\n",
    "# import python libraries\n",
    "import pandas as pd\n",
    "import matplotlib.pyplot as plt\n",
    "import numpy as np\n",
    "from sklearn.preprocessing import MinMaxScaler\n",
    "import time\n",
    "timestr = time.strftime(\"%Y-%m-%d_%H-%M/\")\n",
    "\n",
    "# import tensorflow\n",
    "import tensorflow as tf\n",
    "from tensorflow import keras\n",
    "from tensorflow.keras import layers\n",
    "from keras.models import Sequential\n",
    "from keras.callbacks import EarlyStopping"
   ]
  },
  {
   "cell_type": "code",
   "execution_count": 2,
   "metadata": {},
   "outputs": [],
   "source": [
    "np.random.seed(123)"
   ]
  },
  {
   "cell_type": "markdown",
   "metadata": {},
   "source": [
    "### Open files"
   ]
  },
  {
   "cell_type": "code",
   "execution_count": 3,
   "metadata": {},
   "outputs": [],
   "source": [
    "OPEN_FOLDER = '../Data/Preped_Data/'"
   ]
  },
  {
   "cell_type": "code",
   "execution_count": 4,
   "metadata": {},
   "outputs": [],
   "source": [
    "ex_1 = gf.open_CSV_file('experiment_1_short.csv', OPEN_FOLDER)\n",
    "ex_4 = gf.open_CSV_file('experiment_4_short.csv', OPEN_FOLDER)\n",
    "ex_9 = gf.open_CSV_file('experiment_9_short.csv', OPEN_FOLDER)\n",
    "ex_20 = gf.open_CSV_file('experiment_20_short.csv', OPEN_FOLDER)\n",
    "ex_21 = gf.open_CSV_file('experiment_21_short.csv', OPEN_FOLDER)\n",
    "ex_22 = gf.open_CSV_file('experiment_22_short.csv', OPEN_FOLDER)\n",
    "ex_23 = gf.open_CSV_file('experiment_23_short.csv', OPEN_FOLDER)\n",
    "ex_24 = gf.open_CSV_file('experiment_24_short.csv', OPEN_FOLDER)"
   ]
  },
  {
   "cell_type": "code",
   "execution_count": 5,
   "metadata": {},
   "outputs": [],
   "source": [
    "experiments = [ex_1, ex_4, ex_9, ex_20, ex_21, ex_22, ex_23, ex_24]\n",
    "names = ['1', '4', '9', '20', '21','22', '23', '24']"
   ]
  },
  {
   "cell_type": "code",
   "execution_count": 6,
   "metadata": {},
   "outputs": [],
   "source": [
    "OPEN_SYNTHETIC = '../Data/Synthetic_Data/Without_Noise/Sample_Ratio_1/quadratic_40_0_linear_1'"
   ]
  },
  {
   "cell_type": "code",
   "execution_count": 7,
   "metadata": {},
   "outputs": [],
   "source": [
    "experiments = gf.load_synthetic(OPEN_SYNTHETIC, length = 200)\n",
    "names = [str(x+1) for x in range(len(experiments)-1)]\n",
    "names.append(\"hand\")"
   ]
  },
  {
   "cell_type": "markdown",
   "metadata": {},
   "source": [
    "### Specify parameters"
   ]
  },
  {
   "cell_type": "code",
   "execution_count": 8,
   "metadata": {},
   "outputs": [],
   "source": [
    "NEUR = 512\n",
    "EPOCH = 200\n",
    "LAG = 60\n",
    "DIFFERENCE = \"predict_scaled\"\n",
    "BATCH_SIZE = 512"
   ]
  },
  {
   "cell_type": "code",
   "execution_count": 9,
   "metadata": {},
   "outputs": [],
   "source": [
    "train = \"150\"\n",
    "val = \"30\"\n",
    "\n",
    "train_exs = experiments[:150]\n",
    "ex_train = gf.use_multiple_experiments(train_exs)\n",
    "ex_val = gf.use_multiple_experiments(experiments[150:180])\n",
    "ex_test = gf.use_multiple_experiments(experiments[180:200])"
   ]
  },
  {
   "cell_type": "code",
   "execution_count": 10,
   "metadata": {},
   "outputs": [
    {
     "name": "stdout",
     "output_type": "stream",
     "text": [
      "Creation of directory ../Images/Validation/Synthetic/Difference/predict_scaled/2021-05-28_11-31/ successful.\n"
     ]
    }
   ],
   "source": [
    "image_path = \"../Images/Validation/Synthetic/Difference/\" + str(DIFFERENCE) + \"/\" + timestr\n",
    "image_folder = image_path\n",
    "gf.check_folder(image_folder)"
   ]
  },
  {
   "cell_type": "code",
   "execution_count": 11,
   "metadata": {},
   "outputs": [
    {
     "name": "stdout",
     "output_type": "stream",
     "text": [
      "Creation of directory ../Models/Validation/Synthetic/Difference/predict_scaled/2021-05-28_11-31/ successful.\n"
     ]
    }
   ],
   "source": [
    "# saving folder for images\n",
    "model_path = \"../Models/Validation/Synthetic/Difference/\" + str(DIFFERENCE) + \"/\" + timestr\n",
    "model_folder = model_path\n",
    "\n",
    "gf.check_folder(model_folder)"
   ]
  },
  {
   "cell_type": "code",
   "execution_count": 12,
   "metadata": {},
   "outputs": [],
   "source": [
    "specs = {\n",
    "    'neurons': NEUR,\n",
    "    'epochs': EPOCH,\n",
    "    'lag': LAG,\n",
    "    'difference': DIFFERENCE,\n",
    "    'batch_size': BATCH_SIZE,\n",
    "    'model': \"LSTM(Neur), Dense(Neur/2), Dense(Out)\",\n",
    "    'data': 'Synthetic - (40, 0, 1)',\n",
    "    'data_points': '150 for training - 30 for validation',\n",
    "    'sampling_rate': 1,\n",
    "    'loss_function': 'Adagrad'\n",
    "}\n",
    "\n",
    "specs_str = \"\"\n",
    "for cat, descr in specs.items():\n",
    "    specs_str += f'{cat}: {descr} \\n'\n",
    "\n",
    "with open(image_folder + \"00_specs.txt\", \"w\") as text_file:\n",
    "    text_file.write(specs_str)"
   ]
  },
  {
   "cell_type": "markdown",
   "metadata": {},
   "source": [
    "## Training the model"
   ]
  },
  {
   "cell_type": "code",
   "execution_count": 13,
   "metadata": {
    "scrolled": true
   },
   "outputs": [
    {
     "name": "stdout",
     "output_type": "stream",
     "text": [
      "Folder already exists.\n"
     ]
    },
    {
     "name": "stderr",
     "output_type": "stream",
     "text": [
      "C:\\Users\\FlorianLeiser\\Documents\\Masterarbeit\\Code\\Data_Processing.py:92: SettingWithCopyWarning: \n",
      "A value is trying to be set on a copy of a slice from a DataFrame.\n",
      "Try using .loc[row_indexer,col_indexer] = value instead\n",
      "\n",
      "See the caveats in the documentation: https://pandas.pydata.org/pandas-docs/stable/user_guide/indexing.html#returning-a-view-versus-a-copy\n",
      "  y['diff'] = diffs_scaled\n",
      "C:\\Users\\FlorianLeiser\\Documents\\Masterarbeit\\Code\\Data_Processing.py:92: SettingWithCopyWarning: \n",
      "A value is trying to be set on a copy of a slice from a DataFrame.\n",
      "Try using .loc[row_indexer,col_indexer] = value instead\n",
      "\n",
      "See the caveats in the documentation: https://pandas.pydata.org/pandas-docs/stable/user_guide/indexing.html#returning-a-view-versus-a-copy\n",
      "  y['diff'] = diffs_scaled\n"
     ]
    },
    {
     "name": "stdout",
     "output_type": "stream",
     "text": [
      "Epoch 10 of 200 is done.\n",
      "Epoch 20 of 200 is done.\n",
      "Epoch 30 of 200 is done.\n",
      "Epoch 40 of 200 is done.\n",
      "Epoch 50 of 200 is done.\n",
      "Epoch 60 of 200 is done.\n",
      "Epoch 70 of 200 is done.\n",
      "Epoch 80 of 200 is done.\n",
      "Epoch 90 of 200 is done.\n"
     ]
    },
    {
     "name": "stderr",
     "output_type": "stream",
     "text": [
      "\n",
      "KeyboardInterrupt\n",
      "\n"
     ]
    }
   ],
   "source": [
    "model, history, scaler_train, X_train, y_train, _, X_val, y_val = nn.train_model(ex_train, ex_val, save_folder = model_folder,\n",
    "                                                                                 difference_chosen = DIFFERENCE, lag_chosen = LAG,\n",
    "                                                                                 nmb_epochs = EPOCH, neurons_chosen = NEUR, batch_size = BATCH_SIZE)"
   ]
  },
  {
   "cell_type": "code",
   "execution_count": null,
   "metadata": {},
   "outputs": [],
   "source": [
    "all_scaler = list()\n",
    "all_X_values = list()\n",
    "all_y_values = list()\n",
    "all_predictions = list()\n",
    "all_scaled_predictions = list()\n",
    "results = pd.DataFrame(index = names, columns = ['rmse', 'r2', 'mae', 'maxae', 'rmse_scaled', 'r2_scaled', 'mae_scaled', 'maxae_scaled'])\n",
    "\n",
    "for i in range(len(experiments)):\n",
    "    rms, r2, mae, maxae = [], [], [], []\n",
    "    rms_scaled, r2_scaled, mae_scaled, maxae_scaled = [], [], [], []\n",
    "    scaler, X, y, preds_scaled, preds = nn.predictions(experiments[i], model,\n",
    "                                                       difference_chosen = DIFFERENCE,\n",
    "                                                      lag_chosen = LAG,\n",
    "                                                      batch_size = BATCH_SIZE)\n",
    "    all_scaler.append(scaler)\n",
    "    all_X_values.append(X)\n",
    "    all_y_values.append(y)\n",
    "    all_predictions.append(preds)\n",
    "    all_scaled_predictions.append(preds_scaled)\n",
    "    \n",
    "    gf.create_prediction_plot(experiments[i]['el_power'], preds, image_folder,\n",
    "                              title = 'Using Difference as Output ',\n",
    "                             specs = 'on ex_{0} with model trained on {1}'.format(names[i], train))\n",
    "\n",
    "    gf.create_prediction_plot(y, preds_scaled[:,0], image_folder,\n",
    "                              title = 'Difference in Power using Difference as Output ',\n",
    "                             specs = 'differences on ex_{0} with model trained on {1}'.format(names[i], train))\n",
    "    \n",
    "    results_ex = gf.measure_difference(experiments[i]['el_power'], preds, should_print = False)\n",
    "    results_scaled = gf.measure_difference(y, preds_scaled, should_print = False)\n",
    "    rms.append(results_ex['RMSE'][0])\n",
    "    r2.append(results_ex['R2'][0])\n",
    "    mae.append(results_ex['MAE'][0])\n",
    "    maxae.append(results_ex['MaxAE'][0])\n",
    "    rms_scaled.append(results_scaled['RMSE'][0])\n",
    "    r2_scaled.append(results_scaled['R2'][0])\n",
    "    mae_scaled.append(results_scaled['MAE'][0])\n",
    "    maxae_scaled.append(results_scaled['MaxAE'][0])\n",
    "                   \n",
    "    results.loc[names[i], 'rmse'] = rms\n",
    "    results.loc[names[i], 'r2'] = r2\n",
    "    results.loc[names[i], 'mae'] = mae\n",
    "    results.loc[names[i], 'maxae'] = maxae\n",
    "    results.loc[names[i], 'rmse_scaled'] = rms_scaled\n",
    "    results.loc[names[i], 'r2_scaled'] = r2_scaled\n",
    "    results.loc[names[i], 'mae_scaled'] = mae_scaled\n",
    "    results.loc[names[i], 'maxae_scaled'] = maxae_scaled\n",
    "    \n",
    "    results.to_csv(image_folder + \"99_results.csv\", sep = \"|\", encoding = 'utf-8')"
   ]
  },
  {
   "cell_type": "code",
   "execution_count": null,
   "metadata": {},
   "outputs": [],
   "source": [
    "gf.save_losses(history, image_folder)"
   ]
  }
 ],
 "metadata": {
  "kernelspec": {
   "display_name": "Python 3",
   "language": "python",
   "name": "python3"
  }
 },
 "nbformat": 4,
 "nbformat_minor": 4
}
