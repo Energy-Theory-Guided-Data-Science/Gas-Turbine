{
 "cells": [
  {
   "cell_type": "code",
   "execution_count": 1,
   "metadata": {},
   "outputs": [],
   "source": [
    "import csv\n",
    "import numpy as np\n",
    "import pandas as pd\n",
    "import os\n",
    "import matplotlib.pyplot as plt\n",
    "import Preprocessing as pp\n",
    "from scipy.io import loadmat"
   ]
  },
  {
   "cell_type": "code",
   "execution_count": 2,
   "metadata": {},
   "outputs": [],
   "source": [
    "temp_data_folder = '../Data/Temp_Data/'"
   ]
  },
  {
   "cell_type": "markdown",
   "metadata": {},
   "source": [
    "## Import Data and small visualisation"
   ]
  },
  {
   "cell_type": "code",
   "execution_count": 3,
   "metadata": {},
   "outputs": [],
   "source": [
    "validation_values = loadmat('../Data/Raw_Data/n_soll.mat')['n_soll'][0::1000]\n",
    "validation_time = loadmat('../Data/Raw_Data/t_nsoll.mat')['t_2A_ela'][0][0::1000]\n",
    "df_validation = pd.DataFrame()\n",
    "df_validation['time'] = validation_time\n",
    "df_validation['spinning'] = validation_values"
   ]
  },
  {
   "cell_type": "code",
   "execution_count": 4,
   "metadata": {},
   "outputs": [
    {
     "data": {
      "image/png": "[encoded data removed]",
      "text/plain": [
       "<Figure size 432x288 with 1 Axes>"
      ]
     },
     "metadata": {
      "needs_background": "light"
     },
     "output_type": "display_data"
    }
   ],
   "source": [
    "input_validation = pd.DataFrame()\n",
    "input_validation['time'] = [0, 1, 3605, 3606, 5811, 5812, 8429, 8430, 11294, 11295, 11981]\n",
    "input_validation['voltage'] = [0, 10, 10, 3, 3, 10, 10, 3, 3, 0,0]\n",
    "\n",
    "plt.plot(input_validation['time'], input_validation['voltage'])\n",
    "plt.plot(df_validation['time'], df_validation['spinning']/1000)\n",
    "plt.show()"
   ]
  },
  {
   "cell_type": "code",
   "execution_count": 5,
   "metadata": {
    "scrolled": true
   },
   "outputs": [
    {
     "data": {
      "text/html": [
       "<div>\n",
       "<style scoped>\n",
       "    .dataframe tbody tr th:only-of-type {\n",
       "        vertical-align: middle;\n",
       "    }\n",
       "\n",
       "    .dataframe tbody tr th {\n",
       "        vertical-align: top;\n",
       "    }\n",
       "\n",
       "    .dataframe thead th {\n",
       "        text-align: right;\n",
       "    }\n",
       "</style>\n",
       "<table border=\"1\" class=\"dataframe\">\n",
       "  <thead>\n",
       "    <tr style=\"text-align: right;\">\n",
       "      <th></th>\n",
       "      <th>nsoll_time</th>\n",
       "      <th>nsoll_input_voltage</th>\n",
       "      <th>nsoll_measured</th>\n",
       "    </tr>\n",
       "  </thead>\n",
       "  <tbody>\n",
       "    <tr>\n",
       "      <th>0</th>\n",
       "      <td>0.00000</td>\n",
       "      <td>3.0</td>\n",
       "      <td>3092.446</td>\n",
       "    </tr>\n",
       "    <tr>\n",
       "      <th>1</th>\n",
       "      <td>1824.25000</td>\n",
       "      <td>3.0</td>\n",
       "      <td>3092.446</td>\n",
       "    </tr>\n",
       "    <tr>\n",
       "      <th>2</th>\n",
       "      <td>1824.26000</td>\n",
       "      <td>5.0</td>\n",
       "      <td>3276.050</td>\n",
       "    </tr>\n",
       "    <tr>\n",
       "      <th>3</th>\n",
       "      <td>3048.40000</td>\n",
       "      <td>5.0</td>\n",
       "      <td>3276.050</td>\n",
       "    </tr>\n",
       "    <tr>\n",
       "      <th>4</th>\n",
       "      <td>3048.41000</td>\n",
       "      <td>3.0</td>\n",
       "      <td>3092.446</td>\n",
       "    </tr>\n",
       "    <tr>\n",
       "      <th>5</th>\n",
       "      <td>4264.85000</td>\n",
       "      <td>3.0</td>\n",
       "      <td>3092.446</td>\n",
       "    </tr>\n",
       "    <tr>\n",
       "      <th>6</th>\n",
       "      <td>4264.86000</td>\n",
       "      <td>7.5</td>\n",
       "      <td>3580.525</td>\n",
       "    </tr>\n",
       "    <tr>\n",
       "      <th>7</th>\n",
       "      <td>5484.76000</td>\n",
       "      <td>7.5</td>\n",
       "      <td>3580.525</td>\n",
       "    </tr>\n",
       "    <tr>\n",
       "      <th>8</th>\n",
       "      <td>5484.77000</td>\n",
       "      <td>3.0</td>\n",
       "      <td>3092.446</td>\n",
       "    </tr>\n",
       "    <tr>\n",
       "      <th>9</th>\n",
       "      <td>6704.88000</td>\n",
       "      <td>3.0</td>\n",
       "      <td>3092.446</td>\n",
       "    </tr>\n",
       "    <tr>\n",
       "      <th>10</th>\n",
       "      <td>6704.89000</td>\n",
       "      <td>10.0</td>\n",
       "      <td>3968.300</td>\n",
       "    </tr>\n",
       "    <tr>\n",
       "      <th>11</th>\n",
       "      <td>7919.59000</td>\n",
       "      <td>10.0</td>\n",
       "      <td>3968.300</td>\n",
       "    </tr>\n",
       "    <tr>\n",
       "      <th>12</th>\n",
       "      <td>7919.60000</td>\n",
       "      <td>3.0</td>\n",
       "      <td>3092.446</td>\n",
       "    </tr>\n",
       "    <tr>\n",
       "      <th>13</th>\n",
       "      <td>9137.86000</td>\n",
       "      <td>3.0</td>\n",
       "      <td>3092.446</td>\n",
       "    </tr>\n",
       "    <tr>\n",
       "      <th>14</th>\n",
       "      <td>9137.87000</td>\n",
       "      <td>10.0</td>\n",
       "      <td>3968.300</td>\n",
       "    </tr>\n",
       "    <tr>\n",
       "      <th>15</th>\n",
       "      <td>10352.83000</td>\n",
       "      <td>10.0</td>\n",
       "      <td>3968.300</td>\n",
       "    </tr>\n",
       "    <tr>\n",
       "      <th>16</th>\n",
       "      <td>10352.84000</td>\n",
       "      <td>3.0</td>\n",
       "      <td>3092.446</td>\n",
       "    </tr>\n",
       "    <tr>\n",
       "      <th>17</th>\n",
       "      <td>11395.72000</td>\n",
       "      <td>3.0</td>\n",
       "      <td>3092.446</td>\n",
       "    </tr>\n",
       "    <tr>\n",
       "      <th>18</th>\n",
       "      <td>11395.73000</td>\n",
       "      <td>0.0</td>\n",
       "      <td>0.000</td>\n",
       "    </tr>\n",
       "    <tr>\n",
       "      <th>19</th>\n",
       "      <td>12231.48948</td>\n",
       "      <td>0.0</td>\n",
       "      <td>0.000</td>\n",
       "    </tr>\n",
       "  </tbody>\n",
       "</table>\n",
       "</div>"
      ],
      "text/plain": [
       "     nsoll_time  nsoll_input_voltage  nsoll_measured\n",
       "0       0.00000                  3.0        3092.446\n",
       "1    1824.25000                  3.0        3092.446\n",
       "2    1824.26000                  5.0        3276.050\n",
       "3    3048.40000                  5.0        3276.050\n",
       "4    3048.41000                  3.0        3092.446\n",
       "5    4264.85000                  3.0        3092.446\n",
       "6    4264.86000                  7.5        3580.525\n",
       "7    5484.76000                  7.5        3580.525\n",
       "8    5484.77000                  3.0        3092.446\n",
       "9    6704.88000                  3.0        3092.446\n",
       "10   6704.89000                 10.0        3968.300\n",
       "11   7919.59000                 10.0        3968.300\n",
       "12   7919.60000                  3.0        3092.446\n",
       "13   9137.86000                  3.0        3092.446\n",
       "14   9137.87000                 10.0        3968.300\n",
       "15  10352.83000                 10.0        3968.300\n",
       "16  10352.84000                  3.0        3092.446\n",
       "17  11395.72000                  3.0        3092.446\n",
       "18  11395.73000                  0.0           0.000\n",
       "19  12231.48948                  0.0           0.000"
      ]
     },
     "execution_count": 5,
     "metadata": {},
     "output_type": "execute_result"
    }
   ],
   "source": [
    "df_input_drehzahl = pp.openCSVFile('input_drehzahl.csv', temp_data_folder)\n",
    "df_input_drehzahl"
   ]
  },
  {
   "cell_type": "code",
   "execution_count": 6,
   "metadata": {},
   "outputs": [
    {
     "data": {
      "image/png": "[encoded data removed]",
      "text/plain": [
       "<Figure size 432x288 with 1 Axes>"
      ]
     },
     "metadata": {
      "needs_background": "light"
     },
     "output_type": "display_data"
    }
   ],
   "source": [
    "plt.plot(df_input_drehzahl['nsoll_time'], df_input_drehzahl['nsoll_input_voltage'])\n",
    "plt.plot(df_input_drehzahl['nsoll_time'], df_input_drehzahl['nsoll_measured']/1000, 'orange')\n",
    "plt.show()"
   ]
  },
  {
   "cell_type": "markdown",
   "metadata": {},
   "source": [
    "## Predict spinning amount based on input"
   ]
  },
  {
   "cell_type": "code",
   "execution_count": 7,
   "metadata": {},
   "outputs": [],
   "source": [
    "from sklearn import linear_model"
   ]
  },
  {
   "cell_type": "code",
   "execution_count": 8,
   "metadata": {},
   "outputs": [
    {
     "data": {
      "text/plain": [
       "BayesianRidge()"
      ]
     },
     "execution_count": 8,
     "metadata": {},
     "output_type": "execute_result"
    }
   ],
   "source": [
    "reg = linear_model.BayesianRidge()\n",
    "reg.fit(df_input_drehzahl[['nsoll_input_voltage']], df_input_drehzahl['nsoll_measured'])"
   ]
  },
  {
   "cell_type": "code",
   "execution_count": 9,
   "metadata": {},
   "outputs": [],
   "source": [
    "predict = reg.predict(input_validation[['voltage']])"
   ]
  },
  {
   "cell_type": "code",
   "execution_count": 10,
   "metadata": {},
   "outputs": [
    {
     "data": {
      "text/plain": [
       "[<matplotlib.lines.Line2D at 0x2066aea76a0>]"
      ]
     },
     "execution_count": 10,
     "metadata": {},
     "output_type": "execute_result"
    },
    {
     "data": {
      "image/png": "[encoded data removed]",
      "text/plain": [
       "<Figure size 432x288 with 1 Axes>"
      ]
     },
     "metadata": {
      "needs_background": "light"
     },
     "output_type": "display_data"
    }
   ],
   "source": [
    "plt.plot(input_validation['time'], predict)\n",
    "plt.plot(df_validation['time'], df_validation['spinning'])"
   ]
  },
  {
   "cell_type": "code",
   "execution_count": null,
   "metadata": {},
   "outputs": [],
   "source": [
    "reg.score(inpu)"
   ]
  }
 ],
 "metadata": {
  "kernelspec": {
   "display_name": "Python 3",
   "language": "python",
   "name": "python3"
  },
  "language_info": {
   "codemirror_mode": {
    "name": "ipython",
    "version": 3
   },
   "file_extension": ".py",
   "mimetype": "text/x-python",
   "name": "python",
   "nbconvert_exporter": "python",
   "pygments_lexer": "ipython3",
   "version": "3.8.3"
  }
 },
 "nbformat": 4,
 "nbformat_minor": 4
}
