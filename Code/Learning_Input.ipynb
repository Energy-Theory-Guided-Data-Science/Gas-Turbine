{
 "cells": [
  {
   "cell_type": "code",
   "execution_count": 84,
   "metadata": {},
   "outputs": [],
   "source": [
    "import csv\n",
    "import numpy as np\n",
    "import pandas as pd\n",
    "import os\n",
    "import matplotlib.pyplot as plt\n",
    "import Preprocessing as pp\n",
    "from scipy.io import loadmat\n",
    "from sklearn import metrics"
   ]
  },
  {
   "cell_type": "code",
   "execution_count": 2,
   "metadata": {},
   "outputs": [],
   "source": [
    "temp_data_folder = '../Data/Temp_Data/'"
   ]
  },
  {
   "cell_type": "markdown",
   "metadata": {},
   "source": [
    "## Import Data and small visualisation"
   ]
  },
  {
   "cell_type": "code",
   "execution_count": 3,
   "metadata": {},
   "outputs": [],
   "source": [
    "raw_validation_nsoll = loadmat('../Data/Raw_Data/n_soll.mat')['n_soll'][0::1000]\n",
    "raw_validation_time_nsoll = loadmat('../Data/Raw_Data/t_nsoll.mat')['t_2A_ela'].T[0::1000]\n",
    "\n",
    "raw_validation_elrms = loadmat('../data/Raw_Data/P_el_rms.mat')['P_elrms'][0]\n",
    "raw_validation_t_elrms = loadmat('../data/Raw_Data/t_el_rms.mat')['t_el_mean'][0]\n",
    "\n",
    "raw_validation_th = loadmat('../data/Raw_Data/P_th.mat')['P_th'][0][0::10]\n",
    "raw_validation_t_th = loadmat('../data/Raw_Data/t_th.mat')['t_1B_th'][0][0::10]"
   ]
  },
  {
   "cell_type": "code",
   "execution_count": 4,
   "metadata": {},
   "outputs": [],
   "source": [
    "df_validation = pd.DataFrame()\n",
    "df_validation['spinning'] = pp.downsampleData(raw_validation_time_nsoll, raw_validation_nsoll)[:,1]\n",
    "df_validation['time'] = pp.downsampleData(raw_validation_time_nsoll, raw_validation_time_nsoll)[:,1]\n",
    "df_validation['electric'] = pp.downsampleData(raw_validation_t_elrms, raw_validation_elrms)[:,1]\n",
    "df_validation['thermal'] = pp.downsampleData(raw_validation_t_th, raw_validation_th)[:,1]"
   ]
  },
  {
   "cell_type": "code",
   "execution_count": 5,
   "metadata": {},
   "outputs": [],
   "source": [
    "df_validation.to_csv(temp_data_folder + \"experiment_1B.csv\",\n",
    "                    index = False, sep = \"|\", encoding='utf-8')"
   ]
  },
  {
   "cell_type": "code",
   "execution_count": 67,
   "metadata": {},
   "outputs": [],
   "source": [
    "def voltageForAllTimeSteps(time_splits, voltage_splits):\n",
    "    time = np.array(range(int(time_splits[-1])))\n",
    "    voltages = np.array(range(int(time_splits[-1])))\n",
    "    for i in range(len(time_splits)-1):\n",
    "        lower = int(time_splits[i])\n",
    "        upper = int(time_splits[i+1])\n",
    "        v = voltage_splits[i]\n",
    "        voltages[lower:upper] = v\n",
    "    return time, voltages"
   ]
  },
  {
   "cell_type": "code",
   "execution_count": 102,
   "metadata": {},
   "outputs": [
    {
     "data": {
      "image/png": "[encoded data removed]",
      "text/plain": [
       "<Figure size 432x288 with 1 Axes>"
      ]
     },
     "metadata": {
      "needs_background": "light"
     },
     "output_type": "display_data"
    }
   ],
   "source": [
    "time_splits = [0, 1, 3605, 3606, 5811, 5812, 8429, 8430, 11294, 11295, len(df_validation['time'])]\n",
    "voltage_splits = [0, 10, 10, 3, 3, 10, 10, 3, 3, 0, 0]\n",
    "df_validation['time'], df_validation['voltage'] = voltageForAllTimeSteps(time_splits, voltage_splits)\n",
    "\n",
    "plt.plot(df_validation['time'], df_validation['voltage'])\n",
    "plt.plot(df_validation['time'], df_validation['spinning']/1000)\n",
    "plt.show()"
   ]
  },
  {
   "cell_type": "code",
   "execution_count": 75,
   "metadata": {
    "scrolled": false
   },
   "outputs": [],
   "source": [
    "df_input = pp.openCSVFile('input_drehzahl.csv', temp_data_folder)\n",
    "df_input_drehzahl = pd.DataFrame()\n",
    "dummy = []\n",
    "df_input_drehzahl['nsoll_time'], df_input_drehzahl['nsoll_input_voltage'] = voltageForAllTimeSteps(np.array(df_input['nsoll_time'][:-1]), np.array(df_input['nsoll_input_voltage'][:-1]))\n",
    "dummy, df_input_drehzahl['nsoll_measured'] = voltageForAllTimeSteps(np.array(df_input['nsoll_time'][:-1]), np.array(df_input['nsoll_measured'][:-1]))"
   ]
  },
  {
   "cell_type": "code",
   "execution_count": 76,
   "metadata": {},
   "outputs": [
    {
     "data": {
      "image/png": "[encoded data removed]",
      "text/plain": [
       "<Figure size 432x288 with 1 Axes>"
      ]
     },
     "metadata": {
      "needs_background": "light"
     },
     "output_type": "display_data"
    }
   ],
   "source": [
    "plt.plot(df_input_drehzahl['nsoll_time'], df_input_drehzahl['nsoll_input_voltage'])\n",
    "plt.plot(df_input_drehzahl['nsoll_time'], df_input_drehzahl['nsoll_measured']/1000, 'orange')\n",
    "plt.show()"
   ]
  },
  {
   "cell_type": "markdown",
   "metadata": {},
   "source": [
    "## Predict spinning amount based on input"
   ]
  },
  {
   "cell_type": "code",
   "execution_count": 77,
   "metadata": {},
   "outputs": [],
   "source": [
    "from sklearn import linear_model"
   ]
  },
  {
   "cell_type": "code",
   "execution_count": 78,
   "metadata": {},
   "outputs": [
    {
     "data": {
      "text/plain": [
       "Ridge()"
      ]
     },
     "execution_count": 78,
     "metadata": {},
     "output_type": "execute_result"
    }
   ],
   "source": [
    "reg_spin = linear_model.Ridge()\n",
    "reg_spin.fit(df_input_drehzahl[['nsoll_input_voltage']], df_input_drehzahl['nsoll_measured'])"
   ]
  },
  {
   "cell_type": "code",
   "execution_count": 81,
   "metadata": {},
   "outputs": [],
   "source": [
    "df_validation['spin_predict'] = reg_spin.predict(df_validation[['voltage']])"
   ]
  },
  {
   "cell_type": "code",
   "execution_count": 82,
   "metadata": {
    "scrolled": true
   },
   "outputs": [
    {
     "data": {
      "text/plain": [
       "[<matplotlib.lines.Line2D at 0x1f541053430>]"
      ]
     },
     "execution_count": 82,
     "metadata": {},
     "output_type": "execute_result"
    },
    {
     "data": {
      "image/png": "[encoded data removed]",
      "text/plain": [
       "<Figure size 432x288 with 1 Axes>"
      ]
     },
     "metadata": {
      "needs_background": "light"
     },
     "output_type": "display_data"
    }
   ],
   "source": [
    "plt.plot(df_validation['time'], df_validation['spin_predict'])\n",
    "plt.plot(df_validation['time'], df_validation['spinning'])"
   ]
  },
  {
   "cell_type": "code",
   "execution_count": 88,
   "metadata": {},
   "outputs": [],
   "source": [
    "def measureDifference(data, value_header, approx_header):\n",
    "    R_SQUARED = True\n",
    "    RSME = True\n",
    "    \n",
    "    data = data[data[approx_header].notnull()]\n",
    "    values = data[value_header]\n",
    "    approx = data[approx_header]\n",
    "    \n",
    "    if RSME:\n",
    "        rms = metrics.mean_squared_error(values, approx, squared=False)\n",
    "        print('The RMSE is %5.3f' %rms)\n",
    "    if R_SQUARED:\n",
    "        r2 = metrics.r2_score(values, approx)\n",
    "        print('The R2-score is %5.3f' %r2)"
   ]
  },
  {
   "cell_type": "code",
   "execution_count": 118,
   "metadata": {
    "scrolled": true
   },
   "outputs": [
    {
     "name": "stdout",
     "output_type": "stream",
     "text": [
      "The RMSE is 39.263\n",
      "The R2-score is 0.993\n"
     ]
    }
   ],
   "source": [
    "measureDifference(df_validation[:11290], 'spinning', 'spin_predict')"
   ]
  },
  {
   "cell_type": "markdown",
   "metadata": {},
   "source": [
    "## Predict voltage amount based on input"
   ]
  },
  {
   "cell_type": "code",
   "execution_count": 94,
   "metadata": {},
   "outputs": [],
   "source": [
    "df_input_el_raw = pp.openCSVFile('el_output_raw.csv', temp_data_folder)\n",
    "df_input_el_approx = pp.openCSVFile('el_output_approx.csv', temp_data_folder)"
   ]
  },
  {
   "cell_type": "code",
   "execution_count": 145,
   "metadata": {},
   "outputs": [
    {
     "data": {
      "text/plain": [
       "Ridge()"
      ]
     },
     "execution_count": 145,
     "metadata": {},
     "output_type": "execute_result"
    }
   ],
   "source": [
    "reg_volt = linear_model.Ridge()\n",
    "reg_volt.fit(np.array(df_input_el_approx['el_time_approx']).reshape(-1,1), np.array(df_input_el_approx['el_power_approx']))"
   ]
  },
  {
   "cell_type": "code",
   "execution_count": 147,
   "metadata": {},
   "outputs": [],
   "source": [
    "df_validation['el_predict'] = reg_volt.predict(df_validation[['time']])"
   ]
  },
  {
   "cell_type": "code",
   "execution_count": 148,
   "metadata": {
    "scrolled": true
   },
   "outputs": [
    {
     "data": {
      "text/plain": [
       "[<matplotlib.lines.Line2D at 0x1f53fde2f10>]"
      ]
     },
     "execution_count": 148,
     "metadata": {},
     "output_type": "execute_result"
    },
    {
     "data": {
      "image/png": "[encoded data removed]",
      "text/plain": [
       "<Figure size 432x288 with 1 Axes>"
      ]
     },
     "metadata": {
      "needs_background": "light"
     },
     "output_type": "display_data"
    }
   ],
   "source": [
    "plt.plot(df_validation['time'], df_validation['volt_predict'])\n",
    "plt.plot(df_validation['time'], df_validation['electric'])"
   ]
  },
  {
   "cell_type": "code",
   "execution_count": null,
   "metadata": {},
   "outputs": [],
   "source": []
  }
 ],
 "metadata": {
  "kernelspec": {
   "display_name": "Python 3",
   "language": "python",
   "name": "python3"
  },
  "language_info": {
   "codemirror_mode": {
    "name": "ipython",
    "version": 3
   },
   "file_extension": ".py",
   "mimetype": "text/x-python",
   "name": "python",
   "nbconvert_exporter": "python",
   "pygments_lexer": "ipython3",
   "version": "3.8.3"
  }
 },
 "nbformat": 4,
 "nbformat_minor": 4
}
