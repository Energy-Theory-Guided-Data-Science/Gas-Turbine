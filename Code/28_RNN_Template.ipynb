{
 "cells": [
  {
   "cell_type": "code",
   "execution_count": 1,
   "metadata": {},
   "outputs": [],
   "source": [
    "import numpy as np\n",
    "import tensorflow as tf\n",
    "from tensorflow import keras\n",
    "from tensorflow.keras import layers\n",
    "import Global_Functions as gf\n",
    "import matplotlib.pyplot as plt"
   ]
  },
  {
   "cell_type": "code",
   "execution_count": 2,
   "metadata": {},
   "outputs": [],
   "source": [
    "import time\n",
    "timestr = time.strftime(\"%Y-%m-%d_%H-%M\")"
   ]
  },
  {
   "cell_type": "code",
   "execution_count": 3,
   "metadata": {},
   "outputs": [],
   "source": [
    "OPEN_FOLDER = '../Data/Preped_Data/'"
   ]
  },
  {
   "cell_type": "code",
   "execution_count": 4,
   "metadata": {},
   "outputs": [],
   "source": [
    "ex_1 = gf.open_CSV_file('experiment_1_short.csv', OPEN_FOLDER)\n",
    "ex_4 = gf.open_CSV_file('experiment_4_short.csv', OPEN_FOLDER)\n",
    "ex_9 = gf.open_CSV_file('experiment_9_short.csv', OPEN_FOLDER)\n",
    "ex_20 = gf.open_CSV_file('experiment_20_short.csv', OPEN_FOLDER)\n",
    "ex_21 = gf.open_CSV_file('experiment_21_short.csv', OPEN_FOLDER)\n",
    "ex_22 = gf.open_CSV_file('experiment_22_short.csv', OPEN_FOLDER)\n",
    "ex_23 = gf.open_CSV_file('experiment_23_short.csv', OPEN_FOLDER)\n",
    "ex_24 = gf.open_CSV_file('experiment_24_short.csv', OPEN_FOLDER)"
   ]
  },
  {
   "cell_type": "code",
   "execution_count": 5,
   "metadata": {},
   "outputs": [
    {
     "name": "stdout",
     "output_type": "stream",
     "text": [
      "Folder already exists.\n",
      "Folder already exists.\n",
      "Creation of directory ../Images/RNN/2021-03-11_12-14/ successful.\n"
     ]
    }
   ],
   "source": [
    "image_path = \"../Images/\"\n",
    "image_subfolder = \"RNN/\"\n",
    "image_folder = image_path + image_subfolder + timestr + \"/\"\n",
    "\n",
    "gf.check_folder(image_path)\n",
    "gf.check_folder(image_path + image_subfolder)\n",
    "gf.check_folder(image_folder)"
   ]
  },
  {
   "cell_type": "code",
   "execution_count": 6,
   "metadata": {},
   "outputs": [],
   "source": [
    "kit_orange = gf.get_color('orange')\n",
    "kit_green = gf.get_color('green')\n",
    "kit_blue = gf.get_color('blue')\n",
    "kit_cyan = gf.get_color('cyan')\n",
    "kit_red = gf.get_color('red')\n",
    "kit_lightgreen = gf.get_color('lightgreen')\n",
    "kit_grey = gf.get_color('grey')"
   ]
  },
  {
   "cell_type": "markdown",
   "metadata": {},
   "source": [
    "# Implementing LSTM\n",
    "We follow the tutorial at https://machinelearningmastery.com/time-series-forecasting-long-short-term-memory-network-python/ for the implementation"
   ]
  },
  {
   "cell_type": "code",
   "execution_count": 7,
   "metadata": {},
   "outputs": [
    {
     "name": "stderr",
     "output_type": "stream",
     "text": [
      "<ipython-input-7-667b6dfa675b>:5: FutureWarning: The pandas.datetime class is deprecated and will be removed from pandas in a future version. Import from datetime module instead.\n",
      "  from pandas import datetime\n"
     ]
    }
   ],
   "source": [
    "from pandas import DataFrame\n",
    "from pandas import Series\n",
    "from pandas import concat\n",
    "from pandas import read_csv\n",
    "from pandas import datetime\n",
    "from sklearn.metrics import mean_squared_error\n",
    "from sklearn.preprocessing import MinMaxScaler\n",
    "from keras.models import Sequential\n",
    "from keras.layers import Dense\n",
    "from keras.layers import LSTM\n",
    "from math import sqrt\n",
    "from matplotlib import pyplot\n",
    "import numpy\n",
    "\n",
    "\n",
    "# frame a sequence as a supervised learning problem\n",
    "def timeseries_to_supervised(data, lag=1):\n",
    "    df = DataFrame(data)\n",
    "    columns = [df.shift(i) for i in range(1, lag+1)]\n",
    "    columns.append(df)\n",
    "    df = concat(columns, axis=1)\n",
    "    df.fillna(0, inplace=True)\n",
    "    return df\n",
    "\n",
    "# create a differenced series\n",
    "def difference(dataset, interval=1):\n",
    "    diff = list()\n",
    "    for i in range(interval, len(dataset)):\n",
    "        value = dataset[i] - dataset[i - interval]\n",
    "        diff.append(value)\n",
    "    return Series(diff)\n",
    "\n",
    "# invert differenced value\n",
    "def inverse_difference(history, yhat, interval=1):\n",
    "    return yhat + history[-interval]\n",
    "\n",
    "# scale train and test data to [-1, 1]\n",
    "def scale(train, val, test):\n",
    "    # fit scaler\n",
    "    scaler = MinMaxScaler(feature_range=(-1, 1))\n",
    "    scaler = scaler.fit(train)\n",
    "    # transform train\n",
    "    train = train.reshape(train.shape[0], train.shape[1])\n",
    "    train_scaled = scaler.transform(train)\n",
    "    \n",
    "    # transform val\n",
    "    val = val.reshape(val.shape[0], val.shape[1])\n",
    "    val_scaled = scaler.transform(val)\n",
    "    \n",
    "    # transform test\n",
    "    test = test.reshape(test.shape[0], test.shape[1])\n",
    "    test_scaled = scaler.transform(test)\n",
    "    return scaler, train_scaled, val_scaled, test_scaled\n",
    "\n",
    "# inverse scaling for a forecasted value\n",
    "def invert_scale(scaler, X, value):\n",
    "    new_row = [x for x in X] + [value]\n",
    "    array = numpy.array(new_row)\n",
    "    array = array.reshape(1, len(array))\n",
    "    inverted = scaler.inverse_transform(array)\n",
    "    return inverted[0, -1]\n",
    "\n",
    "# fit an LSTM network to training data\n",
    "def fit_lstm(train, batch_size, nb_epoch, neurons):\n",
    "    X, y = train[:, 0:-1], train[:, -1]\n",
    "    X = X.reshape(X.shape[0], 1, X.shape[1])\n",
    "    model = Sequential()\n",
    "    model.add(LSTM(neurons, batch_input_shape=(batch_size, X.shape[1], X.shape[2]), stateful=True))\n",
    "    model.add(Dense(1))\n",
    "    model.compile(loss='mean_squared_error', optimizer='adam')\n",
    "    for i in range(nb_epoch):\n",
    "        model.fit(X, y, epochs=1, batch_size=batch_size, verbose=1, shuffle=False)\n",
    "        model.reset_states()\n",
    "    return model\n",
    "\n",
    "# make a one-step forecast\n",
    "def forecast_lstm(model, batch_size, X):\n",
    "    X = X.reshape(1, 1, len(X))\n",
    "    yhat = model.predict(X, batch_size=batch_size)\n",
    "    return yhat[0,0]"
   ]
  },
  {
   "cell_type": "code",
   "execution_count": 8,
   "metadata": {},
   "outputs": [],
   "source": [
    "gap = 50"
   ]
  },
  {
   "cell_type": "code",
   "execution_count": 9,
   "metadata": {},
   "outputs": [],
   "source": [
    "def prepData(data, gap):\n",
    "    raw_values = data.values\n",
    "    diff_values = difference(raw_values, gap)\n",
    "    supervised = timeseries_to_supervised(diff_values, gap)\n",
    "    return supervised.values"
   ]
  },
  {
   "cell_type": "code",
   "execution_count": 10,
   "metadata": {},
   "outputs": [],
   "source": [
    "train = prepData(ex_20['el_power'], gap)\n",
    "val = prepData(ex_23['el_power'], gap)\n",
    "test = prepData(ex_22['el_power'], gap)"
   ]
  },
  {
   "cell_type": "code",
   "execution_count": 25,
   "metadata": {},
   "outputs": [
    {
     "data": {
      "text/plain": [
       "(6908, 51)"
      ]
     },
     "execution_count": 25,
     "metadata": {},
     "output_type": "execute_result"
    }
   ],
   "source": [
    "train.shape"
   ]
  },
  {
   "cell_type": "code",
   "execution_count": 11,
   "metadata": {},
   "outputs": [],
   "source": [
    "scaler, train_scaled, val_scaled, test_scaled = scale(train, val, test)"
   ]
  },
  {
   "cell_type": "code",
   "execution_count": 12,
   "metadata": {
    "scrolled": true
   },
   "outputs": [
    {
     "name": "stdout",
     "output_type": "stream",
     "text": [
      "6908/6908 [==============================] - 6s 875us/step - loss: 0.0043\n",
      "6908/6908 [==============================] - 6s 801us/step - loss: 0.0031\n",
      "6908/6908 [==============================] - 6s 803us/step - loss: 0.0029\n",
      "6908/6908 [==============================] - 6s 801us/step - loss: 0.0027\n",
      "6908/6908 [==============================] - 5s 793us/step - loss: 0.0027\n",
      "6908/6908 [==============================] - 5s 787us/step - loss: 0.0025\n",
      "6908/6908 [==============================] - 5s 792us/step - loss: 0.0024\n",
      "6908/6908 [==============================] - 5s 791us/step - loss: 0.0024\n",
      "6908/6908 [==============================] - 6s 815us/step - loss: 0.0024\n",
      "6908/6908 [==============================] - 5s 793us/step - loss: 0.0024\n",
      "6908/6908 [==============================] - 6s 817us/step - loss: 0.0024\n",
      "6908/6908 [==============================] - 6s 863us/step - loss: 0.0025\n",
      "6908/6908 [==============================] - 6s 813us/step - loss: 0.0024\n",
      "6908/6908 [==============================] - 6s 844us/step - loss: 0.0027\n",
      "6908/6908 [==============================] - 6s 805us/step - loss: 0.0023\n",
      "6908/6908 [==============================] - 6s 802us/step - loss: 0.0024\n",
      "6908/6908 [==============================] - 6s 804us/step - loss: 0.0024\n",
      "6908/6908 [==============================] - 6s 806us/step - loss: 0.0023\n",
      "6908/6908 [==============================] - 6s 808us/step - loss: 0.0022\n",
      "6908/6908 [==============================] - 6s 810us/step - loss: 0.0022\n",
      "6908/6908 [==============================] - 6s 817us/step - loss: 0.0022\n",
      "6908/6908 [==============================] - 6s 821us/step - loss: 0.0021\n",
      "6908/6908 [==============================] - 5s 794us/step - loss: 0.0020\n",
      "6908/6908 [==============================] - 6s 796us/step - loss: 0.0020\n",
      "6908/6908 [==============================] - 5s 795us/step - loss: 0.0023\n",
      "6908/6908 [==============================] - 6s 821us/step - loss: 0.0022\n",
      "6908/6908 [==============================] - 6s 815us/step - loss: 0.0022\n",
      "6908/6908 [==============================] - 6s 822us/step - loss: 0.0024\n",
      "6908/6908 [==============================] - 6s 840us/step - loss: 0.0021\n",
      "6908/6908 [==============================] - 6s 824us/step - loss: 0.0021\n"
     ]
    }
   ],
   "source": [
    "lstm_model = fit_lstm(train_scaled, 1, 30, 64)"
   ]
  },
  {
   "cell_type": "code",
   "execution_count": 13,
   "metadata": {},
   "outputs": [],
   "source": [
    "train_reshaped = train_scaled[:, :-1].reshape(len(train_scaled[:, 0]), 1, gap)\n",
    "train_preds_scaled = lstm_model.predict(train_reshaped, batch_size = 1)"
   ]
  },
  {
   "cell_type": "code",
   "execution_count": 14,
   "metadata": {},
   "outputs": [
    {
     "data": {
      "text/plain": [
       "[<matplotlib.lines.Line2D at 0x27c06e90280>]"
      ]
     },
     "execution_count": 14,
     "metadata": {},
     "output_type": "execute_result"
    },
    {
     "data": {
      "image/png": "[encoded data removed]",
      "text/plain": [
       "<Figure size 432x288 with 1 Axes>"
      ]
     },
     "metadata": {
      "needs_background": "light"
     },
     "output_type": "display_data"
    }
   ],
   "source": [
    "plt.plot(train_scaled)\n",
    "plt.plot(train_preds_scaled)"
   ]
  },
  {
   "cell_type": "code",
   "execution_count": 15,
   "metadata": {},
   "outputs": [],
   "source": [
    "predictions_test = list()\n",
    "for i in range(len(test_scaled)):\n",
    "    # make one-step forecast\n",
    "    X, y = test_scaled[i, 0:-1], test_scaled[i, -1]\n",
    "    yhat = forecast_lstm(lstm_model, 1, X)\n",
    "    # invert scaling\n",
    "    yhat = invert_scale(scaler, X, yhat)\n",
    "    # invert differencing\n",
    "    yhat = inverse_difference(ex_22['el_power'].values, yhat, len(test_scaled)+1-i)\n",
    "    # store forecast\n",
    "    predictions_test.append(yhat)   "
   ]
  },
  {
   "cell_type": "code",
   "execution_count": 29,
   "metadata": {},
   "outputs": [
    {
     "data": {
      "text/plain": [
       "array([[0.13918246, 0.13918246, 0.13918246, ..., 0.13918246, 0.13918246,\n",
       "        0.19606308],\n",
       "       [0.19606308, 0.13918246, 0.13918246, ..., 0.13918246, 0.13918246,\n",
       "        0.18449243],\n",
       "       [0.18449243, 0.19606308, 0.13918246, ..., 0.13918246, 0.13918246,\n",
       "        0.15553265],\n",
       "       ...,\n",
       "       [0.1090249 , 0.13631895, 0.11405198, ..., 0.15988028, 0.08892304,\n",
       "        0.13402445],\n",
       "       [0.13402445, 0.1090249 , 0.13631895, ..., 0.11505288, 0.15988028,\n",
       "        0.10387988],\n",
       "       [0.10387988, 0.13402445, 0.1090249 , ..., 0.13955202, 0.11505288,\n",
       "        0.17092268]])"
      ]
     },
     "execution_count": 29,
     "metadata": {},
     "output_type": "execute_result"
    }
   ],
   "source": [
    "test_scaled"
   ]
  },
  {
   "cell_type": "code",
   "execution_count": 16,
   "metadata": {},
   "outputs": [
    {
     "data": {
      "text/plain": [
       "[<matplotlib.lines.Line2D at 0x27c07ef88e0>]"
      ]
     },
     "execution_count": 16,
     "metadata": {},
     "output_type": "execute_result"
    },
    {
     "data": {
      "image/png": "[encoded data removed]",
      "text/plain": [
       "<Figure size 432x288 with 1 Axes>"
      ]
     },
     "metadata": {
      "needs_background": "light"
     },
     "output_type": "display_data"
    }
   ],
   "source": [
    "plt.plot(ex_22['el_power'])\n",
    "plt.plot(predictions_test)"
   ]
  },
  {
   "cell_type": "code",
   "execution_count": 17,
   "metadata": {},
   "outputs": [],
   "source": [
    "predictions_val = list()\n",
    "for i in range(len(test_scaled)):\n",
    "    # make one-step forecast\n",
    "    X, y = val_scaled[i, 0:-1], val_scaled[i, -1]\n",
    "    yhat = forecast_lstm(lstm_model, 1, X)\n",
    "    # invert scaling\n",
    "    yhat = invert_scale(scaler, X, yhat)\n",
    "    # invert differencing\n",
    "    yhat = inverse_difference(ex_23['el_power'].values, yhat, len(val_scaled)+1-i)\n",
    "    # store forecast\n",
    "    predictions_val.append(yhat)   "
   ]
  },
  {
   "cell_type": "code",
   "execution_count": 18,
   "metadata": {},
   "outputs": [
    {
     "data": {
      "text/plain": [
       "[<matplotlib.lines.Line2D at 0x27c05a32b20>]"
      ]
     },
     "execution_count": 18,
     "metadata": {},
     "output_type": "execute_result"
    },
    {
     "data": {
      "image/png": "[encoded data removed]",
      "text/plain": [
       "<Figure size 432x288 with 1 Axes>"
      ]
     },
     "metadata": {
      "needs_background": "light"
     },
     "output_type": "display_data"
    }
   ],
   "source": [
    "plt.plot(ex_23['el_power'])\n",
    "plt.plot(predictions_val)"
   ]
  },
  {
   "cell_type": "code",
   "execution_count": 19,
   "metadata": {},
   "outputs": [],
   "source": [
    "ex_9_prep = prepData(ex_9['el_power'], gap)\n",
    "ex_9_scaled = scaler.transform(ex_9_prep)"
   ]
  },
  {
   "cell_type": "code",
   "execution_count": 20,
   "metadata": {},
   "outputs": [],
   "source": [
    "predictions_9 = list()\n",
    "for i in range(len(test_scaled)):\n",
    "    # make one-step forecast\n",
    "    X, y = ex_9_scaled[i, 0:-1], ex_9_scaled[i, -1]\n",
    "    yhat = forecast_lstm(lstm_model, 1, X)\n",
    "    # invert scaling\n",
    "    yhat = invert_scale(scaler, X, yhat)\n",
    "    # invert differencing\n",
    "    yhat = inverse_difference(ex_9['el_power'].values, yhat, len(ex_9_scaled)+1-i)\n",
    "    # store forecast\n",
    "    predictions_9.append(yhat)   "
   ]
  },
  {
   "cell_type": "code",
   "execution_count": 21,
   "metadata": {
    "scrolled": true
   },
   "outputs": [
    {
     "data": {
      "text/plain": [
       "[<matplotlib.lines.Line2D at 0x27c0807cee0>]"
      ]
     },
     "execution_count": 21,
     "metadata": {},
     "output_type": "execute_result"
    },
    {
     "data": {
      "image/png": "[encoded data removed]",
      "text/plain": [
       "<Figure size 432x288 with 1 Axes>"
      ]
     },
     "metadata": {
      "needs_background": "light"
     },
     "output_type": "display_data"
    }
   ],
   "source": [
    "plt.plot(ex_9['el_power'])\n",
    "plt.plot(predictions_9)"
   ]
  }
 ],
 "metadata": {
  "kernelspec": {
   "display_name": "Python 3",
   "language": "python",
   "name": "python3"
  },
  "language_info": {
   "codemirror_mode": {
    "name": "ipython",
    "version": 3
   },
   "file_extension": ".py",
   "mimetype": "text/x-python",
   "name": "python",
   "nbconvert_exporter": "python",
   "pygments_lexer": "ipython3",
   "version": "3.8.3"
  }
 },
 "nbformat": 4,
 "nbformat_minor": 4
}
