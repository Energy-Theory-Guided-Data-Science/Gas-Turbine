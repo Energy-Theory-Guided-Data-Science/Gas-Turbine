{
 "cells": [
  {
   "cell_type": "markdown",
   "metadata": {},
   "source": [
    "# Implementation of plain RNN\n",
    "\n",
    "We loosly follow the imoplementation at https://machinelearningmastery.com/time-series-forecasting-long-short-term-memory-network-python/.\n",
    "\n",
    "For our task we need to implement a network where it takes the current and previous inputs to predict the electrical output. If useful, we can include the previous electrical oputput as well.\n",
    "\n",
    "For all the data we need to implement the difference, scale all and then train the model."
   ]
  },
  {
   "cell_type": "markdown",
   "metadata": {},
   "source": [
    "## Preliminaries\n",
    "\n",
    "### Load libraries"
   ]
  },
  {
   "cell_type": "code",
   "execution_count": 1,
   "metadata": {},
   "outputs": [],
   "source": [
    "#import own functions\n",
    "import Global_Functions as gf\n",
    "import Neuronal_Networks as nn\n",
    "\n",
    "#import python standards\n",
    "import numpy as np\n",
    "import pandas as pd\n",
    "from sklearn.preprocessing import MinMaxScaler\n",
    "import matplotlib.pyplot as plt\n",
    "import time\n",
    "timestr = time.strftime(\"%Y-%m-%d_%H-%M_\")\n",
    "\n",
    "#import tensorflow\n",
    "import tensorflow as tf\n",
    "from tensorflow import keras\n",
    "from tensorflow.keras import layers\n",
    "from keras.models import Sequential\n",
    "from keras.callbacks import EarlyStopping"
   ]
  },
  {
   "cell_type": "code",
   "execution_count": 2,
   "metadata": {},
   "outputs": [],
   "source": [
    "np.random.seed(123)"
   ]
  },
  {
   "cell_type": "markdown",
   "metadata": {},
   "source": [
    "### Open Folder and Files"
   ]
  },
  {
   "cell_type": "code",
   "execution_count": 3,
   "metadata": {},
   "outputs": [],
   "source": [
    "OPEN_FOLDER = '../Data/Preped_Data/'"
   ]
  },
  {
   "cell_type": "code",
   "execution_count": 4,
   "metadata": {},
   "outputs": [],
   "source": [
    "ex_1 = gf.open_CSV_file('experiment_1_short.csv', OPEN_FOLDER)\n",
    "ex_4 = gf.open_CSV_file('experiment_4_short.csv', OPEN_FOLDER)\n",
    "ex_9 = gf.open_CSV_file('experiment_9_short.csv', OPEN_FOLDER)\n",
    "ex_20 = gf.open_CSV_file('experiment_20_short.csv', OPEN_FOLDER)\n",
    "ex_21 = gf.open_CSV_file('experiment_21_short.csv', OPEN_FOLDER)\n",
    "ex_22 = gf.open_CSV_file('experiment_22_short.csv', OPEN_FOLDER)\n",
    "ex_23 = gf.open_CSV_file('experiment_23_short.csv', OPEN_FOLDER)\n",
    "ex_24 = gf.open_CSV_file('experiment_24_short.csv', OPEN_FOLDER)"
   ]
  },
  {
   "cell_type": "code",
   "execution_count": 5,
   "metadata": {},
   "outputs": [],
   "source": [
    "experiments = [ex_1, ex_4, ex_9, ex_20, ex_21, ex_22, ex_23, ex_24]\n",
    "names = ['1', '4', '9', '20', '21','22', '23', '24']"
   ]
  },
  {
   "cell_type": "code",
   "execution_count": 6,
   "metadata": {},
   "outputs": [],
   "source": [
    "OPEN_SYNTHETIC = 'C:/Users/FlorianLeiser/Documents/Masterarbeit/Data/Synthetic_Data/Without_Noise/Sample_Ratio_1/quadratic_40_0_linear_1'"
   ]
  },
  {
   "cell_type": "code",
   "execution_count": 7,
   "metadata": {},
   "outputs": [],
   "source": [
    "experiments = gf.load_synthetic(OPEN_SYNTHETIC, length = 50)\n",
    "names = [str(x+1) for x in range(len(experiments)-1)]\n",
    "names.append(\"hand\")"
   ]
  },
  {
   "cell_type": "markdown",
   "metadata": {},
   "source": [
    "### Specify parameters"
   ]
  },
  {
   "cell_type": "code",
   "execution_count": 8,
   "metadata": {},
   "outputs": [],
   "source": [
    "NEUR = 128\n",
    "EPOCH = 500\n",
    "LAG = 60\n",
    "DIFFERENCE = None\n",
    "BATCH_SIZE = 512"
   ]
  },
  {
   "cell_type": "code",
   "execution_count": 9,
   "metadata": {},
   "outputs": [],
   "source": [
    "# ex_train = ex_20\n",
    "# ex_val = ex_21\n",
    "\n",
    "# train = \"20\"\n",
    "# val = \"21\""
   ]
  },
  {
   "cell_type": "code",
   "execution_count": 10,
   "metadata": {},
   "outputs": [],
   "source": [
    "train = \"15\"\n",
    "val = \"3\"\n",
    "\n",
    "train_exs = experiments[:15]\n",
    "ex_train = gf.use_multiple_experiments(train_exs)\n",
    "ex_val = gf.use_multiple_experiments(experiments[15:18])\n",
    "ex_test = gf.use_multiple_experiments(experiments[18:20])"
   ]
  },
  {
   "cell_type": "code",
   "execution_count": 11,
   "metadata": {
    "scrolled": true
   },
   "outputs": [
    {
     "name": "stdout",
     "output_type": "stream",
     "text": [
      "Creation of directory ../Images/RNN/Synthetic/1/2021-05-17_15-19_training_15 val_3 128_neurons__500_epochs__lag_60_batch_512/ successful.\n"
     ]
    }
   ],
   "source": [
    "image_path = \"../Images/RNN/Synthetic/1/\" + timestr\n",
    "specs = \"training_{0} val_{1} {2}_neurons__{3}_epochs__lag_{4}_batch_{5}\" \n",
    "image_folder = image_path + specs.format(train, val, NEUR, EPOCH, LAG, BATCH_SIZE) + \"/\"\n",
    "gf.check_folder(image_folder)"
   ]
  },
  {
   "cell_type": "code",
   "execution_count": 12,
   "metadata": {},
   "outputs": [
    {
     "name": "stdout",
     "output_type": "stream",
     "text": [
      "Creation of directory ../Models/RNN/Synthetic/1/2021-05-17_15-19_training_15 val_3 128_neurons__500_epochs__lag_60_batch_512/ successful.\n"
     ]
    }
   ],
   "source": [
    "model_path = \"../Models/RNN/Synthetic/1/\" + timestr\n",
    "specs = \"training_{0} val_{1} {2}_neurons__{3}_epochs__lag_{4}_batch_{5}\" \n",
    "model_folder = model_path + specs.format(train, val, NEUR, EPOCH, LAG, BATCH_SIZE) + \"/\"\n",
    "gf.check_folder(model_folder)"
   ]
  },
  {
   "cell_type": "markdown",
   "metadata": {},
   "source": [
    "## Train model\n",
    "\n",
    "We use scaling and the fitting method which both are in the Neural Network file in the utilities folder."
   ]
  },
  {
   "cell_type": "code",
   "execution_count": null,
   "metadata": {
    "scrolled": false
   },
   "outputs": [
    {
     "name": "stdout",
     "output_type": "stream",
     "text": [
      "Folder already exists.\n",
      "Epoch 10 done.\n",
      "Epoch 20 done.\n",
      "Epoch 30 done.\n",
      "Epoch 40 done.\n",
      "Epoch 50 done.\n"
     ]
    }
   ],
   "source": [
    "model, history, scaler, X_train, y_train, _, X_val, y_val = nn.train_model(ex_train, ex_val,\n",
    "                                                                           difference_chosen = DIFFERENCE,\n",
    "                                                                           save_folder = model_folder,\n",
    "                                                                           lag_chosen=LAG, batch_size = BATCH_SIZE,\n",
    "                                                                           neurons_chosen=NEUR, nmb_epochs=EPOCH)"
   ]
  },
  {
   "cell_type": "code",
   "execution_count": null,
   "metadata": {},
   "outputs": [],
   "source": [
    "all_scaler = list()\n",
    "all_X_values = list()\n",
    "all_y_values = list()\n",
    "all_predictions = list()\n",
    "all_scaled_predictions = list()\n",
    "results = pd.DataFrame(index = names, columns = ['rmse', 'r2', 'mae', 'maxae', 'rmse_scaled', 'r2_scaled', 'mae_scaled', 'maxae_scaled'])\n",
    "\n",
    "for i in range(2):\n",
    "    rms, r2, mae, maxae = [], [], [], []\n",
    "    scaler, X, y, preds_scaled, preds = nn.predictions(experiments[i], model,\n",
    "                                                       difference_chosen = DIFFERENCE,\n",
    "                                                      lag_chosen = LAG,\n",
    "                                                      batch_size = BATCH_SIZE)\n",
    "    all_scaler.append(scaler)\n",
    "    all_X_values.append(X)\n",
    "    all_y_values.append(y)\n",
    "    all_predictions.append(preds)\n",
    "    all_scaled_predictions.append(preds_scaled)\n",
    "    \n",
    "    gf.create_prediction_plot(experiments[i]['el_power'], preds, image_folder,\n",
    "                              title = 'Predictions using plain RNN ',\n",
    "                             specs = 'on ex_{0} with model trained on {1}'.format(names[i], train))\n",
    "    \n",
    "    results_ex = gf.measure_difference(experiments[i]['el_power'], preds[:,0], should_print = False)\n",
    "    rms.append(results_ex['RMSE'][0])\n",
    "    r2.append(results_ex['R2'][0])\n",
    "    mae.append(results_ex['MAE'][0])\n",
    "    maxae.append(results_ex['MaxAE'][0])\n",
    "                   \n",
    "    results.loc[names[i], 'rmse'] = rms\n",
    "    results.loc[names[i], 'r2'] = r2\n",
    "    results.loc[names[i], 'mae'] = mae\n",
    "    results.loc[names[i], 'maxae'] = maxae\n",
    "    results.to_csv(image_folder + \"results.csv\", sep = \"|\", encoding = 'utf-8')"
   ]
  },
  {
   "cell_type": "code",
   "execution_count": null,
   "metadata": {},
   "outputs": [],
   "source": [
    "losses = []\n",
    "val_losses = []\n",
    "for i in history:\n",
    "    losses.append(i.history['loss'])\n",
    "    val_losses.append(i.history['val_loss'])"
   ]
  },
  {
   "cell_type": "code",
   "execution_count": null,
   "metadata": {},
   "outputs": [],
   "source": [
    "plt.plot(losses)\n",
    "plt.plot(val_losses)"
   ]
  },
  {
   "cell_type": "code",
   "execution_count": null,
   "metadata": {},
   "outputs": [],
   "source": []
  }
 ],
 "metadata": {
  "kernelspec": {
   "display_name": "Python 3",
   "language": "python",
   "name": "python3"
  },
  "language_info": {
   "codemirror_mode": {
    "name": "ipython",
    "version": 3
   },
   "file_extension": ".py",
   "mimetype": "text/x-python",
   "name": "python",
   "nbconvert_exporter": "python",
   "pygments_lexer": "ipython3",
   "version": "3.8.3"
  }
 },
 "nbformat": 4,
 "nbformat_minor": 4
}
