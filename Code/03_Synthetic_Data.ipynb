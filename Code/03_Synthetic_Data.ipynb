{
 "cells": [
  {
   "cell_type": "markdown",
   "metadata": {},
   "source": [
    "# Creation of Synthetic data\n",
    "\n",
    "This file is used for the creation of synthetic data. We try to mimic the behavior of dynamic systems by creating data which have a stationary phase and a transition phase.\n",
    "\n",
    "The stationary phase is determined by a quadratic function ($q_1 * x^2 + q_2 * x + q_3$). The transition phases are determined by a linear function ($l_1 * x + l_2$). The functions are selected according to the knowledge provided by the experts. Other functions can be adapted easily. The parameters q_1, q_2 and l_1 can be selected as one wishes using the variables in the parameters section a few cells down. We chose the parameters q_3 and l_2 to be 0 since it models our use case the best.\n",
    "\n",
    "We have two ways to create data series. The first is a \"hand-made\" procedure having three jumps but also 2 smaller \"continuity-like\" jumps. The other way is a completely random series depending on the number of jumps. As an input we choose random values out of [0, 10], as time inputs we choose random integers out of [0, 10000]."
   ]
  },
  {
   "cell_type": "markdown",
   "metadata": {},
   "source": [
    "## Preliminaries\n",
    "### Import of libraries"
   ]
  },
  {
   "cell_type": "code",
   "execution_count": 1,
   "metadata": {},
   "outputs": [],
   "source": [
    "# homemade functions\n",
    "import Data_Processing as dp\n",
    "import Global_Functions as gf\n",
    "\n",
    "# include python libraries\n",
    "import numpy as np\n",
    "import pandas as pd\n",
    "import matplotlib.pyplot as plt\n",
    "from math import ceil"
   ]
  },
  {
   "cell_type": "code",
   "execution_count": 2,
   "metadata": {},
   "outputs": [],
   "source": [
    "np.random.seed(123)"
   ]
  },
  {
   "cell_type": "markdown",
   "metadata": {},
   "source": [
    "### Parameters specification"
   ]
  },
  {
   "cell_type": "code",
   "execution_count": 3,
   "metadata": {},
   "outputs": [],
   "source": [
    "q_1 = 40\n",
    "q_2 = 0\n",
    "l_1 = 10\n",
    "\n",
    "qdr_params = [q_1,q_2,0]\n",
    "lin_params = [l_1,0]"
   ]
  },
  {
   "cell_type": "markdown",
   "metadata": {},
   "source": [
    "Since we want to sample the data down, we need to specify the ratio at which the data should be downsampled. In our case we sample the data to one data point per second, therefore resulting in a SAMPLE_RATIO of 1. If we want to sample once every minute, the SAMPLE_RATIO should be 1/60."
   ]
  },
  {
   "cell_type": "code",
   "execution_count": 4,
   "metadata": {},
   "outputs": [],
   "source": [
    "SAMPLE_RATIO = 0.5"
   ]
  },
  {
   "cell_type": "markdown",
   "metadata": {},
   "source": [
    "### Folder specifications"
   ]
  },
  {
   "cell_type": "code",
   "execution_count": 5,
   "metadata": {},
   "outputs": [
    {
     "name": "stdout",
     "output_type": "stream",
     "text": [
      "Folder already exists.\n"
     ]
    }
   ],
   "source": [
    "save_at = \"../Data/Synthetic_Data/Without_Noise/Sample_Ratio_\" + str(SAMPLE_RATIO) + \"/\" + \"quadratic_{0}_{1}_linear_{2}/\".format(q_1, q_2, l_1)\n",
    "gf.check_folder(save_at)"
   ]
  },
  {
   "cell_type": "markdown",
   "metadata": {},
   "source": [
    "## Auxiliary methods"
   ]
  },
  {
   "cell_type": "code",
   "execution_count": 6,
   "metadata": {},
   "outputs": [],
   "source": [
    "def linear_func(x, params):\n",
    "    a, b = params\n",
    "    return a*x + b"
   ]
  },
  {
   "cell_type": "code",
   "execution_count": 7,
   "metadata": {},
   "outputs": [],
   "source": [
    "def quadr_func(x, params):\n",
    "    p1, p2, p3 = params\n",
    "    return p1 * x**2 + p2*x + p3"
   ]
  },
  {
   "cell_type": "code",
   "execution_count": 8,
   "metadata": {},
   "outputs": [],
   "source": [
    "def downsample_dataframe(data_full):\n",
    "    df = pd.DataFrame()\n",
    "    #determine sample size depending on duration of experiment and sample ratio (specified above)\n",
    "    sample_size = ceil(data_full['time'][len(data_full)-1] * SAMPLE_RATIO)\n",
    "    \n",
    "    if df.isnull().any().any():\n",
    "        df = df.fillna(0)\n",
    "\n",
    "    for col in data_full.columns:\n",
    "        df[col] = dp.downsample_data(data_full['time'], data_full[col], sample_size)\n",
    "\n",
    "    return df"
   ]
  },
  {
   "cell_type": "code",
   "execution_count": 9,
   "metadata": {},
   "outputs": [],
   "source": [
    "def fill_data(time_splits, value_splits, df_time):\n",
    "    #initialize empty numpy-arrays\n",
    "    time = np.empty(len(df_time))\n",
    "    values = np.empty(len(df_time))\n",
    "    ix_start = 0\n",
    "\n",
    "    for i in range(len(time_splits)-1):\n",
    "        lower = ceil(time_splits[i]) # find beginning of time frame\n",
    "        upper = ceil(time_splits[i+1]) # find end of time frame\n",
    "        \n",
    "        ix_start = np.argmax(df_time >= lower) #find index where lower timestep is surpassed      \n",
    "        ix_end = np.argmax(df_time > upper) #find index where lower timestep is surpassed      \n",
    "        \n",
    "        v = value_splits[i]\n",
    "        values[ix_start:ix_end] = v\n",
    "    values[time_splits[-2]:time_splits[-1]] = value_splits[-2]\n",
    "    values[time_splits[-1]:] = value_splits[-1]\n",
    "    return values"
   ]
  },
  {
   "cell_type": "code",
   "execution_count": 10,
   "metadata": {},
   "outputs": [],
   "source": [
    "def create_synthetic_data(in_values, time, stat_function, stat_parameters, trans_function, trans_parameters):\n",
    "    assert len(in_values) == len(time), 'input and time must have the same length'\n",
    "    output = np.zeros(time[-1])\n",
    "    stat_vals = np.zeros(len(in_values))\n",
    "    \n",
    "    # use static function to model static values\n",
    "    for i in range(len(in_values)):\n",
    "        stat_vals[i] = stat_function(in_values[i], stat_parameters)\n",
    "        \n",
    "    # in the first time sequence we exclude the transition --> refer to final thesis for more detail.\n",
    "    # add normal distributed noise\n",
    "    for j in range(time[0], time[1]):\n",
    "        output[j] = stat_vals[0]# + np.random.normal(0, stat_parameters[0])\n",
    "    \n",
    "    for t in range(len(time)-1):\n",
    "        for i in range(time[t], time[t+1]):\n",
    "            # if rise in input voltage\n",
    "            if in_values[t] > in_values[t-1]:\n",
    "                trans_value = output[i-1] + trans_function(1, trans_parameters)\n",
    "                output[i] = min(trans_value, stat_vals[t])# + np.random.normal(0, stat_parameters[0])\n",
    "\n",
    "            # if drop in input voltage\n",
    "            else:\n",
    "                trans_value = output[i-1] - trans_function(1, trans_parameters)\n",
    "                output[i] = max(trans_value, stat_vals[t])# + np.random.normal(0, stat_parameters[0])\n",
    "    return output"
   ]
  },
  {
   "cell_type": "code",
   "execution_count": 11,
   "metadata": {},
   "outputs": [],
   "source": [
    "def create_dataframe(time_values, input_values, spec = \"\"):\n",
    "    df = pd.DataFrame()\n",
    "    \n",
    "    df['el_power'] = create_synthetic_data(input_values, time_values, quadr_func, qdr_params, linear_func, lin_params)\n",
    "    df['time'] = range(time_values[-1])\n",
    "    df['input_voltage'] = fill_data(time_values, input_values, df['time'])\n",
    "    \n",
    "    df_downsampled = downsample_dataframe(df)\n",
    "    \n",
    "    df_downsampled.to_csv(save_at + \"synthetic_data_{0}.csv\".format(spec),\n",
    "              index = False, sep = \"|\", encoding = \"utf-8\")\n",
    "    return df"
   ]
  },
  {
   "cell_type": "code",
   "execution_count": 12,
   "metadata": {},
   "outputs": [],
   "source": [
    "def create_plot(exp, spec = \"\"):\n",
    "    fig2, ax1 = plt.subplots(figsize = (10,8))\n",
    "    line1, = ax1.plot(exp['time'], exp['el_power'], color = gf.get_color('grey'), label = 'el_power')\n",
    "    ax1.set_ylabel('electric power (W)', color = gf.get_color('grey'), fontsize = 20)\n",
    "    ax1.tick_params(axis='y', labelcolor= gf.get_color('grey'))\n",
    "    ax1.set_ylim([-10, quadr_func(10.5, qdr_params)])\n",
    "    ax1.set_xlabel('Time (s)', fontsize = 20)\n",
    "    \n",
    "    ax2 = ax1.twinx()\n",
    "    line2, = ax2.plot(exp['time'], exp['input_voltage'], color = gf.get_color('red'), label = 'input_voltage')\n",
    "    ax2.set_ylabel('voltage (V)', color = gf.get_color('red'), fontsize = 20)\n",
    "    ax2.tick_params(axis='y', labelcolor= gf.get_color('red'))\n",
    "    ax2.set_ylim([-0.5, 10.5])\n",
    "    ax2.legend([line1, line2], ['el. power', 'voltage'], loc = 'upper right')\n",
    "    ax1.set_title('Synthetic data: input and power', fontsize = 28)\n",
    "    fig2.tight_layout()\n",
    "    fig2.savefig(save_at + 'input_{0}.png'.format(spec))\n",
    "    fig2.savefig(save_at + 'input_{0}.svg'.format(spec))"
   ]
  },
  {
   "cell_type": "markdown",
   "metadata": {},
   "source": [
    "## Create individual slope with jumps and some continuity"
   ]
  },
  {
   "cell_type": "code",
   "execution_count": 13,
   "metadata": {},
   "outputs": [],
   "source": [
    "input_values_hand = [2, 5, 1, 4, 8, 8.5, 9, 2, 3]\n",
    "time_values_hand = [0, 1500, 2100, 2470, 3043, 4075, 4200, 6000, 7000]"
   ]
  },
  {
   "cell_type": "code",
   "execution_count": 14,
   "metadata": {},
   "outputs": [],
   "source": [
    "df = create_dataframe(time_values_hand, input_values_hand, \"hand\")"
   ]
  },
  {
   "cell_type": "code",
   "execution_count": 15,
   "metadata": {
    "scrolled": false
   },
   "outputs": [
    {
     "data": {
      "image/png": "[encoded data removed]",
      "text/plain": [
       "<Figure size 720x576 with 2 Axes>"
      ]
     },
     "metadata": {
      "needs_background": "light"
     },
     "output_type": "display_data"
    }
   ],
   "source": [
    "create_plot(df, \"hand\")"
   ]
  },
  {
   "cell_type": "markdown",
   "metadata": {},
   "source": [
    "## Create more inputs by number of jumps"
   ]
  },
  {
   "cell_type": "code",
   "execution_count": 16,
   "metadata": {},
   "outputs": [],
   "source": [
    "def create_dfs_jumps(jumps = 3):\n",
    "    input_values = 7* np.random.random(jumps*2) + 3\n",
    "    time_values = np.random.randint(0, 10000, size=jumps*2-1)\n",
    "    time_values = np.append(time_values, 0)\n",
    "    time_values.sort()\n",
    "    \n",
    "    df_jump = create_dataframe(time_values=time_values, input_values=input_values, spec = \"jumps_{0}\".format(jumps))\n",
    "    create_plot(df_jump, \"jumps_{0}\".format(jumps))"
   ]
  },
  {
   "cell_type": "code",
   "execution_count": 17,
   "metadata": {},
   "outputs": [],
   "source": [
    "for i in range(300):\n",
    "    jumps = np.random.randint(1, 7)\n",
    "    input_values = 10 * np.random.random(2*jumps)\n",
    "    time_values = np.random.randint(0,10000, size = 2*jumps -1)\n",
    "    time_values = np.append(time_values, 0)\n",
    "    time_values.sort()\n",
    "    \n",
    "    df = create_dataframe(time_values = time_values, input_values = input_values)\n",
    "    df.to_csv(save_at + \"sample_{0}.csv\".format(str(i)), sep = \"|\", encoding = \"utf-8\")"
   ]
  },
  {
   "cell_type": "code",
   "execution_count": null,
   "metadata": {},
   "outputs": [],
   "source": []
  }
 ],
 "metadata": {
  "kernelspec": {
   "display_name": "Python 3",
   "language": "python",
   "name": "python3"
  },
  "language_info": {
   "codemirror_mode": {
    "name": "ipython",
    "version": 3
   },
   "file_extension": ".py",
   "mimetype": "text/x-python",
   "name": "python",
   "nbconvert_exporter": "python",
   "pygments_lexer": "ipython3",
   "version": "3.8.3"
  }
 },
 "nbformat": 4,
 "nbformat_minor": 4
}
