{
 "cells": [
  {
   "cell_type": "markdown",
   "metadata": {},
   "source": [
    "# Data Preprocessing of output flow of gas turbines"
   ]
  },
  {
   "cell_type": "markdown",
   "metadata": {},
   "source": [
    "### Import of libraries"
   ]
  },
  {
   "cell_type": "code",
   "execution_count": 1,
   "metadata": {},
   "outputs": [],
   "source": [
    "import os\n",
    "import matplotlib.pyplot as plt\n",
    "import math\n",
    "import numpy as np\n",
    "import pandas as pd\n",
    "import Preprocessing as pp"
   ]
  },
  {
   "cell_type": "markdown",
   "metadata": {},
   "source": [
    "Need to specify the global variables such as where the data lies and what sampling rate the processed data should have"
   ]
  },
  {
   "cell_type": "code",
   "execution_count": 2,
   "metadata": {},
   "outputs": [],
   "source": [
    "TOTAL_TIME = 12231 #total time for experiment in seconds\n",
    "SAMPLING_RATE = 1 #number of samples per seconds wished (so 0.5 for a sample every 2 seconds)\n",
    "sample_size = math.ceil(TOTAL_TIME*SAMPLING_RATE) +1 # +1 for starting and end point\n",
    "time_downsampled = np.arange(sample_size) \n",
    "\n",
    "OPEN_FOLDER = \"../Data/Raw_Data/\" # where are the raw matlab files?\n",
    "SAVE_FOLDER = \"../Data/Temp_Data/Messdaten_Test_ID_4B/\" # where do you want to save the .csv files\n",
    "\n",
    "open_4b = OPEN_FOLDER + \"Messdaten_Test_ID_4b/\"\n",
    "\n",
    "if not os.path.exists(SAVE_FOLDER):\n",
    "    os.mkdir(SAVE_FOLDER)\n",
    "    print('Creation of dircetory %s successful.' % SAVE_FOLDER)"
   ]
  },
  {
   "cell_type": "code",
   "execution_count": 3,
   "metadata": {},
   "outputs": [],
   "source": [
    "raw_data_4B = pp.openMatfiles(OPEN_FOLDER)"
   ]
  },
  {
   "cell_type": "markdown",
   "metadata": {},
   "source": [
    "## General preperations\n",
    "Such as splitting the data, provide universal nomenclature and other methods useful for all data set files"
   ]
  },
  {
   "cell_type": "markdown",
   "metadata": {},
   "source": [
    "We use the Largest-Triangle-Three-Bucket-Downsampling method, which [1] discovered to be best overall.\n",
    "\n",
    "[1]: https://skemman.is/bitstream/1946/15343/3/SS_MSthesis.pdf"
   ]
  },
  {
   "cell_type": "code",
   "execution_count": 4,
   "metadata": {},
   "outputs": [
    {
     "ename": "AttributeError",
     "evalue": "module 'Preprocessing' has no attribute 'prepareSheets'",
     "output_type": "error",
     "traceback": [
      "\u001b[1;31m---------------------------------------------------------------------------\u001b[0m",
      "\u001b[1;31mAttributeError\u001b[0m                            Traceback (most recent call last)",
      "\u001b[1;32m<ipython-input-4-f33da16c1b4a>\u001b[0m in \u001b[0;36m<module>\u001b[1;34m\u001b[0m\n\u001b[1;32m----> 1\u001b[1;33m \u001b[0mdata_4B\u001b[0m \u001b[1;33m=\u001b[0m \u001b[0mpp\u001b[0m\u001b[1;33m.\u001b[0m\u001b[0mprepareSheets\u001b[0m\u001b[1;33m(\u001b[0m\u001b[0mraw_data_4B\u001b[0m\u001b[1;33m,\u001b[0m \u001b[0msample_size\u001b[0m\u001b[1;33m)\u001b[0m\u001b[1;33m\u001b[0m\u001b[1;33m\u001b[0m\u001b[0m\n\u001b[0m",
      "\u001b[1;31mAttributeError\u001b[0m: module 'Preprocessing' has no attribute 'prepareSheets'"
     ]
    }
   ],
   "source": [
    "data_4B = pp.prepareSheets(raw_data_4B, sample_size)"
   ]
  },
  {
   "cell_type": "code",
   "execution_count": null,
   "metadata": {},
   "outputs": [],
   "source": [
    "data_4B_1B_el = data_4B['Daten_Test_ID_4b_1B_el']\n",
    "data_4B_1B_th = data_4B['Daten_Test_ID_4b_1B_th']\n",
    "data_4B_2A_el_1 = data_4B['Daten_Test_ID_4b_2A_el_1']\n",
    "data_4B_2A_el_2 = data_4B['Daten_Test_ID_4b_2A_el_2']\n",
    "data_4B_2A_th = data_4B['Daten_Test_ID_4b_2A_th']\n",
    "data_4B_drehzahl = data_4B['Drehzahldaten_Test_ID_4b']\n",
    "data_4B_power = data_4B['Leistungdaten_Test_ID_4b']"
   ]
  },
  {
   "cell_type": "code",
   "execution_count": null,
   "metadata": {
    "scrolled": false
   },
   "outputs": [],
   "source": [
    "#those figures are for visual comparison of the downsampling method to see if it's relevant\n",
    "fig,axs = plt.subplots(2, 2, figsize = (20,16))\n",
    "axs = axs.ravel()\n",
    "axs[2].plot(time_downsampled[:200], data_4B_1B_el['I_N15'][:200])\n",
    "axs[0].plot(raw_data_4B['Daten_Test_ID_4b_1B_el']['t_1B_el'][:1000000], raw_data_4B['Daten_Test_ID_4b_1B_el']['I_N15'][:1000000])\n",
    "axs[1].plot(raw_data_4B['Daten_Test_ID_4b_1B_el']['t_1B_el'][:500000], raw_data_4B['Daten_Test_ID_4b_1B_el']['U_N'][:500000])\n",
    "axs[3].plot(time_downsampled[:100], data_4B_1B_el['U_N'][:100])\n",
    "plt.show()"
   ]
  },
  {
   "cell_type": "markdown",
   "metadata": {},
   "source": [
    "## Seperate visualisation/adaptation for all data files and saving them in extra file in /Temp_Data/*"
   ]
  },
  {
   "cell_type": "markdown",
   "metadata": {},
   "source": [
    "**Testdaten 1B_el (electrical output)**\n",
    "\n",
    "The pure physical outputs as of voltage and amperage which show a periodical and symetrical stage"
   ]
  },
  {
   "cell_type": "code",
   "execution_count": null,
   "metadata": {},
   "outputs": [],
   "source": [
    "fig,axs = plt.subplots(2, 1, figsize = (20,16))\n",
    "axs = axs.ravel()\n",
    "axs[0].plot(time_downsampled[:200], data_4B_1B_el['I_N15'][:200])\n",
    "axs[1].plot(time_downsampled[:100], data_4B_1B_el['U_N'][:100])\n",
    "plt.show()\n",
    "\n",
    "el_measures_1B = pd.DataFrame(list(zip(data_4B_1B_el['t_1B_el'],\n",
    "                             data_4B_1B_el['I_N15'],\n",
    "                               data_4B_1B_el['U_N'])))\n",
    "el_measures_1B.columns = ['el_time_measures','el_stromstaerke', 'el_spannung']\n",
    "el_measures_1B.to_csv(SAVE_FOLDER + \"el_measures_1B.csv\",\n",
    "                     index = False, sep = \"|\", encoding = \"utf-8\")"
   ]
  },
  {
   "cell_type": "markdown",
   "metadata": {},
   "source": [
    "**Testdaten 1B_th (thermical output)**\n",
    "\n",
    "The thermical output depending on multiple data series. Not quite sure what they mean for now, but BP_34, BT_34 and BT_6 seem like they have some correlation with the total thermical output."
   ]
  },
  {
   "cell_type": "code",
   "execution_count": null,
   "metadata": {
    "scrolled": true
   },
   "outputs": [],
   "source": [
    "fig,axs = plt.subplots(3, 3, figsize = (20,16))\n",
    "axs = axs.ravel()\n",
    "axs[0].plot(data_4B_1B_th['t_1B_th'], data_4B_1B_th['BP_2'])\n",
    "axs[1].plot(data_4B_1B_th['t_1B_th'], data_4B_1B_th['BP_34'])\n",
    "axs[2].plot(data_4B_1B_th['t_1B_th'], data_4B_1B_th['BP_5'])\n",
    "axs[3].plot(data_4B_1B_th['t_1B_th'], data_4B_1B_th['BP_6'])\n",
    "axs[4].plot(data_4B_1B_th['t_1B_th'], data_4B_1B_th['BP_7'])\n",
    "axs[5].plot(data_4B_1B_th['t_1B_th'], data_4B_1B_th['BT_2'])\n",
    "axs[6].plot(data_4B_1B_th['t_1B_th'], data_4B_1B_th['BT_34'])\n",
    "axs[7].plot(data_4B_1B_th['t_1B_th'], data_4B_1B_th['BT_6'])\n",
    "axs[8].plot(data_4B_1B_th['t_1B_th'], data_4B_1B_th['BT_7'])\n",
    "plt.show()\n",
    "\n",
    "th_measures_1B = pd.DataFrame(list(zip(data_4B_1B_th['t_1B_th'],\n",
    "                             data_4B_1B_th['BP_2'],\n",
    "                             data_4B_1B_th['BP_34'],\n",
    "                             data_4B_1B_th['BP_5'],\n",
    "                             data_4B_1B_th['BP_6'],\n",
    "                             data_4B_1B_th['BP_7'],\n",
    "                             data_4B_1B_th['BT_2'],\n",
    "                             data_4B_1B_th['BT_34'],\n",
    "                             data_4B_1B_th['BT_6'],\n",
    "                             data_4B_1B_th['BT_7'])))\n",
    "th_measures_1B.columns = ['th_time_measures','th_BP2', 'th_BP34', 'th_BP5', 'th_BP6', 'th_BP7', 'th_BT2', 'th_BT34', 'th_BT6', 'th_BT7']\n",
    "\n",
    "th_measures_1B.to_csv(SAVE_FOLDER + \"th_measures_1B.csv\",\n",
    "                     index = False, sep = \"|\", encoding = \"utf-8\")"
   ]
  },
  {
   "cell_type": "markdown",
   "metadata": {},
   "source": [
    "**Testdaten 2A_el_1 (electrical output)**\n",
    "\n",
    "The pure physical outputs as of voltage and amperage which show a periodical and symetrical stage"
   ]
  },
  {
   "cell_type": "code",
   "execution_count": null,
   "metadata": {
    "scrolled": false
   },
   "outputs": [],
   "source": [
    "fig,axs = plt.subplots(2, 2, figsize = (20,16))\n",
    "axs = axs.ravel()\n",
    "axs[0].plot(data_4B_2A_el_1['t_2A_el_1'], data_4B_2A_el_1['I_G15'])\n",
    "axs[1].plot(data_4B_2A_el_1['t_2A_el_1'], data_4B_2A_el_1['U_G'])\n",
    "axs[2].plot(data_4B_2A_el_2['t_2A_el_2'], data_4B_2A_el_2['sw_MGT'])\n",
    "axs[3].plot(data_4B_2A_el_2['t_2A_el_2'], data_4B_2A_el_2['U_ZK'])\n",
    "plt.show()\n",
    "\n",
    "el_measures_2A_1 = pd.DataFrame(list(zip(data_4B_2A_el_1['t_2A_el_1'],\n",
    "                             data_4B_2A_el_1['I_G15'],\n",
    "                             data_4B_2A_el_1['U_G'])))\n",
    "el_measures_2A_1.columns = ['el_time_measures', 'el_stromstaerke', 'el_spannung']\n",
    "el_measures_2A_1.to_csv(SAVE_FOLDER + \"el_measures_2A_1.csv\",\n",
    "                     index = False, sep = \"|\", encoding = \"utf-8\")\n",
    "\n",
    "\n",
    "el_measures_2A_2 = pd.DataFrame(list(zip(data_4B_2A_el_2['t_2A_el_2'],\n",
    "                             data_4B_2A_el_2['sw_MGT'],\n",
    "                             data_4B_2A_el_2['U_ZK'])))\n",
    "el_measures_2A_2.columns = ['el_time_measures', 'el_spannung_input', 'el_spannung']\n",
    "el_measures_2A_2.to_csv(SAVE_FOLDER + \"el_measures_2A_2.csv\",\n",
    "                     index = False, sep = \"|\", encoding = \"utf-8\")"
   ]
  },
  {
   "cell_type": "markdown",
   "metadata": {},
   "source": [
    "**Testdaten 2A_th (thermical output)**\n",
    "\n",
    "The thermical output depending on multiple data series. Not quite sure what they mean for now, but V_dotKW and T_vorKW seem relevant for cold starts"
   ]
  },
  {
   "cell_type": "code",
   "execution_count": null,
   "metadata": {
    "scrolled": true
   },
   "outputs": [],
   "source": [
    "fig,axs = plt.subplots(3, 3, figsize = (20,16))\n",
    "axs = axs.ravel()\n",
    "axs[0].plot(data_4B_2A_th['t_2A_th'], data_4B_2A_th['T_L'])\n",
    "axs[1].plot(data_4B_2A_th['t_2A_th'], data_4B_2A_th['T_rueckKW'])\n",
    "axs[2].plot(data_4B_2A_th['t_2A_th'], data_4B_2A_th['T_vorKW'])\n",
    "axs[3].plot(data_4B_2A_th['t_2A_th'], data_4B_2A_th['V_dotB'])\n",
    "axs[4].plot(data_4B_2A_th['t_2A_th'], data_4B_2A_th['V_dotKW'])\n",
    "axs[5].plot(data_4B_2A_th['t_2A_th'], data_4B_2A_th['m_dotL'])\n",
    "axs[6].plot(data_4B_2A_th['t_2A_th'], data_4B_2A_th['p_L'])\n",
    "axs[7].plot(data_4B_2A_th['t_2A_th'], data_4B_2A_th['sw_kuehler'])\n",
    "plt.show()\n",
    "\n",
    "th_measures_2A = pd.DataFrame(list(zip(data_4B_2A_th['t_2A_th'],\n",
    "                             data_4B_2A_th['T_L'],\n",
    "                             data_4B_2A_th['T_rueckKW'],\n",
    "                             data_4B_2A_th['T_vorKW'],\n",
    "                             data_4B_2A_th['V_dotB'],\n",
    "                             data_4B_2A_th['V_dotKW'],\n",
    "                             data_4B_2A_th['m_dotL'],\n",
    "                             data_4B_2A_th['p_L'],\n",
    "                             data_4B_2A_th['sw_kuehler'])))\n",
    "th_measures_2A.columns = ['th_time_measures', 'th_TL', 'th_Trueck', 'th_Tvor', 'th_VdotB', 'th_VdotKW', 'th_mdotL', 'th_pL', 'th_swKuehler']\n",
    "th_measures_2A.to_csv(SAVE_FOLDER + \"th_measures_2A.csv\",\n",
    "                     index = False, sep = \"|\", encoding = \"utf-8\")"
   ]
  },
  {
   "cell_type": "markdown",
   "metadata": {},
   "source": [
    "**Drehzahldaten (rotation)**\n",
    "\n",
    "We focus on rotation data, so data from File _'Drehzahldaten_Test_ID_4b'_"
   ]
  },
  {
   "cell_type": "code",
   "execution_count": null,
   "metadata": {},
   "outputs": [],
   "source": [
    "fig,axs = plt.subplots(3, 1, figsize = (20,16))\n",
    "axs = axs.ravel()\n",
    "axs[0].plot(data_4B_drehzahl['t_nsoll_stil'], data_4B_drehzahl['sw_nsoll_stil'])\n",
    "axs[1].plot(data_4B_drehzahl['t_nsoll_stil'], data_4B_drehzahl['n_4b_soll'])\n",
    "axs[2].plot(data_4B_drehzahl['t_stil'], data_4B_drehzahl['n_stil'])\n",
    "plt.show()\n",
    "\n",
    "#save the 3 different timelines in 2 data frames\n",
    "#(input voltage and measured rotation vs. smoothed rotation)\n",
    "input_drehzahl = pd.DataFrame(list(zip(data_4B_drehzahl['t_nsoll_stil'],\n",
    "                       data_4B_drehzahl['sw_nsoll_stil'],\n",
    "                       data_4B_drehzahl['n_4b_soll'])))\n",
    "input_drehzahl.columns = ['nsoll_time', 'nsoll_input_voltage', 'nsoll_measured']\n",
    "approx_drehzahl = pd.DataFrame(list(zip(data_4B_drehzahl['t_stil'],\n",
    "                  data_4B_drehzahl['n_stil'])))\n",
    "approx_drehzahl.columns = ['nsoll_time', 'nsoll_approx']\n",
    "\n",
    "\n",
    "input_drehzahl.to_csv(SAVE_FOLDER + \"input_drehzahl.csv\",\n",
    "                     index = False, sep = \"|\", encoding = \"utf-8\")\n",
    "approx_drehzahl.to_csv(SAVE_FOLDER + \"approx_drehzahl.csv\",\n",
    "                     index = False, sep = \"|\", encoding = \"utf-8\")"
   ]
  },
  {
   "cell_type": "markdown",
   "metadata": {},
   "source": [
    "**Leistungsdaten (power)**\n",
    "\n",
    "We focus on power data, so data from File _'Leistungsdaten_Test_ID_4b'_"
   ]
  },
  {
   "cell_type": "code",
   "execution_count": null,
   "metadata": {},
   "outputs": [],
   "source": [
    "fig,axs = plt.subplots(3, 2, figsize = (20,12))\n",
    "axs = axs.ravel()\n",
    "axs[4].plot(data_4B_power['t_elstil'], data_4B_power['P_elstil'])\n",
    "axs[5].plot(data_4B_power['t_thstil'], data_4B_power['P_thstil'])\n",
    "axs[0].plot(data_4B_power['t_1B_el_neu'], data_4B_power['P_el_rms'])\n",
    "axs[1].plot(data_4B_power['t_1B_el_neu'], data_4B_power['P_th'][::2])\n",
    "axs[2].plot(data_4B_power['t_1B_el_neu'][::25], data_4B_power['P_th_mean'])\n",
    "plt.show()\n",
    "\n",
    "\n",
    "el_output_raw = pd.DataFrame(list(zip(data_4B_power['t_1B_el_neu'],\n",
    "                    data_4B_power['P_el_rms'],\n",
    "                    data_4B_power['P_th'],\n",
    "                    data_4B_power['P_th_mean'])))\n",
    "el_output_raw.columns = ['el_time', 'el_power', 'th_power', 'th_mean']\n",
    "el_output_approx = pd.DataFrame(list(zip(data_4B_power['t_elstil'],\n",
    "                  data_4B_power['P_elstil'],\n",
    "                  data_4B_power['P_thstil'])))\n",
    "el_output_approx.columns = ['el_time_approx', 'el_power_approx', 'th_power_approx']\n",
    "\n",
    "\n",
    "el_output_raw.to_csv(SAVE_FOLDER + \"power_output_raw.csv\",\n",
    "                     index = False, sep = \"|\", encoding = \"utf-8\")\n",
    "el_output_approx.to_csv(SAVE_FOLDER + \"power_output_approx.csv\",\n",
    "                     index = False, sep = \"|\", encoding = \"utf-8\")"
   ]
  },
  {
   "cell_type": "code",
   "execution_count": null,
   "metadata": {},
   "outputs": [],
   "source": []
  }
 ],
 "metadata": {
  "kernelspec": {
   "display_name": "Python 3",
   "language": "python",
   "name": "python3"
  },
  "language_info": {
   "codemirror_mode": {
    "name": "ipython",
    "version": 3
   },
   "file_extension": ".py",
   "mimetype": "text/x-python",
   "name": "python",
   "nbconvert_exporter": "python",
   "pygments_lexer": "ipython3",
   "version": "3.8.3"
  }
 },
 "nbformat": 4,
 "nbformat_minor": 4
}
