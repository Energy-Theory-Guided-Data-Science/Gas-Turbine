{
 "cells": [
  {
   "cell_type": "markdown",
   "metadata": {},
   "source": [
    "# Data Preprocessing of output flow of gas turbines"
   ]
  },
  {
   "cell_type": "markdown",
   "metadata": {},
   "source": [
    "### Import of libraries"
   ]
  },
  {
   "cell_type": "code",
   "execution_count": 1,
   "metadata": {},
   "outputs": [],
   "source": [
    "import os\n",
    "import h5py\n",
    "import math\n",
    "import matplotlib.pyplot as plt\n",
    "import numpy as np\n",
    "import pandas as pd\n",
    "import lttb"
   ]
  },
  {
   "cell_type": "markdown",
   "metadata": {},
   "source": [
    "Need to specify the global variables such as where the data lies and what sampling rate the processed data should have"
   ]
  },
  {
   "cell_type": "code",
   "execution_count": 2,
   "metadata": {},
   "outputs": [],
   "source": [
    "TOTAL_TIME = 12231 #total time for experiment in seconds\n",
    "SAMPLING_RATE = 1 #number of samples per seconds wished (so 0.5 for a sample every 2 seconds)\n",
    "sample_size = math.ceil(TOTAL_TIME*SAMPLING_RATE) +1 # +1 for starting and end point\n",
    "time_downsampled = np.arange(sample_size) \n",
    "\n",
    "OPEN_FOLDER = \"../Data/Raw_Data/\" # where are the raw matlab files?\n",
    "SAVE_FOLDER = \"../Data/Temp_Data/\" # where do you want to save the .csv files\n",
    "\n",
    "if not os.path.exists(SAVE_FOLDER):\n",
    "    os.mkdir(SAVE_FOLDER)\n",
    "    print('Creation of dircetory %s successful.' % SAVE_FOLDER)"
   ]
  },
  {
   "cell_type": "code",
   "execution_count": 3,
   "metadata": {},
   "outputs": [],
   "source": [
    "def openFileWithMultipleHeaders(path, mat_file):\n",
    "    group_data = {}\n",
    "    for head in mat_file.keys():\n",
    "        group_data[head] = np.squeeze(mat_file[head][:])\n",
    "    return group_data"
   ]
  },
  {
   "cell_type": "code",
   "execution_count": 4,
   "metadata": {},
   "outputs": [],
   "source": [
    "#import all .matlab-files from data folder\n",
    "def importMatfiles():\n",
    "    raw_data = {}\n",
    "\n",
    "    mat_raw_files = (file for file in os.listdir(OPEN_FOLDER) if file[-4:] == '.mat' and \"_Test_\" in file)\n",
    "    for file in mat_raw_files:\n",
    "        print(file)\n",
    "        path = os.path.join(OPEN_FOLDER, file)\n",
    "        mat_file = h5py.File(path, 'r')\n",
    "        if len(mat_file.keys()) >1:\n",
    "            group_data = openFileWithMultipleHeaders(path, mat_file)\n",
    "        else:\n",
    "            group_data = mat_file[:]\n",
    "\n",
    "        raw_data[file[:-4]] = group_data\n",
    "    return raw_data"
   ]
  },
  {
   "cell_type": "markdown",
   "metadata": {},
   "source": [
    "## General preperations\n",
    "Such as splitting the data, provide universal nomenclature and other methods useful for all data set files"
   ]
  },
  {
   "cell_type": "markdown",
   "metadata": {},
   "source": [
    "We use the Largest-Triangle-Three-Bucket-Downsampling method, which [1] discovered to be best overall.\n",
    "\n",
    "[1]: https://skemman.is/bitstream/1946/15343/3/SS_MSthesis.pdf"
   ]
  },
  {
   "cell_type": "code",
   "execution_count": 5,
   "metadata": {},
   "outputs": [],
   "source": [
    "def downsampleData(time, values):\n",
    "    assert len(time) == len(values)\n",
    "    data = np.array([time, values]).T\n",
    "    downsampled_data = lttb.downsample(data, n_out = sample_size)\n",
    "    assert downsampled_data.shape[0] == sample_size\n",
    "    return downsampled_data"
   ]
  },
  {
   "cell_type": "code",
   "execution_count": 6,
   "metadata": {},
   "outputs": [],
   "source": [
    "def downsampleSheet(sheet, time_head):\n",
    "    data_down = {}\n",
    "    sheet_time = sheet[time_head]\n",
    "    if 't_\"A_el' in time_head:\n",
    "        sheet_time = sheet[time_head][::10000]\n",
    "        for head in sheet.keys():\n",
    "            sheet[head] = sheet[head][::10000]\n",
    "    for head in sheet.keys():\n",
    "        data_down[head] = downsampleData(sheet_time, sheet[head])[:,1]\n",
    "        if head == time_head:\n",
    "            data_down[head] = time_downsampled\n",
    "    \n",
    "    return data_down"
   ]
  },
  {
   "cell_type": "code",
   "execution_count": 7,
   "metadata": {},
   "outputs": [],
   "source": [
    "def prepareSheets(raw_data):\n",
    "    data = {}\n",
    "    switcher_time = {\n",
    "        'Daten_Test_ID_4b_1B_el': 't_1B_el',\n",
    "        'Daten_Test_ID_4b_1B_th': 't_1B_th',\n",
    "        'Daten_Test_ID_4b_2A_el_1': 't_2A_el_1',\n",
    "        'Daten_Test_ID_4b_2A_el_2': 't_2A_el_2',\n",
    "        'Daten_Test_ID_4b_2A_th': 't_2A_th',\n",
    "        'Drehzahldaten_Test_ID_4b': 't_nsoll_stil',\n",
    "        'Leistungdaten_Test_ID_4b': 't_elstil'\n",
    "    }\n",
    "\n",
    "    exclude = ['Drehzahldaten_Test_ID_4b', 'Leistungdaten_Test_ID_4b']\n",
    "    for head in [x for x in raw_data.keys() if x not in exclude]:\n",
    "        print(head)\n",
    "        data[head] = downsampleSheet(raw_data[head], switcher_time.get(head))\n",
    "    for head in exclude:\n",
    "        data[head] = raw_data[head]\n",
    "    return data"
   ]
  },
  {
   "cell_type": "code",
   "execution_count": 8,
   "metadata": {},
   "outputs": [
    {
     "name": "stdout",
     "output_type": "stream",
     "text": [
      "Daten_Test_ID_4b_1B_el.mat\n",
      "Daten_Test_ID_4b_1B_th.mat\n",
      "Daten_Test_ID_4b_2A_el_1.mat\n",
      "Daten_Test_ID_4b_2A_el_2.mat\n",
      "Daten_Test_ID_4b_2A_th.mat\n",
      "Drehzahldaten_Test_ID_4b.mat\n",
      "Leistungdaten_Test_ID_4b.mat\n"
     ]
    }
   ],
   "source": [
    "raw_data = importMatfiles()"
   ]
  },
  {
   "cell_type": "code",
   "execution_count": null,
   "metadata": {},
   "outputs": [
    {
     "name": "stdout",
     "output_type": "stream",
     "text": [
      "Daten_Test_ID_4b_1B_el\n",
      "Daten_Test_ID_4b_1B_th\n",
      "Daten_Test_ID_4b_2A_el_1\n"
     ]
    }
   ],
   "source": [
    "data = prepareSheets(raw_data)"
   ]
  },
  {
   "cell_type": "code",
   "execution_count": null,
   "metadata": {},
   "outputs": [],
   "source": [
    "data_1B_el = data['Daten_Test_ID_4b_1B_el']\n",
    "data_1B_th = data['Daten_Test_ID_4b_1B_th']\n",
    "data_2A_el_1 = data['Daten_Test_ID_4b_2A_el_1']\n",
    "data_2A_el_2 = data['Daten_Test_ID_4b_2A_el_2']\n",
    "data_2A_th = data['Daten_Test_ID_4b_2A_th']\n",
    "data_drehzahl = data['Drehzahldaten_Test_ID_4b']\n",
    "data_power = data['Leistungdaten_Test_ID_4b']"
   ]
  },
  {
   "cell_type": "code",
   "execution_count": null,
   "metadata": {
    "scrolled": false
   },
   "outputs": [],
   "source": [
    "#those figures are for visual comparison of the downsampling method to see if it's relevant\n",
    "fig,axs = plt.subplots(2, 2, figsize = (20,16))\n",
    "axs = axs.ravel()\n",
    "axs[0].plot(time_downsampled[:200], data_1B_el['I_N15'][:200])\n",
    "axs[2].plot(raw_data['Daten_Test_ID_4b_1B_el']['t_1B_el'][:1000000], raw_data['Daten_Test_ID_4b_1B_el']['I_N15'][:1000000])\n",
    "axs[3].plot(raw_data['Daten_Test_ID_4b_1B_el']['t_1B_el'][:500000], raw_data['Daten_Test_ID_4b_1B_el']['U_N'][:500000])\n",
    "axs[1].plot(time_downsampled[:100], data_1B_el['U_N'][:100])\n",
    "plt.show()"
   ]
  },
  {
   "cell_type": "markdown",
   "metadata": {},
   "source": [
    "## Seperate visualisation/adaptation for all data files and saving them in extra file in /Temp_Data/*"
   ]
  },
  {
   "cell_type": "markdown",
   "metadata": {},
   "source": [
    "**Testdaten 1B_el (electrical output)**\n",
    "\n",
    "The pure physical outputs as of voltage and amperage which show a periodical and symetrical stage"
   ]
  },
  {
   "cell_type": "code",
   "execution_count": null,
   "metadata": {},
   "outputs": [],
   "source": [
    "fig,axs = plt.subplots(2, 1, figsize = (20,16))\n",
    "axs = axs.ravel()\n",
    "axs[0].plot(time_downsampled[:200], data_1B_el['I_N15'][:200])\n",
    "axs[1].plot(time_downsampled[:100], data_1B_el['U_N'][:100])\n",
    "plt.show()\n",
    "\n",
    "el_measures_1B = pd.DataFrame(list(zip(data_1B_el['t_1B_el'],\n",
    "                             data_1B_el['I_N15'],\n",
    "                               data_1B_el['U_N'])))\n",
    "el_measures_1B.columns = ['el_time_measures','el_stromstaerke', 'el_spannung']\n",
    "el_measures_1B.to_csv(SAVE_FOLDER + \"el_measures_1B.csv\",\n",
    "                     index = False, sep = \"|\", encoding = \"utf-8\")"
   ]
  },
  {
   "cell_type": "markdown",
   "metadata": {},
   "source": [
    "**Testdaten 1B_th (thermical output)**\n",
    "\n",
    "The thermical output depending on multiple data series. Not quite sure what they mean for now, but BP_34, BT_34 and BT_6 seem like they have some correlation with the total thermical output."
   ]
  },
  {
   "cell_type": "code",
   "execution_count": null,
   "metadata": {
    "scrolled": true
   },
   "outputs": [],
   "source": [
    "fig,axs = plt.subplots(3, 3, figsize = (20,16))\n",
    "axs = axs.ravel()\n",
    "axs[0].plot(data_1B_th['t_1B_th'], data_1B_th['BP_2'])\n",
    "axs[1].plot(data_1B_th['t_1B_th'], data_1B_th['BP_34'])\n",
    "axs[2].plot(data_1B_th['t_1B_th'], data_1B_th['BP_5'])\n",
    "axs[3].plot(data_1B_th['t_1B_th'], data_1B_th['BP_6'])\n",
    "axs[4].plot(data_1B_th['t_1B_th'], data_1B_th['BP_7'])\n",
    "axs[5].plot(data_1B_th['t_1B_th'], data_1B_th['BT_2'])\n",
    "axs[6].plot(data_1B_th['t_1B_th'], data_1B_th['BT_34'])\n",
    "axs[7].plot(data_1B_th['t_1B_th'], data_1B_th['BT_6'])\n",
    "axs[8].plot(data_1B_th['t_1B_th'], data_1B_th['BT_7'])\n",
    "plt.show()\n",
    "\n",
    "th_measures_1B = pd.DataFrame(list(zip(data_1B_th['t_1B_th'],\n",
    "                             data_1B_th['BP_2'],\n",
    "                             data_1B_th['BP_34'],\n",
    "                             data_1B_th['BP_5'],\n",
    "                             data_1B_th['BP_6'],\n",
    "                             data_1B_th['BP_7'],\n",
    "                             data_1B_th['BT_2'],\n",
    "                             data_1B_th['BT_34'],\n",
    "                             data_1B_th['BT_6'],\n",
    "                             data_1B_th['BT_7'])))\n",
    "th_measures_1B.columns = ['th_time_measures','th_BP2', 'th_BP34', 'th_BP5', 'th_BP6', 'th_BP7', 'th_BT2', 'th_BT34', 'th_BT6', 'th_BT7']\n",
    "\n",
    "th_measures_1B.to_csv(SAVE_FOLDER + \"th_measures_1B.csv\",\n",
    "                     index = False, sep = \"|\", encoding = \"utf-8\")"
   ]
  },
  {
   "cell_type": "markdown",
   "metadata": {},
   "source": [
    "**Testdaten 2A_el_1 (electrical output)**\n",
    "\n",
    "The pure physical outputs as of voltage and amperage which show a periodical and symetrical stage"
   ]
  },
  {
   "cell_type": "code",
   "execution_count": null,
   "metadata": {
    "scrolled": false
   },
   "outputs": [],
   "source": [
    "fig,axs = plt.subplots(2, 2, figsize = (20,16))\n",
    "axs = axs.ravel()\n",
    "axs[0].plot(data_2A_el_1['t_2A_el_1'], data_2A_el_1['I_G15'])\n",
    "axs[1].plot(data_2A_el_1['t_2A_el_1'], data_2A_el_1['U_G'])\n",
    "axs[2].plot(data_2A_el_2['t_2A_el_2'], data_2A_el_2['sw_MGT'])\n",
    "axs[3].plot(data_2A_el_2['t_2A_el_2'], data_2A_el_2['U_ZK'])\n",
    "plt.show()\n",
    "\n",
    "el_measures_2A_1 = pd.DataFrame(list(zip(data_2A_el_1['t_2A_el_1'],\n",
    "                             data_2A_el_1['I_G15'],\n",
    "                             data_2A_el_1['U_G'])))\n",
    "el_measures_2A_1.columns = ['el_time_measures', 'el_stromstaerke', 'el_spannung']\n",
    "el_measures_2A_1.to_csv(SAVE_FOLDER + \"el_measures_2A_1.csv\",\n",
    "                     index = False, sep = \"|\", encoding = \"utf-8\")\n",
    "\n",
    "\n",
    "el_measures_2A_2 = pd.DataFrame(list(zip(data_2A_el_2['t_2A_el_2'],\n",
    "                             data_2A_el_2['sw_MGT'],\n",
    "                             data_2A_el_2['U_ZK'])))\n",
    "el_measures_2A_2.columns = ['el_time_measures', 'el_spannung_input', 'el_spannung']\n",
    "el_measures_2A_2.to_csv(SAVE_FOLDER + \"el_measures_2A_2.csv\",\n",
    "                     index = False, sep = \"|\", encoding = \"utf-8\")"
   ]
  },
  {
   "cell_type": "markdown",
   "metadata": {},
   "source": [
    "**Testdaten 2A_th (thermical output)**\n",
    "\n",
    "The thermical output depending on multiple data series. Not quite sure what they mean for now, but V_dotKW and T_vorKW seem relevant for cold starts"
   ]
  },
  {
   "cell_type": "code",
   "execution_count": null,
   "metadata": {
    "scrolled": true
   },
   "outputs": [],
   "source": [
    "fig,axs = plt.subplots(3, 3, figsize = (20,16))\n",
    "axs = axs.ravel()\n",
    "axs[0].plot(data_2A_th['t_2A_th'], data_2A_th['T_L'])\n",
    "axs[1].plot(data_2A_th['t_2A_th'], data_2A_th['T_rueckKW'])\n",
    "axs[2].plot(data_2A_th['t_2A_th'], data_2A_th['T_vorKW'])\n",
    "axs[3].plot(data_2A_th['t_2A_th'], data_2A_th['V_dotB'])\n",
    "axs[4].plot(data_2A_th['t_2A_th'], data_2A_th['V_dotKW'])\n",
    "axs[5].plot(data_2A_th['t_2A_th'], data_2A_th['m_dotL'])\n",
    "axs[6].plot(data_2A_th['t_2A_th'], data_2A_th['p_L'])\n",
    "axs[7].plot(data_2A_th['t_2A_th'], data_2A_th['sw_kuehler'])\n",
    "plt.show()\n",
    "\n",
    "th_measures_2A = pd.DataFrame(list(zip(data_2A_th['t_2A_th'],\n",
    "                             data_2A_th['T_L'],\n",
    "                             data_2A_th['T_rueckKW'],\n",
    "                             data_2A_th['T_vorKW'],\n",
    "                             data_2A_th['V_dotB'],\n",
    "                             data_2A_th['V_dotKW'],\n",
    "                             data_2A_th['m_dotL'],\n",
    "                             data_2A_th['p_L'],\n",
    "                             data_2A_th['sw_kuehler'])))\n",
    "th_measures_2A.columns = ['th_time_measures', 'th_TL', 'th_Trueck', 'th_Tvor', 'th_VdotB', 'th_VdotKW', 'th_mdotL', 'th_pL', 'th_swKuehler']\n",
    "th_measures_2A.to_csv(SAVE_FOLDER + \"th_measures_2A.csv\",\n",
    "                     index = False, sep = \"|\", encoding = \"utf-8\")"
   ]
  },
  {
   "cell_type": "markdown",
   "metadata": {},
   "source": [
    "**Drehzahldaten (rotation)**\n",
    "\n",
    "We focus on rotation data, so data from File _'Drehzahldaten_Test_ID_4b'_"
   ]
  },
  {
   "cell_type": "code",
   "execution_count": null,
   "metadata": {},
   "outputs": [],
   "source": [
    "fig,axs = plt.subplots(3, 1, figsize = (20,16))\n",
    "axs = axs.ravel()\n",
    "axs[0].plot(data_drehzahl['t_nsoll_stil'], data_drehzahl['sw_nsoll_stil'])\n",
    "axs[1].plot(data_drehzahl['t_nsoll_stil'], data_drehzahl['n_4b_soll'])\n",
    "axs[2].plot(data_drehzahl['t_stil'], data_drehzahl['n_stil'])\n",
    "plt.show()\n",
    "\n",
    "#save the 3 different timelines in 2 data frames\n",
    "#(input voltage and measured rotation vs. smoothed rotation)\n",
    "input_drehzahl = pd.DataFrame(list(zip(data_drehzahl['t_nsoll_stil'],\n",
    "                       data_drehzahl['sw_nsoll_stil'],\n",
    "                       data_drehzahl['n_4b_soll'])))\n",
    "input_drehzahl.columns = ['nsoll_time', 'nsoll_input_voltage', 'nsoll_measured']\n",
    "approx_drehzahl = pd.DataFrame(list(zip(data_drehzahl['t_stil'],\n",
    "                  data_drehzahl['n_stil'])))\n",
    "approx_drehzahl.columns = ['nsoll_time', 'nsoll_approx']\n",
    "\n",
    "\n",
    "input_drehzahl.to_csv(SAVE_FOLDER + \"input_drehzahl.csv\",\n",
    "                     index = False, sep = \"|\", encoding = \"utf-8\")\n",
    "approx_drehzahl.to_csv(SAVE_FOLDER + \"approx_drehzahl.csv\",\n",
    "                     index = False, sep = \"|\", encoding = \"utf-8\")"
   ]
  },
  {
   "cell_type": "markdown",
   "metadata": {},
   "source": [
    "**Leistungsdaten (power)**\n",
    "\n",
    "We focus on power data, so data from File _'Leistungsdaten_Test_ID_4b'_"
   ]
  },
  {
   "cell_type": "code",
   "execution_count": null,
   "metadata": {},
   "outputs": [],
   "source": [
    "fig,axs = plt.subplots(3, 2, figsize = (20,12))\n",
    "axs = axs.ravel()\n",
    "axs[0].plot(data_power['t_elstil'], data_power['P_elstil'])\n",
    "axs[1].plot(data_power['t_thstil'], data_power['P_thstil'])\n",
    "axs[2].plot(data_power['t_1B_el_neu'], data_power['P_el_rms'])\n",
    "axs[3].plot(data_power['t_1B_el_neu'], data_power['P_th'][::2])\n",
    "axs[4].plot(data_power['t_1B_el_neu'][::25], data_power['P_th_mean'])\n",
    "plt.show()\n",
    "\n",
    "\n",
    "el_output_raw = pd.DataFrame(list(zip(data_power['t_1B_el_neu'],\n",
    "                    data_power['P_el_rms'],\n",
    "                    data_power['P_th'],\n",
    "                    data_power['P_th_mean'])))\n",
    "el_output_raw.columns = ['el_time', 'el_power', 'th_power', 'th_mean']\n",
    "el_output_approx = pd.DataFrame(list(zip(data_power['t_elstil'],\n",
    "                  data_power['P_elstil'],\n",
    "                  data_power['P_thstil'])))\n",
    "el_output_approx.columns = ['el_time_approx', 'el_power_approx', 'th_power_approx']\n",
    "\n",
    "\n",
    "el_output_raw.to_csv(SAVE_FOLDER + \"el_output_raw.csv\",\n",
    "                     index = False, sep = \"|\", encoding = \"utf-8\")\n",
    "el_output_approx.to_csv(SAVE_FOLDER + \"el_output_approx.csv\",\n",
    "                     index = False, sep = \"|\", encoding = \"utf-8\")"
   ]
  },
  {
   "cell_type": "code",
   "execution_count": null,
   "metadata": {},
   "outputs": [],
   "source": []
  }
 ],
 "metadata": {
  "kernelspec": {
   "display_name": "Python 3",
   "language": "python",
   "name": "python3"
  },
  "language_info": {
   "codemirror_mode": {
    "name": "ipython",
    "version": 3
   },
   "file_extension": ".py",
   "mimetype": "text/x-python",
   "name": "python",
   "nbconvert_exporter": "python",
   "pygments_lexer": "ipython3",
   "version": "3.8.3"
  }
 },
 "nbformat": 4,
 "nbformat_minor": 4
}
