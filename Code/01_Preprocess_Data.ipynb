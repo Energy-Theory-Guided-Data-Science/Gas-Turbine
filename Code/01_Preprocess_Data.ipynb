{
 "cells": [
  {
   "cell_type": "markdown",
   "metadata": {},
   "source": [
    "# Preprocessing of Experimental Data"
   ]
  },
  {
   "cell_type": "markdown",
   "metadata": {},
   "source": [
    "## Summary\n",
    "This file is to preprocess the raw .mat-Files. We want to save them as .csv-files in a second folder. The .csv-files should be ready to use in any analysis approach. In our experiments, the gas turbine has a motor phase at the start of each experiment and a cool-down phase at each end. We save three files: One includes the entire experiment, the second excludes motor and cool-down phase to focus on the pure data. The third includes the raw data in a csv for easier accessability."
   ]
  },
  {
   "cell_type": "code",
   "execution_count": 1,
   "metadata": {},
   "outputs": [],
   "source": [
    "# import all necessary libraries\n",
    "import Global_Functions as gf\n",
    "import Preprocessing as pp\n",
    "import os\n",
    "from scipy.io import loadmat\n",
    "import pandas as pd\n",
    "from math import ceil\n",
    "import numpy as np\n",
    "import matplotlib.pyplot as plt"
   ]
  },
  {
   "cell_type": "code",
   "execution_count": 2,
   "metadata": {},
   "outputs": [
    {
     "name": "stdout",
     "output_type": "stream",
     "text": [
      "Folder already exists.\n"
     ]
    }
   ],
   "source": [
    "RAW_FOLDER = \"../Data/Raw_Data/\" # where are the raw matlab files?\n",
    "SAVE_FOLDER = \"../Data/Preped_Data/\"  # where do you want to save the .csv files\n",
    "\n",
    "\n",
    "folder_1 = RAW_FOLDER + \"Messdaten_Test_ID_1/\"\n",
    "folder_4 = RAW_FOLDER + \"Messdaten_Test_ID_4b/\"\n",
    "folder_9 = RAW_FOLDER + \"Messdaten_Test_ID_9/\"\n",
    "folder_20 = RAW_FOLDER + \"Messdaten_Test_ID_20/\"\n",
    "folder_21 = RAW_FOLDER + \"Messdaten_Test_ID_21/\"\n",
    "folder_22 = RAW_FOLDER + \"Messdaten_Test_ID_22/\"\n",
    "folder_23 = RAW_FOLDER + \"Messdaten_Test_ID_23/\"\n",
    "folder_24 = RAW_FOLDER + \"Messdaten_Test_ID_24/\"\n",
    "\n",
    "gf.check_folder(SAVE_FOLDER)"
   ]
  },
  {
   "cell_type": "markdown",
   "metadata": {},
   "source": [
    "Since we want to sample the data down, we need to specify the ratio at which the data should be downsampled. In our case we sample the data to one data point per second, therefore resulting in a SAMPLE_RATIO of 1."
   ]
  },
  {
   "cell_type": "code",
   "execution_count": 3,
   "metadata": {},
   "outputs": [],
   "source": [
    "SAMPLE_RATIO = 1 #specify at what rate the date should be downsampled"
   ]
  },
  {
   "cell_type": "markdown",
   "metadata": {},
   "source": [
    "We need to specify at which time, which voltage was applied, because it is not included in this data set. We therefore use either prespecified or analyzed splits in time, where the input voltage changes. In our case, we only use a small array of values (which can be seen in the *prep_exp_1* method). To reach values for every time step in the data frame, we need to fill the data. This is conducted in the following method."
   ]
  },
  {
   "cell_type": "code",
   "execution_count": 4,
   "metadata": {},
   "outputs": [],
   "source": [
    "def fill_data(time_splits, value_splits, df_time):\n",
    "    #initialize empty numpy-arrays\n",
    "    time = np.empty(len(df_time))\n",
    "    values = np.empty(len(df_time))\n",
    "    ix_start = 0\n",
    "\n",
    "    for i in range(len(time_splits)-1):\n",
    "        lower = ceil(time_splits[i]) # find beginning of time frame\n",
    "        upper = ceil(time_splits[i+1]) # find end of time frame\n",
    "        \n",
    "        ix_start = np.argmax(df_time >= lower) #find index where lower timestep is surpassed      \n",
    "        ix_end = np.argmax(df_time > upper) #find index where lower timestep is surpassed      \n",
    "        \n",
    "        v = value_splits[i]\n",
    "        values[ix_start:ix_end] = v\n",
    "    \n",
    "    return values"
   ]
  },
  {
   "cell_type": "markdown",
   "metadata": {},
   "source": [
    "We want to downsample the data frame to the specified sample ratio. The general function is the following function. If there are necessary adaptations, they are described in the relevant experiment."
   ]
  },
  {
   "cell_type": "code",
   "execution_count": 5,
   "metadata": {},
   "outputs": [],
   "source": [
    "def downsample_dataframe(data_full):\n",
    "    df = pd.DataFrame()\n",
    "    #determine sample size depending on duration of experiment and sample ratio (specified above)\n",
    "    sample_size = ceil(data_full['time'][len(data_full)-1] * SAMPLE_RATIO)\n",
    "\n",
    "    for col in data_full.columns:\n",
    "        df[col] = pp.downsample_data(data_full['time'], data_full[col], sample_size)\n",
    "\n",
    "    return df"
   ]
  },
  {
   "cell_type": "markdown",
   "metadata": {},
   "source": [
    "In the data the motor and cool-down phase are often included. This can yield insufficient results. Therefore, they are excluded and the data frame is shortened."
   ]
  },
  {
   "cell_type": "code",
   "execution_count": 6,
   "metadata": {},
   "outputs": [],
   "source": [
    "def shorten_data_frame(df, cut_start, cut_end):\n",
    "    return df[cut_start:cut_end]"
   ]
  },
  {
   "cell_type": "markdown",
   "metadata": {},
   "source": [
    "We can use the structure to call one function to conduct both methods."
   ]
  },
  {
   "cell_type": "code",
   "execution_count": 7,
   "metadata": {},
   "outputs": [],
   "source": [
    "def downsample_and_shorten_files(exp_full, name, cut_start = 0, cut_end = 0):\n",
    "    exp = downsample_dataframe(exp_full)\n",
    "    exp.to_csv(SAVE_FOLDER + name + \".csv\",\n",
    "                    index = False, sep = \"|\", encoding='utf-8')\n",
    "    \n",
    "    if cut_end == 0:\n",
    "        cut_end = len(exp)\n",
    "    \n",
    "    exp_short = shorten_data_frame(exp, cut_start, cut_end)\n",
    "    exp_short.to_csv(SAVE_FOLDER + name + \"_short.csv\",\n",
    "                    index = False, sep = \"|\", encoding='utf-8')"
   ]
  },
  {
   "cell_type": "markdown",
   "metadata": {},
   "source": [
    "We have a method which can determine, which experiment should be reduced. This can reduce the runtime and can differ between an initial run and later runs. Especially when new data is available, only the new preperations can be executed."
   ]
  },
  {
   "cell_type": "code",
   "execution_count": 8,
   "metadata": {},
   "outputs": [],
   "source": [
    "def prepare_experiment(exp1 = False, exp4 = False, exp9 = False,\n",
    "                       exp20 = False, exp21 = False, exp22 = False,\n",
    "                      exp23 = False, exp24 = False):\n",
    "    if exp1:\n",
    "        finish_exp_1()\n",
    "    if exp4:\n",
    "        finish_exp_4()\n",
    "    if exp9:\n",
    "        finish_exp_9()\n",
    "    if exp20:\n",
    "        finish_exp_20()\n",
    "    if exp21:\n",
    "        finish_exp_21()\n",
    "    if exp22:\n",
    "        finish_exp_22()\n",
    "    if exp23:\n",
    "        finish_exp_23()\n",
    "    if exp24:\n",
    "        finish_exp_24()"
   ]
  },
  {
   "cell_type": "markdown",
   "metadata": {},
   "source": [
    "## Preperation of experiment 1 (100-30-100-30)\n",
    "\n",
    "First we prepare the data of experiment 1 which has two steps (100-30-100-30). We first load the respective files from the folder and then apply neccessary modifications."
   ]
  },
  {
   "cell_type": "code",
   "execution_count": 9,
   "metadata": {},
   "outputs": [],
   "source": [
    "def load_exp_1(foldername):\n",
    "    data = {}\n",
    "    \n",
    "    # Our .mat-files are called that way for this experiment, please change to your application\n",
    "    mat_raw_files = ['n_soll.mat', 'P_el_rms.mat', 'P_th.mat', 't_el_rms.mat', 't_nsoll.mat', 't_th.mat']\n",
    "    \n",
    "    for file in mat_raw_files:\n",
    "        path = os.path.join(foldername, file)\n",
    "        mat_file = loadmat(path)\n",
    "        search = file[:-4]\n",
    "        switcher = { #switcher is neccessary since files and matlab headers are not identical\n",
    "            'n_soll': 'n_soll',\n",
    "            'P_el_rms': 'P_elrms',\n",
    "            'P_th': 'P_th',\n",
    "            't_el_rms': 't_el_mean',\n",
    "            't_nsoll': 't_2A_ela',\n",
    "            't_th': 't_1B_th'\n",
    "        }\n",
    "        data[search] = mat_file[switcher.get(search)]\n",
    "    return data"
   ]
  },
  {
   "cell_type": "code",
   "execution_count": 10,
   "metadata": {},
   "outputs": [],
   "source": [
    "raw_exp_1 = load_exp_1(folder_1)"
   ]
  },
  {
   "cell_type": "markdown",
   "metadata": {},
   "source": [
    "According to our analysis the experiment consists of 4 different phases, each with following durations:<br/>\n",
    "0% -> 100%: 60 minutes (3600 secs -> change after 3605)<br/>\n",
    "100% -> 30%: 36,75 minutes (2200 secs -> change after 5811)<br/>\n",
    "30% -> 100%: 42 minutes (2500 secs -> change after 8429)<br/>\n",
    "100% -> 30% 50 minutes (3000 secs -> change after 11294)<br/>\n",
    "30% -> 0%: 11,5 minutes (690 secs -> ends at 11981)"
   ]
  },
  {
   "cell_type": "code",
   "execution_count": 11,
   "metadata": {},
   "outputs": [],
   "source": [
    "def prep_raw_exp_1(data):\n",
    "    df = pd.DataFrame()\n",
    "    \n",
    "    df['time'] = data['t_nsoll'][0][::1000][:-58]\n",
    "    df['spinning_soll'] = data['n_soll'][:,0][::1000][:-58]\n",
    "    df['el_power'] = data['P_el_rms'][0][:-51]\n",
    "    df['th_power'] = data['P_th'][0][::10]\n",
    "    \n",
    "    time_splits = [0,1,3605,5811,8429,11981]\n",
    "    voltage_splits = [0, 10, 3,10,3,0]\n",
    "    \n",
    "    #include length for matching lengths\n",
    "    time_splits.append(len(df['time']))\n",
    "    voltage_splits.append(0)\n",
    "    \n",
    "    df['input_voltage'] = fill_data(time_splits, voltage_splits, df['time'])\n",
    "    \n",
    "    return df"
   ]
  },
  {
   "cell_type": "code",
   "execution_count": 12,
   "metadata": {
    "scrolled": true
   },
   "outputs": [],
   "source": [
    "def finish_exp_1():\n",
    "    exp_1_full = prep_raw_exp_1(raw_exp_1)\n",
    "    exp_1_full.to_csv(SAVE_FOLDER + \"experiment_1_raw.csv\",\n",
    "                    index = False, sep = \"|\", encoding='utf-8')\n",
    "    downsample_and_shorten_files(exp_1_full, \"experiment_1\", 800, -1250)\n",
    "    print('Experiment 1 is preprocessed.')"
   ]
  },
  {
   "cell_type": "markdown",
   "metadata": {},
   "source": [
    "## Preparation of Experiment 4 (30-50-30-75-30-100-30-100-30)\n",
    "\n",
    "The next experiment we prepare is experiment 4, in our case called the *Stufenexperiment* (30-50-30-75-30-100-30-100). We conduct the same steps as for experiment 1 in preparation, downsampling and shortening."
   ]
  },
  {
   "cell_type": "code",
   "execution_count": 13,
   "metadata": {},
   "outputs": [],
   "source": [
    "def prep_raw_exp_4():\n",
    "    df_raw = pd.DataFrame()\n",
    "    \n",
    "    #load matlab-files with data from the relevant folder\n",
    "    mat_raw_files_4 = (file for file in os.listdir(folder_4) if file[-4:] == '.mat' and \"daten_Test_\" in file)\n",
    "    raw_exp_4 = pp.open_raw_mat_files(mat_raw_files_4, folder_4)\n",
    "\n",
    "    \n",
    "    #split the returned data in the two starting files\n",
    "    df_spin = raw_exp_4['Drehzahldaten_Test_ID_4b']\n",
    "    df_power = raw_exp_4['Leistungdaten_Test_ID_4b']\n",
    "    \n",
    "    df_raw['time'] = df_power['t_1B_el_neu']\n",
    "    df_raw['el_power'] = df_power['P_el_rms']\n",
    "    df_raw['th_power'] = df_power['P_th'][::2]\n",
    "    \n",
    "    df_raw['spinning_soll'] = fill_data(df_spin['t_nsoll_stil'], df_spin['n_4b_soll'], df_raw['time'])\n",
    "    df_raw['input_voltage'] = fill_data(df_spin['t_nsoll_stil'], df_spin['sw_nsoll_stil'], df_raw['time'])\n",
    "    \n",
    "    return df_raw"
   ]
  },
  {
   "cell_type": "code",
   "execution_count": 14,
   "metadata": {
    "scrolled": true
   },
   "outputs": [],
   "source": [
    "def finish_exp_4():\n",
    "    exp_4_full = prep_raw_exp_4()\n",
    "    exp_4_full.to_csv(SAVE_FOLDER + \"experiment_4_raw.csv\",\n",
    "                    index = False, sep = \"|\", encoding='utf-8')\n",
    "    downsample_and_shorten_files(exp_4_full, \"experiment_4\", 750, 10545)\n",
    "    print('Experiment 4 is preprocessed.')"
   ]
  },
  {
   "cell_type": "markdown",
   "metadata": {},
   "source": [
    "## Preparation of Experiment 9 (Haushaltsexperiment)\n",
    "\n",
    "The next experiment we prepare is experiment 9, in our case called the *Haushaltsexperiment*. We conduct the same steps as for experiment 1 in preparation, downsampling and shortening."
   ]
  },
  {
   "cell_type": "code",
   "execution_count": 15,
   "metadata": {},
   "outputs": [],
   "source": [
    "def prep_raw_exp_9():\n",
    "    df_raw = pd.DataFrame()\n",
    "    \n",
    "    #load matlab-files with data from the relevant folder\n",
    "    mat_raw_files_9 = (file for file in os.listdir(folder_9) if file[-4:] == '.mat' and \"daten_Test_\" in file)\n",
    "    raw_exp_9 = pp.open_raw_mat_files(mat_raw_files_9, folder_9)\n",
    "    \n",
    "    #split the returned data in the two starting files\n",
    "    df_spin = raw_exp_9['Drehzahldaten_Test_ID_9']\n",
    "    df_power = raw_exp_9['Leistungdaten_Test_ID_9']\n",
    "    \n",
    "    df_raw['time'] = df_spin['t_n']\n",
    "    df_raw['el_power'] = df_power['P_el_rms']\n",
    "    \n",
    "    df_raw['th_power'] = fill_data(df_power['t_n_th'], df_power['P_th_mean'], df_raw['time'])    \n",
    "    df_raw['spinning_soll'] = fill_data(df_spin['t_n'], df_spin['n_soll'], df_raw['time'])\n",
    "    df_raw['input_voltage'] = fill_data(df_spin['t_n'], df_spin['u_ary'], df_raw['time'])\n",
    "    \n",
    "    return df_raw"
   ]
  },
  {
   "cell_type": "code",
   "execution_count": 16,
   "metadata": {
    "scrolled": true
   },
   "outputs": [],
   "source": [
    "def finish_exp_9():\n",
    "    exp_9_full = prep_raw_exp_9()\n",
    "    exp_9_full.to_csv(SAVE_FOLDER + \"experiment_9_raw.csv\",\n",
    "                    index = False, sep = \"|\", encoding='utf-8')\n",
    "    downsample_and_shorten_files(exp_9_full, \"experiment_9\", 818, -400)\n",
    "    print('Experiment 9 is preprocessed.')"
   ]
  },
  {
   "cell_type": "markdown",
   "metadata": {},
   "source": [
    "## Preparation of Experiment 20 (30-50-75-100)\n",
    "\n",
    "The next experiment we prepare is experiment 20, in our case called the *Stufenexperiment*. The difference to experiment 4 is that the input is now fixed and clean. We conduct the same steps as for experiment 1 in preparation, downsampling and shortening.\n",
    "\n",
    "The preparation step is the same for all Experiments through 20 to 24 so they are summarized in one method."
   ]
  },
  {
   "cell_type": "code",
   "execution_count": 17,
   "metadata": {},
   "outputs": [],
   "source": [
    "def read_lastprofil(folder, time):\n",
    "    lastprofil = pd.read_csv(folder + 'Lastprofil.csv', delimiter= ',', header = None)\n",
    "    time_splits = np.array(lastprofil[0])\n",
    "    value_splits = np.array(lastprofil[1])\n",
    "    \n",
    "    return fill_data(time_splits, value_splits, time)"
   ]
  },
  {
   "cell_type": "code",
   "execution_count": 18,
   "metadata": {},
   "outputs": [],
   "source": [
    "def prep_raw_exp_20_24(raw_exp, folder):\n",
    "    df_raw = pd.DataFrame()\n",
    "    \n",
    "    min_length = min(len(raw_exp['t_nreg']['t_nreg']), len(raw_exp['t_Nrms']['t_Nrms']))\n",
    "    \n",
    "    df_raw['time'] = raw_exp['t_Nrms']['t_Nrms'][:min_length]\n",
    "    df_raw['el_power'] = raw_exp['P_Nel']['P_Nel'][:min_length]\n",
    "    df_raw['th_power'] = raw_exp['P_th']['P_th'][:min_length]\n",
    "    df_raw['spinning_ist'] = raw_exp['n_reg']['n_reg'][:min_length]\n",
    "    \n",
    "    df_raw['input_voltage'] = read_lastprofil(folder, df_raw['time'])\n",
    "    \n",
    "    #exclude areas where measurements are false\n",
    "    window = 100\n",
    "    delta = 50\n",
    "    \n",
    "    #delete cells, where value is far from rolling mean value\n",
    "    df_raw['roll'] = 0\n",
    "    df_raw['roll'][window:] = df_raw.rolling(window).mean()['el_power'][window:]\n",
    "    df_raw['diff_to_roll'] = abs(df_raw['el_power'] - df_raw['roll'])\n",
    "    df_raw = df_raw[df_raw['diff_to_roll'] < delta]\n",
    "    \n",
    "    df_raw = df_raw.drop(['roll', 'diff_to_roll'], axis = 1)\n",
    "\n",
    "    return df_raw"
   ]
  },
  {
   "cell_type": "code",
   "execution_count": 19,
   "metadata": {
    "scrolled": true
   },
   "outputs": [],
   "source": [
    "def finish_exp_20():\n",
    "    #load matlab-files with data from the relevant folder\n",
    "    heads = ['P_th', 'P_Nel', 't_Nrms', 'n_reg', 't_nreg']\n",
    "    mat_raw_files_20 = (file + '.mat' for file in heads)\n",
    "    raw_exp_20 = pp.open_raw_mat_files(mat_raw_files_20, folder_20)\n",
    "    \n",
    "    exp_20_full = prep_raw_exp_20_24(raw_exp_20, folder_20)\n",
    "    exp_20_full.to_csv(SAVE_FOLDER + \"experiment_20_raw.csv\",\n",
    "                    index = False, sep = \"|\", encoding='utf-8')\n",
    "    downsample_and_shorten_files(exp_20_full, \"experiment_20\", 785, 7280)\n",
    "    print('Experiment 20 is preprocessed.')"
   ]
  },
  {
   "cell_type": "markdown",
   "metadata": {},
   "source": [
    "## Preparation of Experiment 21 (30-50-75-100)\n",
    "\n",
    "The next experiment we prepare is experiment 21, in our case called the *Stufenexperiment*. The difference to experiment 4 is that the input is now fixed and clean. This is a doubling of experiment 20 to have more reliable data. We conduct the same steps as for experiment 1 in preparation, downsampling and shortening."
   ]
  },
  {
   "cell_type": "code",
   "execution_count": 20,
   "metadata": {
    "scrolled": true
   },
   "outputs": [],
   "source": [
    "def finish_exp_21():\n",
    "        #load matlab-files with data from the relevant folder\n",
    "    heads = ['P_th', 'P_Nel', 't_Nrms', 'n_reg', 't_nreg']\n",
    "    mat_raw_files_21 = (file + '.mat' for file in heads)\n",
    "    raw_exp_21 = pp.open_raw_mat_files(mat_raw_files_21, folder_21)\n",
    "    \n",
    "    exp_21_full = prep_raw_exp_20_24(raw_exp_21, folder_21)\n",
    "    exp_21_full.to_csv(SAVE_FOLDER + \"experiment_21_raw.csv\",\n",
    "                    index = False, sep = \"|\", encoding='utf-8')\n",
    "    downsample_and_shorten_files(exp_21_full, \"experiment_21\", 785, 7280)\n",
    "    print('Experiment 21 is preprocessed.')"
   ]
  },
  {
   "cell_type": "markdown",
   "metadata": {},
   "source": [
    "## Preparation of Experiment 22 (Sinus-Form)\n",
    "\n",
    "The next experiment we prepare is experiment 22, in our case called the *Sinusexperiment*. We conduct the same steps as for experiment 1 in preparation, downsampling and shortening."
   ]
  },
  {
   "cell_type": "code",
   "execution_count": 21,
   "metadata": {
    "scrolled": true
   },
   "outputs": [],
   "source": [
    "def finish_exp_22():\n",
    "        #load matlab-files with data from the relevant folder\n",
    "    heads = ['P_th', 'P_Nel', 't_Nrms', 'n_reg', 't_nreg']\n",
    "    mat_raw_files_22 = (file + '.mat' for file in heads)\n",
    "    raw_exp_22 = pp.open_raw_mat_files(mat_raw_files_22, folder_22)\n",
    "    \n",
    "    exp_22_full = prep_raw_exp_20_24(raw_exp_22, folder_22)\n",
    "    exp_22_full.to_csv(SAVE_FOLDER + \"experiment_22_raw.csv\",\n",
    "                    index = False, sep = \"|\", encoding='utf-8')\n",
    "    downsample_and_shorten_files(exp_22_full, \"experiment_22\", 795, 9285)\n",
    "    print('Experiment 22 is preprocessed.')"
   ]
  },
  {
   "cell_type": "markdown",
   "metadata": {},
   "source": [
    "## Preparation of Experiment 23 (Sägezahn-Experiment)\n",
    "\n",
    "The next experiment we prepare is experiment 23, in our case called the *Sägezahnexperiment*. We conduct the same steps as for experiment 1 in preparation, downsampling and shortening."
   ]
  },
  {
   "cell_type": "code",
   "execution_count": 22,
   "metadata": {
    "scrolled": true
   },
   "outputs": [],
   "source": [
    "def finish_exp_23():\n",
    "        #load matlab-files with data from the relevant folder\n",
    "    heads = ['P_th', 'P_Nel', 't_Nrms', 'n_reg', 't_nreg']\n",
    "    mat_raw_files_23 = (file + '.mat' for file in heads)\n",
    "    raw_exp_23 = pp.open_raw_mat_files(mat_raw_files_23, folder_23)\n",
    "    \n",
    "    exp_23_full = prep_raw_exp_20_24(raw_exp_23, folder_23)\n",
    "    exp_23_full.to_csv(SAVE_FOLDER + \"experiment_23_raw.csv\",\n",
    "                    index = False, sep = \"|\", encoding='utf-8')\n",
    "    downsample_and_shorten_files(exp_23_full, \"experiment_23\", 750, 9938)\n",
    "    print('Experiment 23 is preprocessed.')"
   ]
  },
  {
   "cell_type": "markdown",
   "metadata": {},
   "source": [
    "## Preparation of Experiment 24 (Dreieck-Experiment)\n",
    "\n",
    "The next experiment we prepare is experiment 24, in our case called the *Dreieckexperiment*. We conduct the same steps as for experiment 1 in preparation, downsampling and shortening."
   ]
  },
  {
   "cell_type": "code",
   "execution_count": 23,
   "metadata": {
    "scrolled": true
   },
   "outputs": [],
   "source": [
    "def finish_exp_24():\n",
    "        #load matlab-files with data from the relevant folder\n",
    "    heads = ['P_th', 'P_Nel', 't_Nrms', 'n_reg', 't_nreg']\n",
    "    mat_raw_files_24 = (file + '.mat' for file in heads)\n",
    "    raw_exp_24 = pp.open_raw_mat_files(mat_raw_files_24, folder_24)\n",
    "    \n",
    "    exp_24_full = prep_raw_exp_20_24(raw_exp_24, folder_24)\n",
    "    exp_24_full.to_csv(SAVE_FOLDER + \"experiment_24_raw.csv\",\n",
    "                    index = False, sep = \"|\", encoding='utf-8')\n",
    "    downsample_and_shorten_files(exp_24_full, \"experiment_24\", 760, 9783)\n",
    "    print('Experiment 24 is preprocessed.')"
   ]
  },
  {
   "cell_type": "code",
   "execution_count": 24,
   "metadata": {},
   "outputs": [
    {
     "name": "stdout",
     "output_type": "stream",
     "text": [
      "Experiment 1 is preprocessed.\n",
      "Experiment 4 is preprocessed.\n",
      "Experiment 9 is preprocessed.\n"
     ]
    },
    {
     "name": "stderr",
     "output_type": "stream",
     "text": [
      "<ipython-input-18-512d3e021d77>:19: SettingWithCopyWarning: \n",
      "A value is trying to be set on a copy of a slice from a DataFrame\n",
      "\n",
      "See the caveats in the documentation: https://pandas.pydata.org/pandas-docs/stable/user_guide/indexing.html#returning-a-view-versus-a-copy\n",
      "  df_raw['roll'][window:] = df_raw.rolling(window).mean()['el_power'][window:]\n"
     ]
    },
    {
     "name": "stdout",
     "output_type": "stream",
     "text": [
      "Experiment 20 is preprocessed.\n",
      "Experiment 21 is preprocessed.\n",
      "Experiment 22 is preprocessed.\n",
      "Experiment 23 is preprocessed.\n",
      "Experiment 24 is preprocessed.\n"
     ]
    }
   ],
   "source": [
    "prepare_experiment(exp1 = True,\n",
    "                   exp4 = True,\n",
    "                   exp9 = True,\n",
    "                   exp20 = True,\n",
    "                   exp21 = True,\n",
    "                   exp22 = True,\n",
    "                   exp23 = True,\n",
    "                   exp24 = True)"
   ]
  },
  {
   "cell_type": "code",
   "execution_count": null,
   "metadata": {},
   "outputs": [],
   "source": []
  }
 ],
 "metadata": {
  "kernelspec": {
   "display_name": "Python 3",
   "language": "python",
   "name": "python3"
  },
  "language_info": {
   "codemirror_mode": {
    "name": "ipython",
    "version": 3
   },
   "file_extension": ".py",
   "mimetype": "text/x-python",
   "name": "python",
   "nbconvert_exporter": "python",
   "pygments_lexer": "ipython3",
   "version": "3.8.3"
  }
 },
 "nbformat": 4,
 "nbformat_minor": 4
}
