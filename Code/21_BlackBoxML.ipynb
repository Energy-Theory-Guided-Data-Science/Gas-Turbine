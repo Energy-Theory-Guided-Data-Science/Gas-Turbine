{
 "cells": [
  {
   "cell_type": "code",
   "execution_count": 45,
   "metadata": {},
   "outputs": [],
   "source": [
    "import Preprocessing as pp\n",
    "import pandas as pd\n",
    "import matplotlib.pyplot as plt\n",
    "import numpy as np\n",
    "from sklearn import metrics\n",
    "from keras.models import Sequential\n",
    "from keras.layers import Dense\n",
    "from keras.layers import LSTM"
   ]
  },
  {
   "cell_type": "code",
   "execution_count": 2,
   "metadata": {},
   "outputs": [
    {
     "name": "stdout",
     "output_type": "stream",
     "text": [
      "Folder already exists.\n",
      "Folder already exists.\n",
      "Folder already exists.\n"
     ]
    }
   ],
   "source": [
    "temp_data_folder = \"../Data/Temp_Data/\"\n",
    "image_path = \"../Images/\"\n",
    "image_subfolder = \"Proposal/\"\n",
    "image_folder = image_path + image_subfolder\n",
    "\n",
    "pp.checkFolder(temp_data_folder)\n",
    "pp.checkFolder(image_path)\n",
    "pp.checkFolder(image_folder)"
   ]
  },
  {
   "cell_type": "code",
   "execution_count": 3,
   "metadata": {},
   "outputs": [],
   "source": [
    "df_1 = pp.openCSVFile('experiment_1_short.csv', temp_data_folder)\n",
    "df_4b = pp.openCSVFile('experiment_4b_short.csv', temp_data_folder)\n",
    "df_9 = pp.openCSVFile('experiment_9_short.csv', temp_data_folder)"
   ]
  },
  {
   "cell_type": "code",
   "execution_count": 50,
   "metadata": {},
   "outputs": [],
   "source": [
    "approaches = ['LinReg']"
   ]
  },
  {
   "cell_type": "code",
   "execution_count": 5,
   "metadata": {},
   "outputs": [],
   "source": [
    "#colors\n",
    "kit_green = '#009682'\n",
    "kit_blue = '#4664AA'\n",
    "kit_orange = '#DF9B1B'"
   ]
  },
  {
   "cell_type": "code",
   "execution_count": 6,
   "metadata": {},
   "outputs": [],
   "source": [
    "from sklearn import linear_model, gaussian_process, neural_network"
   ]
  },
  {
   "cell_type": "code",
   "execution_count": 51,
   "metadata": {},
   "outputs": [],
   "source": [
    "def mlswitch(argument, j):\n",
    "    rs = np.random.RandomState(j)\n",
    "    switcher = {\n",
    "        'LinReg' : linear_model.LinearRegression(),\n",
    "        'Ridge' : linear_model.Ridge(random_state=rs),\n",
    "        'SGD' : linear_model.SGDRegressor(random_state=rs),\n",
    "        'GPR' : gaussian_process.GaussianProcessRegressor(random_state=rs),\n",
    "        'NNs' : neural_network.MLPRegressor(hidden_layer_sizes= (100,100,50,50,30,30,), max_iter = 500, random_state=rs)\n",
    "    }\n",
    "    return switcher.get(argument, 'Invalid')"
   ]
  },
  {
   "cell_type": "code",
   "execution_count": 8,
   "metadata": {},
   "outputs": [],
   "source": [
    "from statistics import mean\n",
    "import timeit\n",
    "\n",
    "def compareMLApproaches(approaches, inputs):\n",
    "    df_compared = pd.DataFrame()\n",
    "    df_compared['approach'] = approaches\n",
    "    df_validation_data = pd.DataFrame()\n",
    "    for a in inputs:\n",
    "        name, x_train, y_train, x_test, y_test = a\n",
    "        df_compared[name + '_rms'] = 0\n",
    "        df_compared[name + '_r2'] = 0\n",
    "        df_compared[name + '_time'] = 0\n",
    "        time_all_ap, rms_all_ap, r2_all_ap = [],[], []\n",
    "#         fig, axs = plt.subplots(2,2, figsize=(20,20))\n",
    "#         axs = axs.ravel()\n",
    "        for i in range(len(approaches)):\n",
    "            all_rms, all_r2, all_times, predictions = [], [], [], []\n",
    "            for j in range(5):\n",
    "                start = timeit.default_timer()\n",
    "                model = mlswitch(approaches[i], j)\n",
    "                model.fit(x_train, y_train)\n",
    "                stop= timeit.default_timer()\n",
    "                time = stop - start\n",
    "                pred = model.predict(x_test)\n",
    "                predictions.append(pred)\n",
    "                rms = metrics.mean_squared_error(y_test, pred, squared=False)\n",
    "                r2 = metrics.r2_score(y_test, pred)\n",
    "                all_times.append(time)\n",
    "                all_rms.append(rms)\n",
    "                all_r2.append(r2)\n",
    "            rms_all_ap.append(all_rms)\n",
    "            r2_all_ap.append(all_r2)\n",
    "            time_all_ap.append(all_times)\n",
    "            df_compared.loc[i, name + '_rms'] = mean(all_rms)\n",
    "            df_compared.loc[i, name + '_r2'] = mean(all_r2)\n",
    "            df_compared.loc[i, name + '_time'] = mean(all_times)\n",
    "            df_validation_data['predictions_' + name + \"_\" + approaches[i]] = np.mean(predictions, axis = 0)\n",
    "#         axs[0].boxplot(rms_all_ap)\n",
    "#         axs[0].set_title('Comparison RMS between approaches (50 runs)')\n",
    "#         axs[0].set_xlabel(approaches)\n",
    "#         axs[0].set_ylabel('RMS')\n",
    "#         axs[1].boxplot(r2_all_ap)\n",
    "#         axs[1].set_title('Comparison R^2 between approaches (50 runs)')\n",
    "#         axs[1].set_xlabel(approaches)\n",
    "#         axs[1].set_ylabel('R^2')\n",
    "#         axs[2].boxplot(time_all_ap)\n",
    "#         axs[2].set_title('Comparison time between approaches (50 runs)')\n",
    "#         axs[2].set_xlabel(approaches)\n",
    "#         axs[2].set_ylabel('Time')\n",
    "    return df_compared, df_validation_data"
   ]
  },
  {
   "cell_type": "markdown",
   "metadata": {},
   "source": [
    "## Experiment 9 (Haushalt) "
   ]
  },
  {
   "cell_type": "markdown",
   "metadata": {},
   "source": [
    "### electrical output "
   ]
  },
  {
   "cell_type": "code",
   "execution_count": 23,
   "metadata": {},
   "outputs": [],
   "source": [
    "comparison_el_9, data_el_9 = compareMLApproaches(approaches, [['el_power', df_4b[['input_voltage']], df_4b['el_power'], df_9[['input_voltage']], df_9['el_power']]])"
   ]
  },
  {
   "cell_type": "code",
   "execution_count": 24,
   "metadata": {},
   "outputs": [
    {
     "data": {
      "text/html": [
       "<div>\n",
       "<style scoped>\n",
       "    .dataframe tbody tr th:only-of-type {\n",
       "        vertical-align: middle;\n",
       "    }\n",
       "\n",
       "    .dataframe tbody tr th {\n",
       "        vertical-align: top;\n",
       "    }\n",
       "\n",
       "    .dataframe thead th {\n",
       "        text-align: right;\n",
       "    }\n",
       "</style>\n",
       "<table border=\"1\" class=\"dataframe\">\n",
       "  <thead>\n",
       "    <tr style=\"text-align: right;\">\n",
       "      <th></th>\n",
       "      <th>approach</th>\n",
       "      <th>el_power_rms</th>\n",
       "      <th>el_power_r2</th>\n",
       "      <th>el_power_time</th>\n",
       "    </tr>\n",
       "  </thead>\n",
       "  <tbody>\n",
       "    <tr>\n",
       "      <th>0</th>\n",
       "      <td>LinReg</td>\n",
       "      <td>168.249816</td>\n",
       "      <td>0.826690</td>\n",
       "      <td>0.002112</td>\n",
       "    </tr>\n",
       "    <tr>\n",
       "      <th>1</th>\n",
       "      <td>NNs</td>\n",
       "      <td>140.609491</td>\n",
       "      <td>0.877262</td>\n",
       "      <td>9.975206</td>\n",
       "    </tr>\n",
       "  </tbody>\n",
       "</table>\n",
       "</div>"
      ],
      "text/plain": [
       "  approach  el_power_rms  el_power_r2  el_power_time\n",
       "0   LinReg    168.249816     0.826690       0.002112\n",
       "1      NNs    140.609491     0.877262       9.975206"
      ]
     },
     "execution_count": 24,
     "metadata": {},
     "output_type": "execute_result"
    }
   ],
   "source": [
    "comparison_el_9"
   ]
  },
  {
   "cell_type": "code",
   "execution_count": 25,
   "metadata": {
    "scrolled": false
   },
   "outputs": [
    {
     "data": {
      "image/png": "[encoded data removed]",
      "text/plain": [
       "<Figure size 432x288 with 1 Axes>"
      ]
     },
     "metadata": {
      "needs_background": "light"
     },
     "output_type": "display_data"
    }
   ],
   "source": [
    "plt.plot(df_9['time'], df_9['el_power'], color = kit_blue, label = 'true')\n",
    "plt.plot(df_9['time'], data_el_9['predictions_el_power_NNs'], color = kit_green, label = 'NNs')\n",
    "plt.plot(df_9['time'], data_el_9['predictions_el_power_LinReg'], color = kit_orange, label = 'LinReg')\n",
    "plt.legend()\n",
    "plt.ylabel('Electrical power [W]')\n",
    "plt.ylim([1000, 2700])\n",
    "plt.xlabel('Time [s]')\n",
    "plt.title('Comparison of ML-Modelstrained on input voltage to predict electrical power')\n",
    "\n",
    "plt.savefig(image_folder + 'ex9_ML_volt_time_electric.svg')\n",
    "plt.savefig(image_folder + 'ex9_ML_volt_time_electric.png')\n",
    "plt.show()"
   ]
  },
  {
   "cell_type": "markdown",
   "metadata": {},
   "source": [
    "### thermal output "
   ]
  },
  {
   "cell_type": "code",
   "execution_count": 26,
   "metadata": {},
   "outputs": [],
   "source": [
    "comparison_th_9, data_th_9 = compareMLApproaches(approaches, [['th_power', df_4b[['input_voltage']], df_4b['th_power'], df_9[['input_voltage']], df_9['th_power']]])"
   ]
  },
  {
   "cell_type": "code",
   "execution_count": 27,
   "metadata": {},
   "outputs": [
    {
     "data": {
      "text/html": [
       "<div>\n",
       "<style scoped>\n",
       "    .dataframe tbody tr th:only-of-type {\n",
       "        vertical-align: middle;\n",
       "    }\n",
       "\n",
       "    .dataframe tbody tr th {\n",
       "        vertical-align: top;\n",
       "    }\n",
       "\n",
       "    .dataframe thead th {\n",
       "        text-align: right;\n",
       "    }\n",
       "</style>\n",
       "<table border=\"1\" class=\"dataframe\">\n",
       "  <thead>\n",
       "    <tr style=\"text-align: right;\">\n",
       "      <th></th>\n",
       "      <th>approach</th>\n",
       "      <th>th_power_rms</th>\n",
       "      <th>th_power_r2</th>\n",
       "      <th>th_power_time</th>\n",
       "    </tr>\n",
       "  </thead>\n",
       "  <tbody>\n",
       "    <tr>\n",
       "      <th>0</th>\n",
       "      <td>LinReg</td>\n",
       "      <td>1076.335975</td>\n",
       "      <td>0.595224</td>\n",
       "      <td>0.003783</td>\n",
       "    </tr>\n",
       "    <tr>\n",
       "      <th>1</th>\n",
       "      <td>NNs</td>\n",
       "      <td>1079.232181</td>\n",
       "      <td>0.592937</td>\n",
       "      <td>11.381802</td>\n",
       "    </tr>\n",
       "  </tbody>\n",
       "</table>\n",
       "</div>"
      ],
      "text/plain": [
       "  approach  th_power_rms  th_power_r2  th_power_time\n",
       "0   LinReg   1076.335975     0.595224       0.003783\n",
       "1      NNs   1079.232181     0.592937      11.381802"
      ]
     },
     "execution_count": 27,
     "metadata": {},
     "output_type": "execute_result"
    }
   ],
   "source": [
    "comparison_th_9"
   ]
  },
  {
   "cell_type": "code",
   "execution_count": 28,
   "metadata": {},
   "outputs": [
    {
     "data": {
      "image/png": "[encoded data removed]",
      "text/plain": [
       "<Figure size 432x288 with 1 Axes>"
      ]
     },
     "metadata": {
      "needs_background": "light"
     },
     "output_type": "display_data"
    }
   ],
   "source": [
    "plt.plot(df_9['time'], df_9['th_power'], color = kit_blue, label = 'true')\n",
    "plt.plot(df_9['time'], data_th_9['predictions_th_power_NNs'], color = kit_green, label = 'NNs')\n",
    "plt.plot(df_9['time'], data_th_9['predictions_th_power_LinReg'], color = kit_orange, label = 'LinReg')\n",
    "plt.legend()\n",
    "plt.ylabel('Thermal power [W]')\n",
    "plt.ylim([7500, 20000])\n",
    "plt.xlabel('Time [s]')\n",
    "plt.title('Comparison of ML-Models trained on input voltage to predict thermal power')\n",
    "\n",
    "plt.savefig(image_folder + 'ex9_ML_volt_time_thermal.svg')\n",
    "plt.savefig(image_folder + 'ex9_ML_volt_time_thermal.png')\n",
    "plt.show()"
   ]
  },
  {
   "cell_type": "markdown",
   "metadata": {},
   "source": [
    "## Experiment 1 (100-30-100-30) "
   ]
  },
  {
   "cell_type": "markdown",
   "metadata": {},
   "source": [
    "### thermal output "
   ]
  },
  {
   "cell_type": "code",
   "execution_count": 29,
   "metadata": {},
   "outputs": [],
   "source": [
    "comparison_th_1, data_th_1 = compareMLApproaches(approaches, [['th_power', df_4b[['input_voltage']], df_4b['th_power'], df_1[['input_voltage']], df_1['th_power']]])"
   ]
  },
  {
   "cell_type": "code",
   "execution_count": 30,
   "metadata": {},
   "outputs": [
    {
     "data": {
      "text/html": [
       "<div>\n",
       "<style scoped>\n",
       "    .dataframe tbody tr th:only-of-type {\n",
       "        vertical-align: middle;\n",
       "    }\n",
       "\n",
       "    .dataframe tbody tr th {\n",
       "        vertical-align: top;\n",
       "    }\n",
       "\n",
       "    .dataframe thead th {\n",
       "        text-align: right;\n",
       "    }\n",
       "</style>\n",
       "<table border=\"1\" class=\"dataframe\">\n",
       "  <thead>\n",
       "    <tr style=\"text-align: right;\">\n",
       "      <th></th>\n",
       "      <th>approach</th>\n",
       "      <th>th_power_rms</th>\n",
       "      <th>th_power_r2</th>\n",
       "      <th>th_power_time</th>\n",
       "    </tr>\n",
       "  </thead>\n",
       "  <tbody>\n",
       "    <tr>\n",
       "      <th>0</th>\n",
       "      <td>LinReg</td>\n",
       "      <td>2175.681165</td>\n",
       "      <td>0.652161</td>\n",
       "      <td>0.003575</td>\n",
       "    </tr>\n",
       "    <tr>\n",
       "      <th>1</th>\n",
       "      <td>NNs</td>\n",
       "      <td>2188.299980</td>\n",
       "      <td>0.648103</td>\n",
       "      <td>11.001358</td>\n",
       "    </tr>\n",
       "  </tbody>\n",
       "</table>\n",
       "</div>"
      ],
      "text/plain": [
       "  approach  th_power_rms  th_power_r2  th_power_time\n",
       "0   LinReg   2175.681165     0.652161       0.003575\n",
       "1      NNs   2188.299980     0.648103      11.001358"
      ]
     },
     "execution_count": 30,
     "metadata": {},
     "output_type": "execute_result"
    }
   ],
   "source": [
    "comparison_th_1"
   ]
  },
  {
   "cell_type": "code",
   "execution_count": null,
   "metadata": {},
   "outputs": [],
   "source": [
    "plt.plot(df_1['time'], df_1['th_power'], color = kit_blue, label = 'true')\n",
    "plt.plot(df_1['time'], data_th_1['predictions_th_power_NNs'], color = kit_green, label = 'NNs')\n",
    "plt.plot(df_1['time'], data_th_1['predictions_th_power_LinReg'], color = kit_orange, label = 'LinReg')\n",
    "plt.legend()\n",
    "plt.ylabel('Thermal power [W]')\n",
    "plt.ylim([3000, 20000])\n",
    "plt.xlabel('Time [s]')\n",
    "plt.title('Comparison of ML-Models on Experiment 1\\ntrained on input voltage and time to predict thermal power')\n",
    "\n",
    "plt.savefig(image_folder + 'ex1_ML_volt_time_thermal.svg')\n",
    "plt.savefig(image_folder + 'ex1_ML_volt_time_thermal.png')\n",
    "plt.show()"
   ]
  },
  {
   "cell_type": "markdown",
   "metadata": {},
   "source": [
    "### electric output "
   ]
  },
  {
   "cell_type": "code",
   "execution_count": 52,
   "metadata": {},
   "outputs": [],
   "source": [
    "comparison_el_1, data_el_1 = compareMLApproaches(approaches, [['el_power', df_4b[['input_voltage']], df_4b['el_power'], df_1[['input_voltage']], df_1['el_power']]])"
   ]
  },
  {
   "cell_type": "code",
   "execution_count": 53,
   "metadata": {
    "scrolled": true
   },
   "outputs": [
    {
     "data": {
      "text/html": [
       "<div>\n",
       "<style scoped>\n",
       "    .dataframe tbody tr th:only-of-type {\n",
       "        vertical-align: middle;\n",
       "    }\n",
       "\n",
       "    .dataframe tbody tr th {\n",
       "        vertical-align: top;\n",
       "    }\n",
       "\n",
       "    .dataframe thead th {\n",
       "        text-align: right;\n",
       "    }\n",
       "</style>\n",
       "<table border=\"1\" class=\"dataframe\">\n",
       "  <thead>\n",
       "    <tr style=\"text-align: right;\">\n",
       "      <th></th>\n",
       "      <th>approach</th>\n",
       "      <th>el_power_rms</th>\n",
       "      <th>el_power_r2</th>\n",
       "      <th>el_power_time</th>\n",
       "    </tr>\n",
       "  </thead>\n",
       "  <tbody>\n",
       "    <tr>\n",
       "      <th>0</th>\n",
       "      <td>LinReg</td>\n",
       "      <td>458.69175</td>\n",
       "      <td>0.793628</td>\n",
       "      <td>0.001871</td>\n",
       "    </tr>\n",
       "  </tbody>\n",
       "</table>\n",
       "</div>"
      ],
      "text/plain": [
       "  approach  el_power_rms  el_power_r2  el_power_time\n",
       "0   LinReg     458.69175     0.793628       0.001871"
      ]
     },
     "execution_count": 53,
     "metadata": {},
     "output_type": "execute_result"
    }
   ],
   "source": [
    "comparison_el_1"
   ]
  },
  {
   "cell_type": "code",
   "execution_count": null,
   "metadata": {},
   "outputs": [],
   "source": [
    "X_test = []\n",
    "for i in range(60, df_1.shape[0]):\n",
    "    X_test.append(df_1[i-60:i, 0])\n",
    "X_test = np.array(X_test)\n",
    "X_test = np.reshape(X_test, (X_test.shape[0], X_test.shape[1], 1))"
   ]
  },
  {
   "cell_type": "code",
   "execution_count": 41,
   "metadata": {
    "scrolled": true
   },
   "outputs": [
    {
     "data": {
      "image/png": "[encoded data removed]",
      "text/plain": [
       "<Figure size 432x288 with 1 Axes>"
      ]
     },
     "metadata": {
      "needs_background": "light"
     },
     "output_type": "display_data"
    }
   ],
   "source": [
    "plt.plot(df_1['time'], df_1['el_power'], color = kit_blue, label = 'true')\n",
    "plt.plot(df_1['time'], data_el_1['predictions_el_power_NNs'], color = kit_green, label = 'NNs')\n",
    "plt.plot(df_1['time'], data_el_1['predictions_el_power_LinReg'], color = kit_orange, label = 'LinReg')\n",
    "plt.legend()\n",
    "plt.ylabel('Electrical power [W]')\n",
    "plt.ylim([500, 3500])\n",
    "plt.xlabel('time [s]')\n",
    "\n",
    "plt.savefig(image_folder + 'ex1_ML_volt_time_electric.svg')\n",
    "plt.savefig(image_folder + 'ex1_ML_volt_time_electric.png')\n",
    "plt.show()"
   ]
  },
  {
   "cell_type": "code",
   "execution_count": null,
   "metadata": {},
   "outputs": [],
   "source": [
    "def measureDifference(data, value_header, approx_header):\n",
    "    R_SQUARED = True\n",
    "    RSME = True\n",
    "    \n",
    "    data = data[data[approx_header].notnull()]\n",
    "    values = data[value_header]\n",
    "    approx = data[approx_header]\n",
    "    \n",
    "    if RSME:\n",
    "        rms = metrics.mean_squared_error(values, approx, squared=False)\n",
    "        print('The RMSE is %5.3f' %rms)\n",
    "    if R_SQUARED:\n",
    "        r2 = metrics.r2_score(values, approx)\n",
    "        print('The R2-score is %5.3f' %r2)"
   ]
  },
  {
   "cell_type": "code",
   "execution_count": null,
   "metadata": {},
   "outputs": [],
   "source": [
    "measureDifference(data_el_1, \"el_power\", \"predictions_el_power_LinReg\")"
   ]
  },
  {
   "cell_type": "code",
   "execution_count": null,
   "metadata": {},
   "outputs": [],
   "source": []
  }
 ],
 "metadata": {
  "kernelspec": {
   "display_name": "Python 3",
   "language": "python",
   "name": "python3"
  },
  "language_info": {
   "codemirror_mode": {
    "name": "ipython",
    "version": 3
   },
   "file_extension": ".py",
   "mimetype": "text/x-python",
   "name": "python",
   "nbconvert_exporter": "python",
   "pygments_lexer": "ipython3",
   "version": "3.8.3"
  }
 },
 "nbformat": 4,
 "nbformat_minor": 4
}
