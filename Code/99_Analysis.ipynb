{
 "cells": [
  {
   "cell_type": "code",
   "execution_count": 60,
   "metadata": {},
   "outputs": [],
   "source": [
    "import pandas as pd\n",
    "import numpy as np\n",
    "import Global_Functions as gf"
   ]
  },
  {
   "cell_type": "code",
   "execution_count": 63,
   "metadata": {},
   "outputs": [],
   "source": [
    "OPEN_FOLDER = '../Images/Loss_function/Unscaled/2021-05-14_11-32_training_20 val_21 128_neurons__50_epochs__lag_60'\n",
    "results = gf.open_CSV_file('results.csv', OPEN_FOLDER)"
   ]
  },
  {
   "cell_type": "code",
   "execution_count": 68,
   "metadata": {},
   "outputs": [],
   "source": [
    "df = pd.DataFrame(index = np.unique(results['tgds']), columns = np.unique(results['diff']))\n",
    "\n",
    "for t in np.unique(results['tgds']):\n",
    "    for d in np.unique(results['diff']):\n",
    "        dummy = results[results['tgds'] == t]\n",
    "        row = dummy[dummy['diff'] == d]\n",
    "        for i in row['rmse']:\n",
    "            vals = i[1:-1].split(', ')\n",
    "            #the following two lines are for misprocessed data\n",
    "#             vals = i[1:-1].split('\\n')\n",
    "#             vals = [x.split(\"  \") for x in vals]\n",
    "#             vals = [x[-1] for x in vals[:-1]]\n",
    "            vals = np.array(vals, dtype = float)\n",
    "            df.at[t,d] = np.mean(vals)"
   ]
  },
  {
   "cell_type": "code",
   "execution_count": 69,
   "metadata": {},
   "outputs": [],
   "source": [
    "df.loc['mean'] = df.mean(axis = 0)"
   ]
  },
  {
   "cell_type": "code",
   "execution_count": 70,
   "metadata": {},
   "outputs": [],
   "source": [
    "df['mean'] = df.mean(axis = 1)"
   ]
  },
  {
   "cell_type": "code",
   "execution_count": 71,
   "metadata": {},
   "outputs": [
    {
     "data": {
      "text/html": [
       "<div>\n",
       "<style scoped>\n",
       "    .dataframe tbody tr th:only-of-type {\n",
       "        vertical-align: middle;\n",
       "    }\n",
       "\n",
       "    .dataframe tbody tr th {\n",
       "        vertical-align: top;\n",
       "    }\n",
       "\n",
       "    .dataframe thead th {\n",
       "        text-align: right;\n",
       "    }\n",
       "</style>\n",
       "<table border=\"1\" class=\"dataframe\">\n",
       "  <thead>\n",
       "    <tr style=\"text-align: right;\">\n",
       "      <th></th>\n",
       "      <th>0.01</th>\n",
       "      <th>0.1</th>\n",
       "      <th>1.0</th>\n",
       "      <th>10.0</th>\n",
       "      <th>100.0</th>\n",
       "      <th>mean</th>\n",
       "    </tr>\n",
       "  </thead>\n",
       "  <tbody>\n",
       "    <tr>\n",
       "      <th>0.01</th>\n",
       "      <td>1674.14</td>\n",
       "      <td>1910.18</td>\n",
       "      <td>2170.72</td>\n",
       "      <td>1781.39</td>\n",
       "      <td>2691.5</td>\n",
       "      <td>2045.586627</td>\n",
       "    </tr>\n",
       "    <tr>\n",
       "      <th>0.1</th>\n",
       "      <td>1859.09</td>\n",
       "      <td>1735.11</td>\n",
       "      <td>1777.56</td>\n",
       "      <td>1810.92</td>\n",
       "      <td>2269.97</td>\n",
       "      <td>1890.531972</td>\n",
       "    </tr>\n",
       "    <tr>\n",
       "      <th>1.0</th>\n",
       "      <td>2091.01</td>\n",
       "      <td>1993.27</td>\n",
       "      <td>1259.59</td>\n",
       "      <td>1840.59</td>\n",
       "      <td>1971.64</td>\n",
       "      <td>1831.218762</td>\n",
       "    </tr>\n",
       "    <tr>\n",
       "      <th>10.0</th>\n",
       "      <td>1879.34</td>\n",
       "      <td>2367.69</td>\n",
       "      <td>1790.05</td>\n",
       "      <td>2173.25</td>\n",
       "      <td>1629.05</td>\n",
       "      <td>1967.872281</td>\n",
       "    </tr>\n",
       "    <tr>\n",
       "      <th>100.0</th>\n",
       "      <td>2227.56</td>\n",
       "      <td>2256.66</td>\n",
       "      <td>2064</td>\n",
       "      <td>1786.31</td>\n",
       "      <td>1951.01</td>\n",
       "      <td>2057.107036</td>\n",
       "    </tr>\n",
       "    <tr>\n",
       "      <th>mean</th>\n",
       "      <td>1946.23</td>\n",
       "      <td>2052.58</td>\n",
       "      <td>1812.38</td>\n",
       "      <td>1878.49</td>\n",
       "      <td>2102.63</td>\n",
       "      <td>1958.463336</td>\n",
       "    </tr>\n",
       "  </tbody>\n",
       "</table>\n",
       "</div>"
      ],
      "text/plain": [
       "          0.01      0.1      1.0     10.0    100.0         mean\n",
       "0.01   1674.14  1910.18  2170.72  1781.39   2691.5  2045.586627\n",
       "0.1    1859.09  1735.11  1777.56  1810.92  2269.97  1890.531972\n",
       "1.0    2091.01  1993.27  1259.59  1840.59  1971.64  1831.218762\n",
       "10.0   1879.34  2367.69  1790.05  2173.25  1629.05  1967.872281\n",
       "100.0  2227.56  2256.66     2064  1786.31  1951.01  2057.107036\n",
       "mean   1946.23  2052.58  1812.38  1878.49  2102.63  1958.463336"
      ]
     },
     "execution_count": 71,
     "metadata": {},
     "output_type": "execute_result"
    }
   ],
   "source": [
    "df"
   ]
  },
  {
   "cell_type": "code",
   "execution_count": null,
   "metadata": {},
   "outputs": [],
   "source": []
  }
 ],
 "metadata": {
  "kernelspec": {
   "display_name": "Python 3",
   "language": "python",
   "name": "python3"
  },
  "language_info": {
   "codemirror_mode": {
    "name": "ipython",
    "version": 3
   },
   "file_extension": ".py",
   "mimetype": "text/x-python",
   "name": "python",
   "nbconvert_exporter": "python",
   "pygments_lexer": "ipython3",
   "version": "3.8.3"
  }
 },
 "nbformat": 4,
 "nbformat_minor": 4
}
