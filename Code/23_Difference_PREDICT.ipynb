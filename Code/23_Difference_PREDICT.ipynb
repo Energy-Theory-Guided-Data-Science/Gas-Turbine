{
 "cells": [
  {
   "cell_type": "markdown",
   "metadata": {},
   "source": [
    "# Use differences as additional output\n",
    "\n",
    "This file is for using the difference as addaitional output. We use the input voltage to predict the electrical power as well as the difference in power. We can predict the curretn difference but we need to take multiple inputs into account for a RNN to work properly.\n",
    "\n",
    "## Preliminaries\n",
    "\n",
    "### Import Libraries"
   ]
  },
  {
   "cell_type": "code",
   "execution_count": 1,
   "metadata": {},
   "outputs": [],
   "source": [
    "# import own libraries\n",
    "import Global_Functions as gf\n",
    "import Neuronal_Networks as nn\n",
    "\n",
    "# import python libraries\n",
    "import pandas as pd\n",
    "import matplotlib.pyplot as plt\n",
    "import numpy as np\n",
    "from sklearn.preprocessing import MinMaxScaler\n",
    "import time\n",
    "timestr = time.strftime(\"%Y-%m-%d_%H-%M_\")\n",
    "\n",
    "# import tensorflow\n",
    "import tensorflow as tf\n",
    "from tensorflow import keras\n",
    "from tensorflow.keras import layers\n",
    "from keras.models import Sequential\n",
    "from keras.callbacks import EarlyStopping"
   ]
  },
  {
   "cell_type": "code",
   "execution_count": 2,
   "metadata": {},
   "outputs": [],
   "source": [
    "np.random.seed(123)"
   ]
  },
  {
   "cell_type": "markdown",
   "metadata": {},
   "source": [
    "### Open files"
   ]
  },
  {
   "cell_type": "code",
   "execution_count": 3,
   "metadata": {},
   "outputs": [],
   "source": [
    "OPEN_FOLDER = '../Data/Preped_Data/'"
   ]
  },
  {
   "cell_type": "code",
   "execution_count": 4,
   "metadata": {},
   "outputs": [],
   "source": [
    "ex_1 = gf.open_CSV_file('experiment_1_short.csv', OPEN_FOLDER)\n",
    "ex_4 = gf.open_CSV_file('experiment_4_short.csv', OPEN_FOLDER)\n",
    "ex_9 = gf.open_CSV_file('experiment_9_short.csv', OPEN_FOLDER)\n",
    "ex_20 = gf.open_CSV_file('experiment_20_short.csv', OPEN_FOLDER)\n",
    "ex_21 = gf.open_CSV_file('experiment_21_short.csv', OPEN_FOLDER)\n",
    "ex_22 = gf.open_CSV_file('experiment_22_short.csv', OPEN_FOLDER)\n",
    "ex_23 = gf.open_CSV_file('experiment_23_short.csv', OPEN_FOLDER)\n",
    "ex_24 = gf.open_CSV_file('experiment_24_short.csv', OPEN_FOLDER)"
   ]
  },
  {
   "cell_type": "code",
   "execution_count": 5,
   "metadata": {},
   "outputs": [],
   "source": [
    "experiments = [ex_1, ex_4, ex_9, ex_20, ex_21, ex_22, ex_23, ex_24]\n",
    "names = ['1', '4', '9', '20', '21','22', '23', '24']"
   ]
  },
  {
   "cell_type": "code",
   "execution_count": 6,
   "metadata": {},
   "outputs": [],
   "source": [
    "#OPEN_SYNTHETIC = 'C:/Users/FlorianLeiser/Documents/Masterarbeit/Data/Synthetic_Data/Without_Noise/Sample_Ratio_1/quadratic_12_34_linear_1'"
   ]
  },
  {
   "cell_type": "code",
   "execution_count": 7,
   "metadata": {},
   "outputs": [],
   "source": [
    "# experiments = gf.load_synthetic(OPEN_SYNTHETIC, length = 50)\n",
    "# names = [str(x+1) for x in range(len(experiments)-1)]\n",
    "# names.append(\"hand\")"
   ]
  },
  {
   "cell_type": "markdown",
   "metadata": {},
   "source": [
    "### Specify parameters"
   ]
  },
  {
   "cell_type": "code",
   "execution_count": 8,
   "metadata": {},
   "outputs": [],
   "source": [
    "NEUR = 128\n",
    "EPOCH = 50\n",
    "LAG = 60\n",
    "DIFFERENCE = \"predict\""
   ]
  },
  {
   "cell_type": "code",
   "execution_count": 9,
   "metadata": {},
   "outputs": [],
   "source": [
    "train = \"20\"\n",
    "val = \"21\"\n",
    "\n",
    "# train_exs = experiments[:30]\n",
    "# ex_train = gf.use_multiple_experiments(train_exs)\n",
    "# ex_val = gf.use_multiple_experiments(experiments[30:40])\n",
    "# ex_test = gf.use_multiple_experiments(experiments[40:50])\n",
    "ex_train = ex_20\n",
    "ex_val = ex_21"
   ]
  },
  {
   "cell_type": "code",
   "execution_count": 10,
   "metadata": {},
   "outputs": [
    {
     "name": "stdout",
     "output_type": "stream",
     "text": [
      "Creation of directory ../Images/Difference/predict/2021-05-14_18-24_training_20 val_21 128_neurons__50_epochs__lag_60/ successful.\n"
     ]
    }
   ],
   "source": [
    "image_path = \"../Images/Difference/\" + str(DIFFERENCE) + \"/\" + timestr\n",
    "specs = \"training_{0} val_{1} {2}_neurons__{3}_epochs__lag_{4}/\" \n",
    "image_folder = image_path + specs.format(train, val, NEUR, EPOCH, LAG)\n",
    "gf.check_folder(image_folder)"
   ]
  },
  {
   "cell_type": "code",
   "execution_count": 11,
   "metadata": {},
   "outputs": [
    {
     "name": "stdout",
     "output_type": "stream",
     "text": [
      "Creation of directory ../Models/Difference/predict/2021-05-14_18-24_training_20 val_21 128_neurons__50_epochs__lag_60/ successful.\n"
     ]
    }
   ],
   "source": [
    "# saving folder for images\n",
    "model_path = \"../Models/Difference/\" + str(DIFFERENCE) + \"/\" + timestr\n",
    "specs = \"training_{0} val_{1} {2}_neurons__{3}_epochs__lag_{4}/\" \n",
    "model_folder = model_path + specs.format(train, val, NEUR, EPOCH, LAG)\n",
    "\n",
    "gf.check_folder(model_folder)"
   ]
  },
  {
   "cell_type": "markdown",
   "metadata": {},
   "source": [
    "## Training the model"
   ]
  },
  {
   "cell_type": "code",
   "execution_count": 12,
   "metadata": {
    "scrolled": true
   },
   "outputs": [
    {
     "name": "stdout",
     "output_type": "stream",
     "text": [
      "Folder already exists.\n"
     ]
    },
    {
     "name": "stderr",
     "output_type": "stream",
     "text": [
      "C:\\Users\\FlorianLeiser\\Documents\\Masterarbeit\\Code\\Data_Processing.py:89: SettingWithCopyWarning: \n",
      "A value is trying to be set on a copy of a slice from a DataFrame.\n",
      "Try using .loc[row_indexer,col_indexer] = value instead\n",
      "\n",
      "See the caveats in the documentation: https://pandas.pydata.org/pandas-docs/stable/user_guide/indexing.html#returning-a-view-versus-a-copy\n",
      "  y['diff'] = diffs\n",
      "C:\\Users\\FlorianLeiser\\Documents\\Masterarbeit\\Code\\Data_Processing.py:89: SettingWithCopyWarning: \n",
      "A value is trying to be set on a copy of a slice from a DataFrame.\n",
      "Try using .loc[row_indexer,col_indexer] = value instead\n",
      "\n",
      "See the caveats in the documentation: https://pandas.pydata.org/pandas-docs/stable/user_guide/indexing.html#returning-a-view-versus-a-copy\n",
      "  y['diff'] = diffs\n"
     ]
    },
    {
     "name": "stdout",
     "output_type": "stream",
     "text": [
      "6495/6495 [==============================] - 54s 7ms/step - loss: 0.0135 - val_loss: 0.1099\n",
      "6495/6495 [==============================] - 38s 6ms/step - loss: 0.0069 - val_loss: 0.1074\n",
      "6495/6495 [==============================] - 40s 6ms/step - loss: 0.0056 - val_loss: 0.1350\n",
      "6495/6495 [==============================] - 39s 6ms/step - loss: 0.0055 - val_loss: 0.1319\n",
      "6495/6495 [==============================] - 38s 6ms/step - loss: 0.0056 - val_loss: 0.4898\n",
      "6495/6495 [==============================] - 38s 6ms/step - loss: 0.0053 - val_loss: 0.3166\n",
      "6495/6495 [==============================] - 38s 6ms/step - loss: 0.0056 - val_loss: 0.3857\n",
      "6495/6495 [==============================] - 37s 6ms/step - loss: 0.0054 - val_loss: 0.0676\n",
      "6495/6495 [==============================] - 37s 6ms/step - loss: 0.0057 - val_loss: 0.1153\n",
      "6495/6495 [==============================] - 37s 6ms/step - loss: 0.0060 - val_loss: 0.2469\n",
      "Epoch 10 done.\n",
      "6495/6495 [==============================] - 37s 6ms/step - loss: 0.0058 - val_loss: 0.1623\n",
      "6495/6495 [==============================] - 41s 6ms/step - loss: 0.0056 - val_loss: 0.1197\n",
      "6495/6495 [==============================] - 41s 6ms/step - loss: 0.0055 - val_loss: 0.3521\n",
      " 803/6495 [==>...........................] - ETA: 23s - loss: 0.0051"
     ]
    }
   ],
   "source": [
    "model, history, scaler_train, X_train, y_train, _, X_val, y_val = nn.train_model(ex_train, ex_val, save_folder = model_folder,\n",
    "                                                                                 difference_chosen = DIFFERENCE, lag_chosen = LAG,\n",
    "                                                                                 nmb_epochs = EPOCH, neurons_chosen = NEUR)"
   ]
  },
  {
   "cell_type": "code",
   "execution_count": null,
   "metadata": {},
   "outputs": [],
   "source": [
    "all_scaler = list()\n",
    "all_X_values = list()\n",
    "all_y_values = list()\n",
    "all_predictions = list()\n",
    "all_scaled_predictions = list()\n",
    "\n",
    "for i in range(len(experiments)):\n",
    "    scaler, X, y, preds_scaled, preds = nn.predictions(experiments[i], model,\n",
    "                                                       difference_chosen = DIFFERENCE,\n",
    "                                                       lag_chosen = LAG)\n",
    "    all_scaler.append(scaler)\n",
    "    all_X_values.append(X)\n",
    "    all_y_values.append(y)\n",
    "    all_predictions.append(preds)\n",
    "    all_scaled_predictions.append(preds_scaled)\n",
    "    \n",
    "    gf.create_prediction_plot(experiments[i]['el_power'], preds[:,0], image_folder,\n",
    "                              title = 'Using Difference as Output ',\n",
    "                             specs = 'on ex_{0} with model trained on {1}'.format(names[i], train))\n",
    "    results = gf.measure_difference(experiments[i]['el_power'], preds[:,0], should_print = False)\n",
    "    results.to_csv(image_folder + \"results_ex_{0}.csv\".format(names[i]), sep = \"|\", encoding = 'utf-8')\n",
    "    results_scaled = gf.measure_difference(y[:,0][:,0], preds_scaled[:,0], should_print = False)\n",
    "    results_scaled.to_csv(image_folder + \"results_scaled_ex_{0}.csv\".format(names[i]), sep = \"|\", encoding = 'utf-8')\n",
    "    \n",
    "    gf.create_prediction_plot(y[:,0][:,1], preds_scaled[:,1], image_folder,\n",
    "                              title = 'Difference in Power using Difference as Output ',\n",
    "                             specs = 'differences on ex_{0} with model trained on {1}'.format(names[i], train))"
   ]
  },
  {
   "cell_type": "code",
   "execution_count": null,
   "metadata": {},
   "outputs": [],
   "source": []
  }
 ],
 "metadata": {
  "kernelspec": {
   "display_name": "Python 3",
   "language": "python",
   "name": "python3"
  },
  "language_info": {
   "codemirror_mode": {
    "name": "ipython",
    "version": 3
   },
   "file_extension": ".py",
   "mimetype": "text/x-python",
   "name": "python",
   "nbconvert_exporter": "python",
   "pygments_lexer": "ipython3",
   "version": "3.8.3"
  }
 },
 "nbformat": 4,
 "nbformat_minor": 4
}
